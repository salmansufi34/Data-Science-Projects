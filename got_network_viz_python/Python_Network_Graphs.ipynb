{
 "cells": [
  {
   "cell_type": "code",
   "execution_count": 1,
   "id": "b0cf3aff",
   "metadata": {},
   "outputs": [],
   "source": [
    "import pandas as pd\n",
    "import numpy as np\n",
    "import matplotlib.pyplot as plt\n",
    "%matplotlib inline"
   ]
  },
  {
   "cell_type": "code",
   "execution_count": 2,
   "id": "574a9afc",
   "metadata": {},
   "outputs": [
    {
     "data": {
      "text/html": [
       "<div>\n",
       "<style scoped>\n",
       "    .dataframe tbody tr th:only-of-type {\n",
       "        vertical-align: middle;\n",
       "    }\n",
       "\n",
       "    .dataframe tbody tr th {\n",
       "        vertical-align: top;\n",
       "    }\n",
       "\n",
       "    .dataframe thead th {\n",
       "        text-align: right;\n",
       "    }\n",
       "</style>\n",
       "<table border=\"1\" class=\"dataframe\">\n",
       "  <thead>\n",
       "    <tr style=\"text-align: right;\">\n",
       "      <th></th>\n",
       "      <th>source</th>\n",
       "      <th>target</th>\n",
       "      <th>value</th>\n",
       "    </tr>\n",
       "  </thead>\n",
       "  <tbody>\n",
       "    <tr>\n",
       "      <th>0</th>\n",
       "      <td>azure</td>\n",
       "      <td>.net</td>\n",
       "      <td>20.933192</td>\n",
       "    </tr>\n",
       "    <tr>\n",
       "      <th>1</th>\n",
       "      <td>sql-server</td>\n",
       "      <td>.net</td>\n",
       "      <td>32.322524</td>\n",
       "    </tr>\n",
       "    <tr>\n",
       "      <th>2</th>\n",
       "      <td>asp.net</td>\n",
       "      <td>.net</td>\n",
       "      <td>48.407030</td>\n",
       "    </tr>\n",
       "    <tr>\n",
       "      <th>3</th>\n",
       "      <td>entity-framework</td>\n",
       "      <td>.net</td>\n",
       "      <td>24.370903</td>\n",
       "    </tr>\n",
       "    <tr>\n",
       "      <th>4</th>\n",
       "      <td>wpf</td>\n",
       "      <td>.net</td>\n",
       "      <td>32.350925</td>\n",
       "    </tr>\n",
       "    <tr>\n",
       "      <th>...</th>\n",
       "      <td>...</td>\n",
       "      <td>...</td>\n",
       "      <td>...</td>\n",
       "    </tr>\n",
       "    <tr>\n",
       "      <th>485</th>\n",
       "      <td>objective-c</td>\n",
       "      <td>xcode</td>\n",
       "      <td>43.418825</td>\n",
       "    </tr>\n",
       "    <tr>\n",
       "      <th>486</th>\n",
       "      <td>swift</td>\n",
       "      <td>xcode</td>\n",
       "      <td>48.620335</td>\n",
       "    </tr>\n",
       "    <tr>\n",
       "      <th>487</th>\n",
       "      <td>iphone</td>\n",
       "      <td>xcode</td>\n",
       "      <td>34.712865</td>\n",
       "    </tr>\n",
       "    <tr>\n",
       "      <th>488</th>\n",
       "      <td>ios</td>\n",
       "      <td>xcode</td>\n",
       "      <td>46.365091</td>\n",
       "    </tr>\n",
       "    <tr>\n",
       "      <th>489</th>\n",
       "      <td>json</td>\n",
       "      <td>xml</td>\n",
       "      <td>42.721668</td>\n",
       "    </tr>\n",
       "  </tbody>\n",
       "</table>\n",
       "<p>490 rows × 3 columns</p>\n",
       "</div>"
      ],
      "text/plain": [
       "               source target      value\n",
       "0               azure   .net  20.933192\n",
       "1          sql-server   .net  32.322524\n",
       "2             asp.net   .net  48.407030\n",
       "3    entity-framework   .net  24.370903\n",
       "4                 wpf   .net  32.350925\n",
       "..                ...    ...        ...\n",
       "485       objective-c  xcode  43.418825\n",
       "486             swift  xcode  48.620335\n",
       "487            iphone  xcode  34.712865\n",
       "488               ios  xcode  46.365091\n",
       "489              json    xml  42.721668\n",
       "\n",
       "[490 rows x 3 columns]"
      ]
     },
     "execution_count": 2,
     "metadata": {},
     "output_type": "execute_result"
    }
   ],
   "source": [
    "df = pd.read_csv(r'stack_network_links.csv')\n",
    "df"
   ]
  },
  {
   "cell_type": "code",
   "execution_count": 15,
   "id": "09dc7ebe",
   "metadata": {},
   "outputs": [
    {
     "data": {
      "text/html": [
       "<div>\n",
       "<style scoped>\n",
       "    .dataframe tbody tr th:only-of-type {\n",
       "        vertical-align: middle;\n",
       "    }\n",
       "\n",
       "    .dataframe tbody tr th {\n",
       "        vertical-align: top;\n",
       "    }\n",
       "\n",
       "    .dataframe thead th {\n",
       "        text-align: right;\n",
       "    }\n",
       "</style>\n",
       "<table border=\"1\" class=\"dataframe\">\n",
       "  <thead>\n",
       "    <tr style=\"text-align: right;\">\n",
       "      <th></th>\n",
       "      <th>source</th>\n",
       "      <th>target</th>\n",
       "      <th>value</th>\n",
       "    </tr>\n",
       "  </thead>\n",
       "  <tbody>\n",
       "    <tr>\n",
       "      <th>1</th>\n",
       "      <td>sql-server</td>\n",
       "      <td>.net</td>\n",
       "      <td>32.322524</td>\n",
       "    </tr>\n",
       "    <tr>\n",
       "      <th>2</th>\n",
       "      <td>asp.net</td>\n",
       "      <td>.net</td>\n",
       "      <td>48.407030</td>\n",
       "    </tr>\n",
       "    <tr>\n",
       "      <th>4</th>\n",
       "      <td>wpf</td>\n",
       "      <td>.net</td>\n",
       "      <td>32.350925</td>\n",
       "    </tr>\n",
       "    <tr>\n",
       "      <th>7</th>\n",
       "      <td>c#</td>\n",
       "      <td>.net</td>\n",
       "      <td>62.167895</td>\n",
       "    </tr>\n",
       "    <tr>\n",
       "      <th>8</th>\n",
       "      <td>tdd</td>\n",
       "      <td>agile</td>\n",
       "      <td>37.146590</td>\n",
       "    </tr>\n",
       "    <tr>\n",
       "      <th>...</th>\n",
       "      <td>...</td>\n",
       "      <td>...</td>\n",
       "      <td>...</td>\n",
       "    </tr>\n",
       "    <tr>\n",
       "      <th>485</th>\n",
       "      <td>objective-c</td>\n",
       "      <td>xcode</td>\n",
       "      <td>43.418825</td>\n",
       "    </tr>\n",
       "    <tr>\n",
       "      <th>486</th>\n",
       "      <td>swift</td>\n",
       "      <td>xcode</td>\n",
       "      <td>48.620335</td>\n",
       "    </tr>\n",
       "    <tr>\n",
       "      <th>487</th>\n",
       "      <td>iphone</td>\n",
       "      <td>xcode</td>\n",
       "      <td>34.712865</td>\n",
       "    </tr>\n",
       "    <tr>\n",
       "      <th>488</th>\n",
       "      <td>ios</td>\n",
       "      <td>xcode</td>\n",
       "      <td>46.365091</td>\n",
       "    </tr>\n",
       "    <tr>\n",
       "      <th>489</th>\n",
       "      <td>json</td>\n",
       "      <td>xml</td>\n",
       "      <td>42.721668</td>\n",
       "    </tr>\n",
       "  </tbody>\n",
       "</table>\n",
       "<p>226 rows × 3 columns</p>\n",
       "</div>"
      ],
      "text/plain": [
       "          source target      value\n",
       "1     sql-server   .net  32.322524\n",
       "2        asp.net   .net  48.407030\n",
       "4            wpf   .net  32.350925\n",
       "7             c#   .net  62.167895\n",
       "8            tdd  agile  37.146590\n",
       "..           ...    ...        ...\n",
       "485  objective-c  xcode  43.418825\n",
       "486        swift  xcode  48.620335\n",
       "487       iphone  xcode  34.712865\n",
       "488          ios  xcode  46.365091\n",
       "489         json    xml  42.721668\n",
       "\n",
       "[226 rows x 3 columns]"
      ]
     },
     "execution_count": 15,
     "metadata": {},
     "output_type": "execute_result"
    }
   ],
   "source": [
    "df = df.loc[df['value']>30,:]\n",
    "df"
   ]
  },
  {
   "cell_type": "code",
   "execution_count": 16,
   "id": "eaad5d8a",
   "metadata": {},
   "outputs": [
    {
     "name": "stdout",
     "output_type": "stream",
     "text": [
      "No. of unique characters: 84\n",
      "No. of unique connections: 113\n"
     ]
    }
   ],
   "source": [
    "import networkx as nx\n",
    "G = nx.from_pandas_edgelist(df,\n",
    "                           source = 'source',\n",
    "                           target = 'target',\n",
    "                           edge_attr = 'value')\n",
    "print(\"No. of unique characters:\", len(G.nodes))\n",
    "print(\"No. of unique connections:\", len(G.edges))"
   ]
  },
  {
   "cell_type": "code",
   "execution_count": 17,
   "id": "8d4a34e9",
   "metadata": {},
   "outputs": [
    {
     "data": {
      "image/png": "[encoded data removed]",
      "text/plain": [
       "<Figure size 800x600 with 1 Axes>"
      ]
     },
     "metadata": {},
     "output_type": "display_data"
    }
   ],
   "source": [
    "# all graph options\n",
    "graphs_viz_options = [nx.draw, nx.draw_networkx, nx.draw_circular, nx.draw_kamada_kawai, nx.draw_random, nx.draw_shell, nx.draw_spring]\n",
    "\n",
    "# plot graph option\n",
    "selected_graph_option = 0\n",
    "\n",
    "# plot\n",
    "plt.figure(figsize=(8,6), dpi=100) \n",
    "graphs_viz_options[selected_graph_option](G)"
   ]
  },
  {
   "cell_type": "code",
   "execution_count": 10,
   "id": "71e88246",
   "metadata": {},
   "outputs": [
    {
     "name": "stdout",
     "output_type": "stream",
     "text": [
      "Collecting pyvis\n",
      "  Downloading pyvis-0.2.1.tar.gz (21 kB)\n",
      "Requirement already satisfied: jinja2>=2.9.6 in c:\\users\\salma\\anaconda3\\lib\\site-packages (from pyvis) (2.11.3)\n",
      "Requirement already satisfied: networkx>=1.11 in c:\\users\\salma\\anaconda3\\lib\\site-packages (from pyvis) (2.6.3)\n",
      "Note: you may need to restart the kernel to use updated packages.\n",
      "Requirement already satisfied: ipython>=5.3.0 in c:\\users\\salma\\anaconda3\\lib\\site-packages (from pyvis) (7.29.0)\n",
      "Collecting jsonpickle>=1.4.1\n",
      "  Downloading jsonpickle-2.2.0-py2.py3-none-any.whl (39 kB)\n",
      "Requirement already satisfied: prompt-toolkit!=3.0.0,!=3.0.1,<3.1.0,>=2.0.0 in c:\\users\\salma\\anaconda3\\lib\\site-packages (from ipython>=5.3.0->pyvis) (3.0.20)\n",
      "Requirement already satisfied: colorama in c:\\users\\salma\\anaconda3\\lib\\site-packages (from ipython>=5.3.0->pyvis) (0.4.4)\n",
      "Requirement already satisfied: pickleshare in c:\\users\\salma\\anaconda3\\lib\\site-packages (from ipython>=5.3.0->pyvis) (0.7.5)\n",
      "Requirement already satisfied: jedi>=0.16 in c:\\users\\salma\\anaconda3\\lib\\site-packages (from ipython>=5.3.0->pyvis) (0.18.0)\n",
      "Requirement already satisfied: traitlets>=4.2 in c:\\users\\salma\\anaconda3\\lib\\site-packages (from ipython>=5.3.0->pyvis) (5.1.0)\n",
      "Requirement already satisfied: decorator in c:\\users\\salma\\anaconda3\\lib\\site-packages (from ipython>=5.3.0->pyvis) (5.1.0)\n",
      "Requirement already satisfied: backcall in c:\\users\\salma\\anaconda3\\lib\\site-packages (from ipython>=5.3.0->pyvis) (0.2.0)\n",
      "Requirement already satisfied: pygments in c:\\users\\salma\\anaconda3\\lib\\site-packages (from ipython>=5.3.0->pyvis) (2.10.0)\n",
      "Requirement already satisfied: matplotlib-inline in c:\\users\\salma\\anaconda3\\lib\\site-packages (from ipython>=5.3.0->pyvis) (0.1.2)\n",
      "Requirement already satisfied: setuptools>=18.5 in c:\\users\\salma\\anaconda3\\lib\\site-packages (from ipython>=5.3.0->pyvis) (58.0.4)\n",
      "Requirement already satisfied: parso<0.9.0,>=0.8.0 in c:\\users\\salma\\anaconda3\\lib\\site-packages (from jedi>=0.16->ipython>=5.3.0->pyvis) (0.8.2)\n",
      "Requirement already satisfied: MarkupSafe>=0.23 in c:\\users\\salma\\anaconda3\\lib\\site-packages (from jinja2>=2.9.6->pyvis) (1.1.1)\n",
      "Requirement already satisfied: wcwidth in c:\\users\\salma\\anaconda3\\lib\\site-packages (from prompt-toolkit!=3.0.0,!=3.0.1,<3.1.0,>=2.0.0->ipython>=5.3.0->pyvis) (0.2.5)\n",
      "Building wheels for collected packages: pyvis\n",
      "  Building wheel for pyvis (setup.py): started\n",
      "  Building wheel for pyvis (setup.py): finished with status 'done'\n",
      "  Created wheel for pyvis: filename=pyvis-0.2.1-py3-none-any.whl size=23688 sha256=fec1840dbdb4eac99731b881798069e5245fa831ba814dabe3b57b495cb17da0\n",
      "  Stored in directory: c:\\users\\salma\\appdata\\local\\pip\\cache\\wheels\\05\\fb\\37\\c8dfe38ad21c8cc91f40a0f9e0196cfdd4534e817d0416a0ae\n",
      "Successfully built pyvis\n",
      "Installing collected packages: jsonpickle, pyvis\n",
      "Successfully installed jsonpickle-2.2.0 pyvis-0.2.1\n"
     ]
    }
   ],
   "source": [
    "pip install pyvis"
   ]
  },
  {
   "cell_type": "code",
   "execution_count": 18,
   "id": "ced1a67e",
   "metadata": {},
   "outputs": [
    {
     "data": {
      "text/html": [
       "\n",
       "        <iframe\n",
       "            width=\"1000\"\n",
       "            height=\"600\"\n",
       "            src=\"example.html\"\n",
       "            frameborder=\"0\"\n",
       "            allowfullscreen\n",
       "            \n",
       "        ></iframe>\n",
       "        "
      ],
      "text/plain": [
       "<IPython.lib.display.IFrame at 0x192400b8100>"
      ]
     },
     "execution_count": 18,
     "metadata": {},
     "output_type": "execute_result"
    }
   ],
   "source": [
    "#Option 2 PyVis\n",
    "from pyvis.network import Network\n",
    "net = Network(notebook=True, width=1000, height=600)\n",
    "net.from_nx(G)\n",
    "net.show(\"example.html\")"
   ]
  },
  {
   "cell_type": "code",
   "execution_count": null,
   "id": "28841e0c",
   "metadata": {},
   "outputs": [],
   "source": []
  }
 ],
 "metadata": {
  "kernelspec": {
   "display_name": "Python 3 (ipykernel)",
   "language": "python",
   "name": "python3"
  },
  "language_info": {
   "codemirror_mode": {
    "name": "ipython",
    "version": 3
   },
   "file_extension": ".py",
   "mimetype": "text/x-python",
   "name": "python",
   "nbconvert_exporter": "python",
   "pygments_lexer": "ipython3",
   "version": "3.9.7"
  }
 },
 "nbformat": 4,
 "nbformat_minor": 5
}
