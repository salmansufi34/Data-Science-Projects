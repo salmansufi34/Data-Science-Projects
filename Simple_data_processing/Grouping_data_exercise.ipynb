{
 "cells": [
  {
   "cell_type": "markdown",
   "id": "92db3013",
   "metadata": {},
   "source": [
    "### Credit Card Transactions EDA\n",
    "\n",
    "&nbsp;\n",
    "&nbsp;\n",
    "\n",
    "\n",
    "Take home test. Organize the data and give an understanding of how sticky these users are. Stickiness is to\n",
    "be measured by # of weekly transactions and weeks actively transacting.\n",
    "Identify the top 10 users of the group in terms of:\n",
    "\n",
    "* **Average transactions per active week**\n",
    " \n",
    "* **Weeks actively transacting**\n",
    "\n",
    "\n",
    "Present the results in the way you think it’s most appropriate and easiest to digest."
   ]
  },
  {
   "cell_type": "markdown",
   "id": "dc79d5aa",
   "metadata": {},
   "source": [
    "Analyze the credit cycle of the top 10 users. Understand if they are more on the lending or\n",
    "borrowing side. How financially exposed they are.\n",
    "\n",
    "From your discoveries make assumptions on what type of business they are running.\n",
    "Suppliers, wholesalers, retailers etc. and justify your answers.\n",
    "\n",
    "**Github performs a static render of the notebooks and it doesn't include the embedded HTML/JavaScript that makes up a plotly graph, so cannot show over github it's interactive capabilities right now.**"
   ]
  },
  {
   "cell_type": "code",
   "execution_count": 1,
   "id": "58e29faa",
   "metadata": {},
   "outputs": [],
   "source": [
    "import pandas as pd\n",
    "import numpy as np\n",
    "import plotly.express as px"
   ]
  },
  {
   "cell_type": "code",
   "execution_count": 2,
   "id": "95637602",
   "metadata": {},
   "outputs": [],
   "source": [
    "df = pd.read_csv(r'dataset.csv')"
   ]
  },
  {
   "cell_type": "code",
   "execution_count": 3,
   "id": "5b23c2ad",
   "metadata": {},
   "outputs": [
    {
     "data": {
      "text/html": [
       "<div>\n",
       "<style scoped>\n",
       "    .dataframe tbody tr th:only-of-type {\n",
       "        vertical-align: middle;\n",
       "    }\n",
       "\n",
       "    .dataframe tbody tr th {\n",
       "        vertical-align: top;\n",
       "    }\n",
       "\n",
       "    .dataframe thead th {\n",
       "        text-align: right;\n",
       "    }\n",
       "</style>\n",
       "<table border=\"1\" class=\"dataframe\">\n",
       "  <thead>\n",
       "    <tr style=\"text-align: right;\">\n",
       "      <th></th>\n",
       "      <th>user_id</th>\n",
       "      <th>customer_id</th>\n",
       "      <th>transaction_amount</th>\n",
       "      <th>transaction_type</th>\n",
       "      <th>transaction_date</th>\n",
       "    </tr>\n",
       "  </thead>\n",
       "  <tbody>\n",
       "    <tr>\n",
       "      <th>0</th>\n",
       "      <td>378a4c00-20d5-4fa6-8d12-38b2ef646e5b</td>\n",
       "      <td>0Ho1KALyH5kXuU65dORt</td>\n",
       "      <td>15440.0</td>\n",
       "      <td>debit</td>\n",
       "      <td>2020-09-08</td>\n",
       "    </tr>\n",
       "    <tr>\n",
       "      <th>1</th>\n",
       "      <td>378a4c00-20d5-4fa6-8d12-38b2ef646e5b</td>\n",
       "      <td>0Ho1KALyH5kXuU65dORt</td>\n",
       "      <td>1560.0</td>\n",
       "      <td>debit</td>\n",
       "      <td>2021-05-05</td>\n",
       "    </tr>\n",
       "    <tr>\n",
       "      <th>2</th>\n",
       "      <td>ITntqIFk6zdrmI6Q4O0wEmqvnAP2</td>\n",
       "      <td>0JwwbTxOhvO3Az2HgPET</td>\n",
       "      <td>65750.0</td>\n",
       "      <td>debit</td>\n",
       "      <td>2020-09-14</td>\n",
       "    </tr>\n",
       "    <tr>\n",
       "      <th>3</th>\n",
       "      <td>ITntqIFk6zdrmI6Q4O0wEmqvnAP2</td>\n",
       "      <td>0JwwbTxOhvO3Az2HgPET</td>\n",
       "      <td>18000.0</td>\n",
       "      <td>debit</td>\n",
       "      <td>2020-09-15</td>\n",
       "    </tr>\n",
       "    <tr>\n",
       "      <th>4</th>\n",
       "      <td>ITntqIFk6zdrmI6Q4O0wEmqvnAP2</td>\n",
       "      <td>0JwwbTxOhvO3Az2HgPET</td>\n",
       "      <td>16000.0</td>\n",
       "      <td>debit</td>\n",
       "      <td>2020-09-19</td>\n",
       "    </tr>\n",
       "    <tr>\n",
       "      <th>...</th>\n",
       "      <td>...</td>\n",
       "      <td>...</td>\n",
       "      <td>...</td>\n",
       "      <td>...</td>\n",
       "      <td>...</td>\n",
       "    </tr>\n",
       "    <tr>\n",
       "      <th>18429</th>\n",
       "      <td>05be2ebb-6be0-4016-bcf0-e6cf77ea24c9</td>\n",
       "      <td>ff894537-5af4-4f80-95af-47582d7c068c</td>\n",
       "      <td>100000.0</td>\n",
       "      <td>credit</td>\n",
       "      <td>2021-08-22</td>\n",
       "    </tr>\n",
       "    <tr>\n",
       "      <th>18430</th>\n",
       "      <td>05be2ebb-6be0-4016-bcf0-e6cf77ea24c9</td>\n",
       "      <td>ff894537-5af4-4f80-95af-47582d7c068c</td>\n",
       "      <td>100000.0</td>\n",
       "      <td>credit</td>\n",
       "      <td>2021-07-19</td>\n",
       "    </tr>\n",
       "    <tr>\n",
       "      <th>18431</th>\n",
       "      <td>4c49a7df-9c23-4f2d-8249-1fe60f6d7b25</td>\n",
       "      <td>ffdf97a2-d044-42cf-98e8-410e95f9676a</td>\n",
       "      <td>8000.0</td>\n",
       "      <td>credit</td>\n",
       "      <td>2021-05-18</td>\n",
       "    </tr>\n",
       "    <tr>\n",
       "      <th>18432</th>\n",
       "      <td>4c49a7df-9c23-4f2d-8249-1fe60f6d7b25</td>\n",
       "      <td>ffdf97a2-d044-42cf-98e8-410e95f9676a</td>\n",
       "      <td>4080.0</td>\n",
       "      <td>credit</td>\n",
       "      <td>2021-05-21</td>\n",
       "    </tr>\n",
       "    <tr>\n",
       "      <th>18433</th>\n",
       "      <td>a596a204-79e6-4670-b1aa-baeaa70041c8</td>\n",
       "      <td>ffe04387-178b-428f-978d-6fb357bf80f4</td>\n",
       "      <td>60000.0</td>\n",
       "      <td>credit</td>\n",
       "      <td>2021-06-21</td>\n",
       "    </tr>\n",
       "  </tbody>\n",
       "</table>\n",
       "<p>18434 rows × 5 columns</p>\n",
       "</div>"
      ],
      "text/plain": [
       "                                    user_id  \\\n",
       "0      378a4c00-20d5-4fa6-8d12-38b2ef646e5b   \n",
       "1      378a4c00-20d5-4fa6-8d12-38b2ef646e5b   \n",
       "2              ITntqIFk6zdrmI6Q4O0wEmqvnAP2   \n",
       "3              ITntqIFk6zdrmI6Q4O0wEmqvnAP2   \n",
       "4              ITntqIFk6zdrmI6Q4O0wEmqvnAP2   \n",
       "...                                     ...   \n",
       "18429  05be2ebb-6be0-4016-bcf0-e6cf77ea24c9   \n",
       "18430  05be2ebb-6be0-4016-bcf0-e6cf77ea24c9   \n",
       "18431  4c49a7df-9c23-4f2d-8249-1fe60f6d7b25   \n",
       "18432  4c49a7df-9c23-4f2d-8249-1fe60f6d7b25   \n",
       "18433  a596a204-79e6-4670-b1aa-baeaa70041c8   \n",
       "\n",
       "                                customer_id  transaction_amount  \\\n",
       "0                      0Ho1KALyH5kXuU65dORt             15440.0   \n",
       "1                      0Ho1KALyH5kXuU65dORt              1560.0   \n",
       "2                      0JwwbTxOhvO3Az2HgPET             65750.0   \n",
       "3                      0JwwbTxOhvO3Az2HgPET             18000.0   \n",
       "4                      0JwwbTxOhvO3Az2HgPET             16000.0   \n",
       "...                                     ...                 ...   \n",
       "18429  ff894537-5af4-4f80-95af-47582d7c068c            100000.0   \n",
       "18430  ff894537-5af4-4f80-95af-47582d7c068c            100000.0   \n",
       "18431  ffdf97a2-d044-42cf-98e8-410e95f9676a              8000.0   \n",
       "18432  ffdf97a2-d044-42cf-98e8-410e95f9676a              4080.0   \n",
       "18433  ffe04387-178b-428f-978d-6fb357bf80f4             60000.0   \n",
       "\n",
       "      transaction_type transaction_date  \n",
       "0                debit       2020-09-08  \n",
       "1                debit       2021-05-05  \n",
       "2                debit       2020-09-14  \n",
       "3                debit       2020-09-15  \n",
       "4                debit       2020-09-19  \n",
       "...                ...              ...  \n",
       "18429           credit       2021-08-22  \n",
       "18430           credit       2021-07-19  \n",
       "18431           credit       2021-05-18  \n",
       "18432           credit       2021-05-21  \n",
       "18433           credit       2021-06-21  \n",
       "\n",
       "[18434 rows x 5 columns]"
      ]
     },
     "execution_count": 3,
     "metadata": {},
     "output_type": "execute_result"
    }
   ],
   "source": [
    "df"
   ]
  },
  {
   "cell_type": "code",
   "execution_count": 4,
   "id": "57b2a7bb",
   "metadata": {},
   "outputs": [
    {
     "data": {
      "text/plain": [
       "False"
      ]
     },
     "execution_count": 4,
     "metadata": {},
     "output_type": "execute_result"
    }
   ],
   "source": [
    "a = df['transaction_amount']\n",
    "a.isnull().values.any()#to see if the data, specifically financials, has any null values"
   ]
  },
  {
   "cell_type": "markdown",
   "id": "302c877a",
   "metadata": {},
   "source": [
    "* *Assign a number to each week of the year to ease weekly calculations*"
   ]
  },
  {
   "cell_type": "code",
   "execution_count": 5,
   "id": "49a67597",
   "metadata": {},
   "outputs": [
    {
     "name": "stdout",
     "output_type": "stream",
     "text": [
      "2015-01-01\n",
      "2021-09-09\n"
     ]
    }
   ],
   "source": [
    "date_a = df['transaction_date'].min()\n",
    "date_z = df['transaction_date'].max()\n",
    "print(date_a)\n",
    "print(date_z)"
   ]
  },
  {
   "cell_type": "code",
   "execution_count": 6,
   "id": "eeb1fd99",
   "metadata": {},
   "outputs": [
    {
     "data": {
      "text/plain": [
       "'2020-09-08'"
      ]
     },
     "execution_count": 6,
     "metadata": {},
     "output_type": "execute_result"
    }
   ],
   "source": [
    "df['transaction_date'][0]"
   ]
  },
  {
   "cell_type": "code",
   "execution_count": 7,
   "id": "468cb572",
   "metadata": {},
   "outputs": [
    {
     "data": {
      "text/plain": [
       "18434"
      ]
     },
     "execution_count": 7,
     "metadata": {},
     "output_type": "execute_result"
    }
   ],
   "source": [
    "len(df.index)"
   ]
  },
  {
   "cell_type": "code",
   "execution_count": 8,
   "id": "429df715",
   "metadata": {},
   "outputs": [],
   "source": [
    "#create false column in the dataset to replace values with real data\n",
    "df['Zodiac'] = np.zeros(18434)"
   ]
  },
  {
   "cell_type": "markdown",
   "id": "aa4b44f7",
   "metadata": {},
   "source": [
    "* *Creating a function for the \"Weeks\" column*"
   ]
  },
  {
   "cell_type": "code",
   "execution_count": 9,
   "id": "91b0a0af",
   "metadata": {},
   "outputs": [],
   "source": [
    "import datetime\n",
    "def date_to_week_no(date_a):\n",
    "    dt = datetime.date(int(date_a[:4]), int(date_a[5:7]), int(date_a[-2:])).strftime(\"%V\")#\n",
    "    return dt\n"
   ]
  },
  {
   "cell_type": "code",
   "execution_count": 10,
   "id": "eefc658c",
   "metadata": {},
   "outputs": [
    {
     "name": "stderr",
     "output_type": "stream",
     "text": [
      "C:\\Users\\salma\\AppData\\Local\\Temp/ipykernel_33188/3506699617.py:2: SettingWithCopyWarning: \n",
      "A value is trying to be set on a copy of a slice from a DataFrame\n",
      "\n",
      "See the caveats in the documentation: https://pandas.pydata.org/pandas-docs/stable/user_guide/indexing.html#returning-a-view-versus-a-copy\n",
      "  df['Zodiac'][d] = date_to_week_no(df['transaction_date'][d])\n"
     ]
    }
   ],
   "source": [
    "for d in range(0,18434):\n",
    "    df['Zodiac'][d] = date_to_week_no(df['transaction_date'][d])\n",
    "    "
   ]
  },
  {
   "cell_type": "code",
   "execution_count": 11,
   "id": "bd349a0e",
   "metadata": {},
   "outputs": [
    {
     "data": {
      "text/html": [
       "<div>\n",
       "<style scoped>\n",
       "    .dataframe tbody tr th:only-of-type {\n",
       "        vertical-align: middle;\n",
       "    }\n",
       "\n",
       "    .dataframe tbody tr th {\n",
       "        vertical-align: top;\n",
       "    }\n",
       "\n",
       "    .dataframe thead th {\n",
       "        text-align: right;\n",
       "    }\n",
       "</style>\n",
       "<table border=\"1\" class=\"dataframe\">\n",
       "  <thead>\n",
       "    <tr style=\"text-align: right;\">\n",
       "      <th></th>\n",
       "      <th>user_id</th>\n",
       "      <th>customer_id</th>\n",
       "      <th>transaction_amount</th>\n",
       "      <th>transaction_type</th>\n",
       "      <th>transaction_date</th>\n",
       "      <th>Week No.</th>\n",
       "    </tr>\n",
       "  </thead>\n",
       "  <tbody>\n",
       "    <tr>\n",
       "      <th>0</th>\n",
       "      <td>378a4c00-20d5-4fa6-8d12-38b2ef646e5b</td>\n",
       "      <td>0Ho1KALyH5kXuU65dORt</td>\n",
       "      <td>15440.0</td>\n",
       "      <td>debit</td>\n",
       "      <td>2020-09-08</td>\n",
       "      <td>37.0</td>\n",
       "    </tr>\n",
       "    <tr>\n",
       "      <th>1</th>\n",
       "      <td>378a4c00-20d5-4fa6-8d12-38b2ef646e5b</td>\n",
       "      <td>0Ho1KALyH5kXuU65dORt</td>\n",
       "      <td>1560.0</td>\n",
       "      <td>debit</td>\n",
       "      <td>2021-05-05</td>\n",
       "      <td>18.0</td>\n",
       "    </tr>\n",
       "    <tr>\n",
       "      <th>2</th>\n",
       "      <td>ITntqIFk6zdrmI6Q4O0wEmqvnAP2</td>\n",
       "      <td>0JwwbTxOhvO3Az2HgPET</td>\n",
       "      <td>65750.0</td>\n",
       "      <td>debit</td>\n",
       "      <td>2020-09-14</td>\n",
       "      <td>38.0</td>\n",
       "    </tr>\n",
       "    <tr>\n",
       "      <th>3</th>\n",
       "      <td>ITntqIFk6zdrmI6Q4O0wEmqvnAP2</td>\n",
       "      <td>0JwwbTxOhvO3Az2HgPET</td>\n",
       "      <td>18000.0</td>\n",
       "      <td>debit</td>\n",
       "      <td>2020-09-15</td>\n",
       "      <td>38.0</td>\n",
       "    </tr>\n",
       "    <tr>\n",
       "      <th>4</th>\n",
       "      <td>ITntqIFk6zdrmI6Q4O0wEmqvnAP2</td>\n",
       "      <td>0JwwbTxOhvO3Az2HgPET</td>\n",
       "      <td>16000.0</td>\n",
       "      <td>debit</td>\n",
       "      <td>2020-09-19</td>\n",
       "      <td>38.0</td>\n",
       "    </tr>\n",
       "    <tr>\n",
       "      <th>...</th>\n",
       "      <td>...</td>\n",
       "      <td>...</td>\n",
       "      <td>...</td>\n",
       "      <td>...</td>\n",
       "      <td>...</td>\n",
       "      <td>...</td>\n",
       "    </tr>\n",
       "    <tr>\n",
       "      <th>18429</th>\n",
       "      <td>05be2ebb-6be0-4016-bcf0-e6cf77ea24c9</td>\n",
       "      <td>ff894537-5af4-4f80-95af-47582d7c068c</td>\n",
       "      <td>100000.0</td>\n",
       "      <td>credit</td>\n",
       "      <td>2021-08-22</td>\n",
       "      <td>33.0</td>\n",
       "    </tr>\n",
       "    <tr>\n",
       "      <th>18430</th>\n",
       "      <td>05be2ebb-6be0-4016-bcf0-e6cf77ea24c9</td>\n",
       "      <td>ff894537-5af4-4f80-95af-47582d7c068c</td>\n",
       "      <td>100000.0</td>\n",
       "      <td>credit</td>\n",
       "      <td>2021-07-19</td>\n",
       "      <td>29.0</td>\n",
       "    </tr>\n",
       "    <tr>\n",
       "      <th>18431</th>\n",
       "      <td>4c49a7df-9c23-4f2d-8249-1fe60f6d7b25</td>\n",
       "      <td>ffdf97a2-d044-42cf-98e8-410e95f9676a</td>\n",
       "      <td>8000.0</td>\n",
       "      <td>credit</td>\n",
       "      <td>2021-05-18</td>\n",
       "      <td>20.0</td>\n",
       "    </tr>\n",
       "    <tr>\n",
       "      <th>18432</th>\n",
       "      <td>4c49a7df-9c23-4f2d-8249-1fe60f6d7b25</td>\n",
       "      <td>ffdf97a2-d044-42cf-98e8-410e95f9676a</td>\n",
       "      <td>4080.0</td>\n",
       "      <td>credit</td>\n",
       "      <td>2021-05-21</td>\n",
       "      <td>20.0</td>\n",
       "    </tr>\n",
       "    <tr>\n",
       "      <th>18433</th>\n",
       "      <td>a596a204-79e6-4670-b1aa-baeaa70041c8</td>\n",
       "      <td>ffe04387-178b-428f-978d-6fb357bf80f4</td>\n",
       "      <td>60000.0</td>\n",
       "      <td>credit</td>\n",
       "      <td>2021-06-21</td>\n",
       "      <td>25.0</td>\n",
       "    </tr>\n",
       "  </tbody>\n",
       "</table>\n",
       "<p>18434 rows × 6 columns</p>\n",
       "</div>"
      ],
      "text/plain": [
       "                                    user_id  \\\n",
       "0      378a4c00-20d5-4fa6-8d12-38b2ef646e5b   \n",
       "1      378a4c00-20d5-4fa6-8d12-38b2ef646e5b   \n",
       "2              ITntqIFk6zdrmI6Q4O0wEmqvnAP2   \n",
       "3              ITntqIFk6zdrmI6Q4O0wEmqvnAP2   \n",
       "4              ITntqIFk6zdrmI6Q4O0wEmqvnAP2   \n",
       "...                                     ...   \n",
       "18429  05be2ebb-6be0-4016-bcf0-e6cf77ea24c9   \n",
       "18430  05be2ebb-6be0-4016-bcf0-e6cf77ea24c9   \n",
       "18431  4c49a7df-9c23-4f2d-8249-1fe60f6d7b25   \n",
       "18432  4c49a7df-9c23-4f2d-8249-1fe60f6d7b25   \n",
       "18433  a596a204-79e6-4670-b1aa-baeaa70041c8   \n",
       "\n",
       "                                customer_id  transaction_amount  \\\n",
       "0                      0Ho1KALyH5kXuU65dORt             15440.0   \n",
       "1                      0Ho1KALyH5kXuU65dORt              1560.0   \n",
       "2                      0JwwbTxOhvO3Az2HgPET             65750.0   \n",
       "3                      0JwwbTxOhvO3Az2HgPET             18000.0   \n",
       "4                      0JwwbTxOhvO3Az2HgPET             16000.0   \n",
       "...                                     ...                 ...   \n",
       "18429  ff894537-5af4-4f80-95af-47582d7c068c            100000.0   \n",
       "18430  ff894537-5af4-4f80-95af-47582d7c068c            100000.0   \n",
       "18431  ffdf97a2-d044-42cf-98e8-410e95f9676a              8000.0   \n",
       "18432  ffdf97a2-d044-42cf-98e8-410e95f9676a              4080.0   \n",
       "18433  ffe04387-178b-428f-978d-6fb357bf80f4             60000.0   \n",
       "\n",
       "      transaction_type transaction_date  Week No.  \n",
       "0                debit       2020-09-08      37.0  \n",
       "1                debit       2021-05-05      18.0  \n",
       "2                debit       2020-09-14      38.0  \n",
       "3                debit       2020-09-15      38.0  \n",
       "4                debit       2020-09-19      38.0  \n",
       "...                ...              ...       ...  \n",
       "18429           credit       2021-08-22      33.0  \n",
       "18430           credit       2021-07-19      29.0  \n",
       "18431           credit       2021-05-18      20.0  \n",
       "18432           credit       2021-05-21      20.0  \n",
       "18433           credit       2021-06-21      25.0  \n",
       "\n",
       "[18434 rows x 6 columns]"
      ]
     },
     "execution_count": 11,
     "metadata": {},
     "output_type": "execute_result"
    }
   ],
   "source": [
    "df.rename(columns = {'Zodiac':'Week No.'},inplace = True)#Rename to a more obvious label\n",
    "\n",
    "df #Dataframe FINAL FORM"
   ]
  },
  {
   "cell_type": "code",
   "execution_count": 12,
   "id": "7584a764",
   "metadata": {},
   "outputs": [
    {
     "data": {
      "text/plain": [
       "user_id               False\n",
       "customer_id           False\n",
       "transaction_amount    False\n",
       "transaction_type      False\n",
       "transaction_date      False\n",
       "Week No.              False\n",
       "dtype: bool"
      ]
     },
     "execution_count": 12,
     "metadata": {},
     "output_type": "execute_result"
    }
   ],
   "source": [
    "df.isna().any()#no null values"
   ]
  },
  {
   "cell_type": "code",
   "execution_count": 13,
   "id": "fbc6159a",
   "metadata": {},
   "outputs": [
    {
     "data": {
      "text/html": [
       "<div>\n",
       "<style scoped>\n",
       "    .dataframe tbody tr th:only-of-type {\n",
       "        vertical-align: middle;\n",
       "    }\n",
       "\n",
       "    .dataframe tbody tr th {\n",
       "        vertical-align: top;\n",
       "    }\n",
       "\n",
       "    .dataframe thead th {\n",
       "        text-align: right;\n",
       "    }\n",
       "</style>\n",
       "<table border=\"1\" class=\"dataframe\">\n",
       "  <thead>\n",
       "    <tr style=\"text-align: right;\">\n",
       "      <th></th>\n",
       "      <th>user_id</th>\n",
       "      <th>customer_id</th>\n",
       "      <th>transaction_amount</th>\n",
       "      <th>transaction_type</th>\n",
       "      <th>transaction_date</th>\n",
       "      <th>Week No.</th>\n",
       "    </tr>\n",
       "  </thead>\n",
       "  <tbody>\n",
       "    <tr>\n",
       "      <th>0</th>\n",
       "      <td>378a4c00-20d5-4fa6-8d12-38b2ef646e5b</td>\n",
       "      <td>0Ho1KALyH5kXuU65dORt</td>\n",
       "      <td>15440.0</td>\n",
       "      <td>debit</td>\n",
       "      <td>2020-09-08</td>\n",
       "      <td>37.0</td>\n",
       "    </tr>\n",
       "    <tr>\n",
       "      <th>1</th>\n",
       "      <td>378a4c00-20d5-4fa6-8d12-38b2ef646e5b</td>\n",
       "      <td>0Ho1KALyH5kXuU65dORt</td>\n",
       "      <td>1560.0</td>\n",
       "      <td>debit</td>\n",
       "      <td>2021-05-05</td>\n",
       "      <td>18.0</td>\n",
       "    </tr>\n",
       "    <tr>\n",
       "      <th>2</th>\n",
       "      <td>ITntqIFk6zdrmI6Q4O0wEmqvnAP2</td>\n",
       "      <td>0JwwbTxOhvO3Az2HgPET</td>\n",
       "      <td>65750.0</td>\n",
       "      <td>debit</td>\n",
       "      <td>2020-09-14</td>\n",
       "      <td>38.0</td>\n",
       "    </tr>\n",
       "    <tr>\n",
       "      <th>3</th>\n",
       "      <td>ITntqIFk6zdrmI6Q4O0wEmqvnAP2</td>\n",
       "      <td>0JwwbTxOhvO3Az2HgPET</td>\n",
       "      <td>18000.0</td>\n",
       "      <td>debit</td>\n",
       "      <td>2020-09-15</td>\n",
       "      <td>38.0</td>\n",
       "    </tr>\n",
       "    <tr>\n",
       "      <th>4</th>\n",
       "      <td>ITntqIFk6zdrmI6Q4O0wEmqvnAP2</td>\n",
       "      <td>0JwwbTxOhvO3Az2HgPET</td>\n",
       "      <td>16000.0</td>\n",
       "      <td>debit</td>\n",
       "      <td>2020-09-19</td>\n",
       "      <td>38.0</td>\n",
       "    </tr>\n",
       "    <tr>\n",
       "      <th>...</th>\n",
       "      <td>...</td>\n",
       "      <td>...</td>\n",
       "      <td>...</td>\n",
       "      <td>...</td>\n",
       "      <td>...</td>\n",
       "      <td>...</td>\n",
       "    </tr>\n",
       "    <tr>\n",
       "      <th>18429</th>\n",
       "      <td>05be2ebb-6be0-4016-bcf0-e6cf77ea24c9</td>\n",
       "      <td>ff894537-5af4-4f80-95af-47582d7c068c</td>\n",
       "      <td>100000.0</td>\n",
       "      <td>credit</td>\n",
       "      <td>2021-08-22</td>\n",
       "      <td>33.0</td>\n",
       "    </tr>\n",
       "    <tr>\n",
       "      <th>18430</th>\n",
       "      <td>05be2ebb-6be0-4016-bcf0-e6cf77ea24c9</td>\n",
       "      <td>ff894537-5af4-4f80-95af-47582d7c068c</td>\n",
       "      <td>100000.0</td>\n",
       "      <td>credit</td>\n",
       "      <td>2021-07-19</td>\n",
       "      <td>29.0</td>\n",
       "    </tr>\n",
       "    <tr>\n",
       "      <th>18431</th>\n",
       "      <td>4c49a7df-9c23-4f2d-8249-1fe60f6d7b25</td>\n",
       "      <td>ffdf97a2-d044-42cf-98e8-410e95f9676a</td>\n",
       "      <td>8000.0</td>\n",
       "      <td>credit</td>\n",
       "      <td>2021-05-18</td>\n",
       "      <td>20.0</td>\n",
       "    </tr>\n",
       "    <tr>\n",
       "      <th>18432</th>\n",
       "      <td>4c49a7df-9c23-4f2d-8249-1fe60f6d7b25</td>\n",
       "      <td>ffdf97a2-d044-42cf-98e8-410e95f9676a</td>\n",
       "      <td>4080.0</td>\n",
       "      <td>credit</td>\n",
       "      <td>2021-05-21</td>\n",
       "      <td>20.0</td>\n",
       "    </tr>\n",
       "    <tr>\n",
       "      <th>18433</th>\n",
       "      <td>a596a204-79e6-4670-b1aa-baeaa70041c8</td>\n",
       "      <td>ffe04387-178b-428f-978d-6fb357bf80f4</td>\n",
       "      <td>60000.0</td>\n",
       "      <td>credit</td>\n",
       "      <td>2021-06-21</td>\n",
       "      <td>25.0</td>\n",
       "    </tr>\n",
       "  </tbody>\n",
       "</table>\n",
       "<p>18434 rows × 6 columns</p>\n",
       "</div>"
      ],
      "text/plain": [
       "                                    user_id  \\\n",
       "0      378a4c00-20d5-4fa6-8d12-38b2ef646e5b   \n",
       "1      378a4c00-20d5-4fa6-8d12-38b2ef646e5b   \n",
       "2              ITntqIFk6zdrmI6Q4O0wEmqvnAP2   \n",
       "3              ITntqIFk6zdrmI6Q4O0wEmqvnAP2   \n",
       "4              ITntqIFk6zdrmI6Q4O0wEmqvnAP2   \n",
       "...                                     ...   \n",
       "18429  05be2ebb-6be0-4016-bcf0-e6cf77ea24c9   \n",
       "18430  05be2ebb-6be0-4016-bcf0-e6cf77ea24c9   \n",
       "18431  4c49a7df-9c23-4f2d-8249-1fe60f6d7b25   \n",
       "18432  4c49a7df-9c23-4f2d-8249-1fe60f6d7b25   \n",
       "18433  a596a204-79e6-4670-b1aa-baeaa70041c8   \n",
       "\n",
       "                                customer_id  transaction_amount  \\\n",
       "0                      0Ho1KALyH5kXuU65dORt             15440.0   \n",
       "1                      0Ho1KALyH5kXuU65dORt              1560.0   \n",
       "2                      0JwwbTxOhvO3Az2HgPET             65750.0   \n",
       "3                      0JwwbTxOhvO3Az2HgPET             18000.0   \n",
       "4                      0JwwbTxOhvO3Az2HgPET             16000.0   \n",
       "...                                     ...                 ...   \n",
       "18429  ff894537-5af4-4f80-95af-47582d7c068c            100000.0   \n",
       "18430  ff894537-5af4-4f80-95af-47582d7c068c            100000.0   \n",
       "18431  ffdf97a2-d044-42cf-98e8-410e95f9676a              8000.0   \n",
       "18432  ffdf97a2-d044-42cf-98e8-410e95f9676a              4080.0   \n",
       "18433  ffe04387-178b-428f-978d-6fb357bf80f4             60000.0   \n",
       "\n",
       "      transaction_type transaction_date  Week No.  \n",
       "0                debit       2020-09-08      37.0  \n",
       "1                debit       2021-05-05      18.0  \n",
       "2                debit       2020-09-14      38.0  \n",
       "3                debit       2020-09-15      38.0  \n",
       "4                debit       2020-09-19      38.0  \n",
       "...                ...              ...       ...  \n",
       "18429           credit       2021-08-22      33.0  \n",
       "18430           credit       2021-07-19      29.0  \n",
       "18431           credit       2021-05-18      20.0  \n",
       "18432           credit       2021-05-21      20.0  \n",
       "18433           credit       2021-06-21      25.0  \n",
       "\n",
       "[18434 rows x 6 columns]"
      ]
     },
     "execution_count": 13,
     "metadata": {},
     "output_type": "execute_result"
    }
   ],
   "source": [
    "df_groups = df.copy()#Making a copy of original dataframe for EDA\n",
    "df_groups"
   ]
  },
  {
   "cell_type": "code",
   "execution_count": 14,
   "id": "b7742244",
   "metadata": {},
   "outputs": [
    {
     "data": {
      "text/html": [
       "<div>\n",
       "<style scoped>\n",
       "    .dataframe tbody tr th:only-of-type {\n",
       "        vertical-align: middle;\n",
       "    }\n",
       "\n",
       "    .dataframe tbody tr th {\n",
       "        vertical-align: top;\n",
       "    }\n",
       "\n",
       "    .dataframe thead th {\n",
       "        text-align: right;\n",
       "    }\n",
       "</style>\n",
       "<table border=\"1\" class=\"dataframe\">\n",
       "  <thead>\n",
       "    <tr style=\"text-align: right;\">\n",
       "      <th></th>\n",
       "      <th>user_id</th>\n",
       "      <th>customer_id</th>\n",
       "      <th>transaction_amount</th>\n",
       "      <th>transaction_type</th>\n",
       "      <th>Week No.</th>\n",
       "    </tr>\n",
       "  </thead>\n",
       "  <tbody>\n",
       "    <tr>\n",
       "      <th>0</th>\n",
       "      <td>378a4c00-20d5-4fa6-8d12-38b2ef646e5b</td>\n",
       "      <td>0Ho1KALyH5kXuU65dORt</td>\n",
       "      <td>15440.0</td>\n",
       "      <td>debit</td>\n",
       "      <td>37.0</td>\n",
       "    </tr>\n",
       "    <tr>\n",
       "      <th>1</th>\n",
       "      <td>378a4c00-20d5-4fa6-8d12-38b2ef646e5b</td>\n",
       "      <td>0Ho1KALyH5kXuU65dORt</td>\n",
       "      <td>1560.0</td>\n",
       "      <td>debit</td>\n",
       "      <td>18.0</td>\n",
       "    </tr>\n",
       "    <tr>\n",
       "      <th>2</th>\n",
       "      <td>ITntqIFk6zdrmI6Q4O0wEmqvnAP2</td>\n",
       "      <td>0JwwbTxOhvO3Az2HgPET</td>\n",
       "      <td>65750.0</td>\n",
       "      <td>debit</td>\n",
       "      <td>38.0</td>\n",
       "    </tr>\n",
       "    <tr>\n",
       "      <th>3</th>\n",
       "      <td>ITntqIFk6zdrmI6Q4O0wEmqvnAP2</td>\n",
       "      <td>0JwwbTxOhvO3Az2HgPET</td>\n",
       "      <td>18000.0</td>\n",
       "      <td>debit</td>\n",
       "      <td>38.0</td>\n",
       "    </tr>\n",
       "    <tr>\n",
       "      <th>4</th>\n",
       "      <td>ITntqIFk6zdrmI6Q4O0wEmqvnAP2</td>\n",
       "      <td>0JwwbTxOhvO3Az2HgPET</td>\n",
       "      <td>16000.0</td>\n",
       "      <td>debit</td>\n",
       "      <td>38.0</td>\n",
       "    </tr>\n",
       "    <tr>\n",
       "      <th>...</th>\n",
       "      <td>...</td>\n",
       "      <td>...</td>\n",
       "      <td>...</td>\n",
       "      <td>...</td>\n",
       "      <td>...</td>\n",
       "    </tr>\n",
       "    <tr>\n",
       "      <th>18429</th>\n",
       "      <td>05be2ebb-6be0-4016-bcf0-e6cf77ea24c9</td>\n",
       "      <td>ff894537-5af4-4f80-95af-47582d7c068c</td>\n",
       "      <td>100000.0</td>\n",
       "      <td>credit</td>\n",
       "      <td>33.0</td>\n",
       "    </tr>\n",
       "    <tr>\n",
       "      <th>18430</th>\n",
       "      <td>05be2ebb-6be0-4016-bcf0-e6cf77ea24c9</td>\n",
       "      <td>ff894537-5af4-4f80-95af-47582d7c068c</td>\n",
       "      <td>100000.0</td>\n",
       "      <td>credit</td>\n",
       "      <td>29.0</td>\n",
       "    </tr>\n",
       "    <tr>\n",
       "      <th>18431</th>\n",
       "      <td>4c49a7df-9c23-4f2d-8249-1fe60f6d7b25</td>\n",
       "      <td>ffdf97a2-d044-42cf-98e8-410e95f9676a</td>\n",
       "      <td>8000.0</td>\n",
       "      <td>credit</td>\n",
       "      <td>20.0</td>\n",
       "    </tr>\n",
       "    <tr>\n",
       "      <th>18432</th>\n",
       "      <td>4c49a7df-9c23-4f2d-8249-1fe60f6d7b25</td>\n",
       "      <td>ffdf97a2-d044-42cf-98e8-410e95f9676a</td>\n",
       "      <td>4080.0</td>\n",
       "      <td>credit</td>\n",
       "      <td>20.0</td>\n",
       "    </tr>\n",
       "    <tr>\n",
       "      <th>18433</th>\n",
       "      <td>a596a204-79e6-4670-b1aa-baeaa70041c8</td>\n",
       "      <td>ffe04387-178b-428f-978d-6fb357bf80f4</td>\n",
       "      <td>60000.0</td>\n",
       "      <td>credit</td>\n",
       "      <td>25.0</td>\n",
       "    </tr>\n",
       "  </tbody>\n",
       "</table>\n",
       "<p>18434 rows × 5 columns</p>\n",
       "</div>"
      ],
      "text/plain": [
       "                                    user_id  \\\n",
       "0      378a4c00-20d5-4fa6-8d12-38b2ef646e5b   \n",
       "1      378a4c00-20d5-4fa6-8d12-38b2ef646e5b   \n",
       "2              ITntqIFk6zdrmI6Q4O0wEmqvnAP2   \n",
       "3              ITntqIFk6zdrmI6Q4O0wEmqvnAP2   \n",
       "4              ITntqIFk6zdrmI6Q4O0wEmqvnAP2   \n",
       "...                                     ...   \n",
       "18429  05be2ebb-6be0-4016-bcf0-e6cf77ea24c9   \n",
       "18430  05be2ebb-6be0-4016-bcf0-e6cf77ea24c9   \n",
       "18431  4c49a7df-9c23-4f2d-8249-1fe60f6d7b25   \n",
       "18432  4c49a7df-9c23-4f2d-8249-1fe60f6d7b25   \n",
       "18433  a596a204-79e6-4670-b1aa-baeaa70041c8   \n",
       "\n",
       "                                customer_id  transaction_amount  \\\n",
       "0                      0Ho1KALyH5kXuU65dORt             15440.0   \n",
       "1                      0Ho1KALyH5kXuU65dORt              1560.0   \n",
       "2                      0JwwbTxOhvO3Az2HgPET             65750.0   \n",
       "3                      0JwwbTxOhvO3Az2HgPET             18000.0   \n",
       "4                      0JwwbTxOhvO3Az2HgPET             16000.0   \n",
       "...                                     ...                 ...   \n",
       "18429  ff894537-5af4-4f80-95af-47582d7c068c            100000.0   \n",
       "18430  ff894537-5af4-4f80-95af-47582d7c068c            100000.0   \n",
       "18431  ffdf97a2-d044-42cf-98e8-410e95f9676a              8000.0   \n",
       "18432  ffdf97a2-d044-42cf-98e8-410e95f9676a              4080.0   \n",
       "18433  ffe04387-178b-428f-978d-6fb357bf80f4             60000.0   \n",
       "\n",
       "      transaction_type  Week No.  \n",
       "0                debit      37.0  \n",
       "1                debit      18.0  \n",
       "2                debit      38.0  \n",
       "3                debit      38.0  \n",
       "4                debit      38.0  \n",
       "...                ...       ...  \n",
       "18429           credit      33.0  \n",
       "18430           credit      29.0  \n",
       "18431           credit      20.0  \n",
       "18432           credit      20.0  \n",
       "18433           credit      25.0  \n",
       "\n",
       "[18434 rows x 5 columns]"
      ]
     },
     "execution_count": 14,
     "metadata": {},
     "output_type": "execute_result"
    }
   ],
   "source": [
    "df_groups.drop(['transaction_date'], axis =1)"
   ]
  },
  {
   "cell_type": "code",
   "execution_count": 15,
   "id": "a6a01670",
   "metadata": {},
   "outputs": [],
   "source": [
    "df_groups = df_groups.groupby(['user_id', 'customer_id', 'Week No.']).mean()"
   ]
  },
  {
   "cell_type": "code",
   "execution_count": 16,
   "id": "30bae119",
   "metadata": {
    "scrolled": false
   },
   "outputs": [
    {
     "data": {
      "text/html": [
       "<div>\n",
       "<style scoped>\n",
       "    .dataframe tbody tr th:only-of-type {\n",
       "        vertical-align: middle;\n",
       "    }\n",
       "\n",
       "    .dataframe tbody tr th {\n",
       "        vertical-align: top;\n",
       "    }\n",
       "\n",
       "    .dataframe thead th {\n",
       "        text-align: right;\n",
       "    }\n",
       "</style>\n",
       "<table border=\"1\" class=\"dataframe\">\n",
       "  <thead>\n",
       "    <tr style=\"text-align: right;\">\n",
       "      <th></th>\n",
       "      <th></th>\n",
       "      <th></th>\n",
       "      <th>transaction_amount</th>\n",
       "    </tr>\n",
       "    <tr>\n",
       "      <th>user_id</th>\n",
       "      <th>customer_id</th>\n",
       "      <th>Week No.</th>\n",
       "      <th></th>\n",
       "    </tr>\n",
       "  </thead>\n",
       "  <tbody>\n",
       "    <tr>\n",
       "      <th rowspan=\"5\" valign=\"top\">00f8b384-248e-4998-8b90-f8f6124652c5</th>\n",
       "      <th rowspan=\"5\" valign=\"top\">05067d71-b8e7-4414-849b-8306b3028935</th>\n",
       "      <th>10.0</th>\n",
       "      <td>32304.5</td>\n",
       "    </tr>\n",
       "    <tr>\n",
       "      <th>12.0</th>\n",
       "      <td>5202.0</td>\n",
       "    </tr>\n",
       "    <tr>\n",
       "      <th>15.0</th>\n",
       "      <td>4000.0</td>\n",
       "    </tr>\n",
       "    <tr>\n",
       "      <th>23.0</th>\n",
       "      <td>5062.4</td>\n",
       "    </tr>\n",
       "    <tr>\n",
       "      <th>33.0</th>\n",
       "      <td>4000.0</td>\n",
       "    </tr>\n",
       "    <tr>\n",
       "      <th>...</th>\n",
       "      <th>...</th>\n",
       "      <th>...</th>\n",
       "      <td>...</td>\n",
       "    </tr>\n",
       "    <tr>\n",
       "      <th rowspan=\"5\" valign=\"top\">xEPNF2kCrSSe4uwhkbMxWg8b51B2</th>\n",
       "      <th>qxRDPhukyd9UCfvU3a7U</th>\n",
       "      <th>27.0</th>\n",
       "      <td>1500.0</td>\n",
       "    </tr>\n",
       "    <tr>\n",
       "      <th>uV3X1XFBP6zkaFflbwcu</th>\n",
       "      <th>27.0</th>\n",
       "      <td>14000.0</td>\n",
       "    </tr>\n",
       "    <tr>\n",
       "      <th rowspan=\"2\" valign=\"top\">wz9IzrNAtF76bARu5pyM</th>\n",
       "      <th>27.0</th>\n",
       "      <td>10000.0</td>\n",
       "    </tr>\n",
       "    <tr>\n",
       "      <th>28.0</th>\n",
       "      <td>6000.0</td>\n",
       "    </tr>\n",
       "    <tr>\n",
       "      <th>yxUGHEy9XcrKVGaYVocz</th>\n",
       "      <th>27.0</th>\n",
       "      <td>4000.0</td>\n",
       "    </tr>\n",
       "  </tbody>\n",
       "</table>\n",
       "<p>6840 rows × 1 columns</p>\n",
       "</div>"
      ],
      "text/plain": [
       "                                                                                    transaction_amount\n",
       "user_id                              customer_id                          Week No.                    \n",
       "00f8b384-248e-4998-8b90-f8f6124652c5 05067d71-b8e7-4414-849b-8306b3028935 10.0                 32304.5\n",
       "                                                                          12.0                  5202.0\n",
       "                                                                          15.0                  4000.0\n",
       "                                                                          23.0                  5062.4\n",
       "                                                                          33.0                  4000.0\n",
       "...                                                                                                ...\n",
       "xEPNF2kCrSSe4uwhkbMxWg8b51B2         qxRDPhukyd9UCfvU3a7U                 27.0                  1500.0\n",
       "                                     uV3X1XFBP6zkaFflbwcu                 27.0                 14000.0\n",
       "                                     wz9IzrNAtF76bARu5pyM                 27.0                 10000.0\n",
       "                                                                          28.0                  6000.0\n",
       "                                     yxUGHEy9XcrKVGaYVocz                 27.0                  4000.0\n",
       "\n",
       "[6840 rows x 1 columns]"
      ]
     },
     "execution_count": 16,
     "metadata": {},
     "output_type": "execute_result"
    }
   ],
   "source": [
    "df_groups"
   ]
  },
  {
   "cell_type": "code",
   "execution_count": 17,
   "id": "2b705c00",
   "metadata": {},
   "outputs": [],
   "source": [
    "df_groups1 = df_groups.groupby(['user_id', 'Week No.']).mean()"
   ]
  },
  {
   "cell_type": "code",
   "execution_count": 18,
   "id": "854f4a3c",
   "metadata": {},
   "outputs": [],
   "source": [
    "AAA = df_groups1.sort_values(by='transaction_amount',ascending = False).groupby('Week No.').head(10)"
   ]
  },
  {
   "cell_type": "markdown",
   "id": "65593d0d",
   "metadata": {},
   "source": [
    "*Top 10 Average Transactions per active week*"
   ]
  },
  {
   "cell_type": "code",
   "execution_count": 19,
   "id": "2f5de4f0",
   "metadata": {
    "scrolled": true
   },
   "outputs": [
    {
     "data": {
      "text/html": [
       "<div>\n",
       "<style scoped>\n",
       "    .dataframe tbody tr th:only-of-type {\n",
       "        vertical-align: middle;\n",
       "    }\n",
       "\n",
       "    .dataframe tbody tr th {\n",
       "        vertical-align: top;\n",
       "    }\n",
       "\n",
       "    .dataframe thead th {\n",
       "        text-align: right;\n",
       "    }\n",
       "</style>\n",
       "<table border=\"1\" class=\"dataframe\">\n",
       "  <thead>\n",
       "    <tr style=\"text-align: right;\">\n",
       "      <th></th>\n",
       "      <th></th>\n",
       "      <th>transaction_amount</th>\n",
       "    </tr>\n",
       "    <tr>\n",
       "      <th>user_id</th>\n",
       "      <th>Week No.</th>\n",
       "      <th></th>\n",
       "    </tr>\n",
       "  </thead>\n",
       "  <tbody>\n",
       "    <tr>\n",
       "      <th>60490330-93b3-4d20-a48c-dd26c20581e0</th>\n",
       "      <th>8.0</th>\n",
       "      <td>2.025000e+06</td>\n",
       "    </tr>\n",
       "    <tr>\n",
       "      <th>9cd3da80-2dce-4fdd-a2ef-fff3ec197ab8</th>\n",
       "      <th>18.0</th>\n",
       "      <td>8.346600e+05</td>\n",
       "    </tr>\n",
       "    <tr>\n",
       "      <th>wr3rZpxrudOZ2zcwerRvL4RmQbC2</th>\n",
       "      <th>38.0</th>\n",
       "      <td>7.750000e+05</td>\n",
       "    </tr>\n",
       "    <tr>\n",
       "      <th>cb8558e6-095c-476a-82b4-abbc7c864881</th>\n",
       "      <th>25.0</th>\n",
       "      <td>7.500000e+05</td>\n",
       "    </tr>\n",
       "    <tr>\n",
       "      <th>091d079f-7c52-4473-8641-ea757bcb8c69</th>\n",
       "      <th>17.0</th>\n",
       "      <td>7.222657e+05</td>\n",
       "    </tr>\n",
       "    <tr>\n",
       "      <th>f31904f4-e4cd-42d4-8a83-3e27defe3af8</th>\n",
       "      <th>43.0</th>\n",
       "      <td>6.255000e+05</td>\n",
       "    </tr>\n",
       "    <tr>\n",
       "      <th>9cd3da80-2dce-4fdd-a2ef-fff3ec197ab8</th>\n",
       "      <th>53.0</th>\n",
       "      <td>6.186175e+05</td>\n",
       "    </tr>\n",
       "    <tr>\n",
       "      <th>61b1cdeb-7453-4860-af2e-850e9339ccd3</th>\n",
       "      <th>1.0</th>\n",
       "      <td>5.555556e+05</td>\n",
       "    </tr>\n",
       "    <tr>\n",
       "      <th>8e8d03ce-9525-499a-93b5-82066fbc8438</th>\n",
       "      <th>27.0</th>\n",
       "      <td>5.500000e+05</td>\n",
       "    </tr>\n",
       "    <tr>\n",
       "      <th>52a88b20-b04d-4119-b366-c1edc720efb7</th>\n",
       "      <th>31.0</th>\n",
       "      <td>5.344233e+05</td>\n",
       "    </tr>\n",
       "  </tbody>\n",
       "</table>\n",
       "</div>"
      ],
      "text/plain": [
       "                                               transaction_amount\n",
       "user_id                              Week No.                    \n",
       "60490330-93b3-4d20-a48c-dd26c20581e0 8.0             2.025000e+06\n",
       "9cd3da80-2dce-4fdd-a2ef-fff3ec197ab8 18.0            8.346600e+05\n",
       "wr3rZpxrudOZ2zcwerRvL4RmQbC2         38.0            7.750000e+05\n",
       "cb8558e6-095c-476a-82b4-abbc7c864881 25.0            7.500000e+05\n",
       "091d079f-7c52-4473-8641-ea757bcb8c69 17.0            7.222657e+05\n",
       "f31904f4-e4cd-42d4-8a83-3e27defe3af8 43.0            6.255000e+05\n",
       "9cd3da80-2dce-4fdd-a2ef-fff3ec197ab8 53.0            6.186175e+05\n",
       "61b1cdeb-7453-4860-af2e-850e9339ccd3 1.0             5.555556e+05\n",
       "8e8d03ce-9525-499a-93b5-82066fbc8438 27.0            5.500000e+05\n",
       "52a88b20-b04d-4119-b366-c1edc720efb7 31.0            5.344233e+05"
      ]
     },
     "execution_count": 19,
     "metadata": {},
     "output_type": "execute_result"
    }
   ],
   "source": [
    "AAA.head(10)"
   ]
  },
  {
   "cell_type": "code",
   "execution_count": 20,
   "id": "5faf85cc",
   "metadata": {},
   "outputs": [],
   "source": [
    "AAA = AAA.reset_index(drop = False)"
   ]
  },
  {
   "cell_type": "code",
   "execution_count": 21,
   "id": "bee8345a",
   "metadata": {},
   "outputs": [
    {
     "data": {
      "text/html": [
       "        <script type=\"text/javascript\">\n",
       "        window.PlotlyConfig = {MathJaxConfig: 'local'};\n",
       "        if (window.MathJax) {MathJax.Hub.Config({SVG: {font: \"STIX-Web\"}});}\n",
       "        if (typeof require !== 'undefined') {\n",
       "        require.undef(\"plotly\");\n",
       "        requirejs.config({\n",
       "            paths: {\n",
       "                'plotly': ['https://cdn.plot.ly/plotly-2.9.0.min']\n",
       "            }\n",
       "        });\n",
       "        require(['plotly'], function(Plotly) {\n",
       "            window._Plotly = Plotly;\n",
       "        });\n",
       "        }\n",
       "        </script>\n",
       "        "
      ]
     },
     "metadata": {},
     "output_type": "display_data"
    }
   ],
   "source": [
    "import plotly.express as px\n",
    "import plotly.offline as py\n",
    "py.init_notebook_mode(connected=True)\n",
    "import plotly.graph_objs as go"
   ]
  },
  {
   "cell_type": "code",
   "execution_count": 22,
   "id": "2b6e9722",
   "metadata": {},
   "outputs": [
    {
     "data": {
      "text/plain": [
       "user_id\n",
       "00f8b384-248e-4998-8b90-f8f6124652c5     34584.000000\n",
       "05be2ebb-6be0-4016-bcf0-e6cf77ea24c9    268000.000000\n",
       "091d079f-7c52-4473-8641-ea757bcb8c69    722265.666667\n",
       "09834de5-d21f-45f2-b1e9-aee2bcbb13db     13945.250000\n",
       "0ecb85ab-5d6b-46a6-9a78-17b713fc54f2    106750.000000\n",
       "                                            ...      \n",
       "f167380c-f271-44de-a6ff-f406e3692c1a     28435.294118\n",
       "f31904f4-e4cd-42d4-8a83-3e27defe3af8    625500.000000\n",
       "f4f0beab-bc4d-4827-9c38-768250266212       370.000000\n",
       "wr3rZpxrudOZ2zcwerRvL4RmQbC2            775000.000000\n",
       "xEPNF2kCrSSe4uwhkbMxWg8b51B2              9866.666667\n",
       "Name: transaction_amount, Length: 98, dtype: float64"
      ]
     },
     "execution_count": 22,
     "metadata": {},
     "output_type": "execute_result"
    }
   ],
   "source": [
    "PDD = df_groups1.copy()\n",
    "PDD = PDD.groupby(['user_id'])['transaction_amount'].agg('max')\n",
    "PDD"
   ]
  },
  {
   "cell_type": "code",
   "execution_count": 23,
   "id": "ecb4cbf1",
   "metadata": {},
   "outputs": [],
   "source": [
    "PDD = PDD.to_frame()"
   ]
  },
  {
   "cell_type": "code",
   "execution_count": 24,
   "id": "390a26a4",
   "metadata": {},
   "outputs": [
    {
     "data": {
      "text/html": [
       "<div>\n",
       "<style scoped>\n",
       "    .dataframe tbody tr th:only-of-type {\n",
       "        vertical-align: middle;\n",
       "    }\n",
       "\n",
       "    .dataframe tbody tr th {\n",
       "        vertical-align: top;\n",
       "    }\n",
       "\n",
       "    .dataframe thead th {\n",
       "        text-align: right;\n",
       "    }\n",
       "</style>\n",
       "<table border=\"1\" class=\"dataframe\">\n",
       "  <thead>\n",
       "    <tr style=\"text-align: right;\">\n",
       "      <th></th>\n",
       "      <th>transaction_amount</th>\n",
       "    </tr>\n",
       "    <tr>\n",
       "      <th>user_id</th>\n",
       "      <th></th>\n",
       "    </tr>\n",
       "  </thead>\n",
       "  <tbody>\n",
       "    <tr>\n",
       "      <th>00f8b384-248e-4998-8b90-f8f6124652c5</th>\n",
       "      <td>34584.000000</td>\n",
       "    </tr>\n",
       "    <tr>\n",
       "      <th>05be2ebb-6be0-4016-bcf0-e6cf77ea24c9</th>\n",
       "      <td>268000.000000</td>\n",
       "    </tr>\n",
       "    <tr>\n",
       "      <th>091d079f-7c52-4473-8641-ea757bcb8c69</th>\n",
       "      <td>722265.666667</td>\n",
       "    </tr>\n",
       "    <tr>\n",
       "      <th>09834de5-d21f-45f2-b1e9-aee2bcbb13db</th>\n",
       "      <td>13945.250000</td>\n",
       "    </tr>\n",
       "    <tr>\n",
       "      <th>0ecb85ab-5d6b-46a6-9a78-17b713fc54f2</th>\n",
       "      <td>106750.000000</td>\n",
       "    </tr>\n",
       "    <tr>\n",
       "      <th>...</th>\n",
       "      <td>...</td>\n",
       "    </tr>\n",
       "    <tr>\n",
       "      <th>f167380c-f271-44de-a6ff-f406e3692c1a</th>\n",
       "      <td>28435.294118</td>\n",
       "    </tr>\n",
       "    <tr>\n",
       "      <th>f31904f4-e4cd-42d4-8a83-3e27defe3af8</th>\n",
       "      <td>625500.000000</td>\n",
       "    </tr>\n",
       "    <tr>\n",
       "      <th>f4f0beab-bc4d-4827-9c38-768250266212</th>\n",
       "      <td>370.000000</td>\n",
       "    </tr>\n",
       "    <tr>\n",
       "      <th>wr3rZpxrudOZ2zcwerRvL4RmQbC2</th>\n",
       "      <td>775000.000000</td>\n",
       "    </tr>\n",
       "    <tr>\n",
       "      <th>xEPNF2kCrSSe4uwhkbMxWg8b51B2</th>\n",
       "      <td>9866.666667</td>\n",
       "    </tr>\n",
       "  </tbody>\n",
       "</table>\n",
       "<p>98 rows × 1 columns</p>\n",
       "</div>"
      ],
      "text/plain": [
       "                                      transaction_amount\n",
       "user_id                                                 \n",
       "00f8b384-248e-4998-8b90-f8f6124652c5        34584.000000\n",
       "05be2ebb-6be0-4016-bcf0-e6cf77ea24c9       268000.000000\n",
       "091d079f-7c52-4473-8641-ea757bcb8c69       722265.666667\n",
       "09834de5-d21f-45f2-b1e9-aee2bcbb13db        13945.250000\n",
       "0ecb85ab-5d6b-46a6-9a78-17b713fc54f2       106750.000000\n",
       "...                                                  ...\n",
       "f167380c-f271-44de-a6ff-f406e3692c1a        28435.294118\n",
       "f31904f4-e4cd-42d4-8a83-3e27defe3af8       625500.000000\n",
       "f4f0beab-bc4d-4827-9c38-768250266212          370.000000\n",
       "wr3rZpxrudOZ2zcwerRvL4RmQbC2               775000.000000\n",
       "xEPNF2kCrSSe4uwhkbMxWg8b51B2                 9866.666667\n",
       "\n",
       "[98 rows x 1 columns]"
      ]
     },
     "execution_count": 24,
     "metadata": {},
     "output_type": "execute_result"
    }
   ],
   "source": [
    "PDD"
   ]
  },
  {
   "cell_type": "code",
   "execution_count": 25,
   "id": "b3c2d473",
   "metadata": {},
   "outputs": [],
   "source": [
    "PDD = PDD.sort_values(by = 'transaction_amount', ascending = False).reset_index(drop = False)"
   ]
  },
  {
   "cell_type": "code",
   "execution_count": 26,
   "id": "92b2246e",
   "metadata": {},
   "outputs": [
    {
     "data": {
      "application/vnd.plotly.v1+json": {
       "config": {
        "plotlyServerURL": "https://plot.ly"
       },
       "data": [
        {
         "alignmentgroup": "True",
         "hovertemplate": "user_id=%{x}<br>transaction_amount=%{y}<extra></extra>",
         "legendgroup": "",
         "marker": {
          "color": "#636efa",
          "pattern": {
           "shape": ""
          }
         },
         "name": "",
         "offsetgroup": "",
         "orientation": "v",
         "showlegend": false,
         "textposition": "auto",
         "type": "bar",
         "x": [
          "60490330-93b3-4d20-a48c-dd26c20581e0",
          "9cd3da80-2dce-4fdd-a2ef-fff3ec197ab8",
          "wr3rZpxrudOZ2zcwerRvL4RmQbC2",
          "cb8558e6-095c-476a-82b4-abbc7c864881",
          "091d079f-7c52-4473-8641-ea757bcb8c69",
          "f31904f4-e4cd-42d4-8a83-3e27defe3af8",
          "61b1cdeb-7453-4860-af2e-850e9339ccd3",
          "8e8d03ce-9525-499a-93b5-82066fbc8438",
          "52a88b20-b04d-4119-b366-c1edc720efb7",
          "837aa17b-cbfc-4a44-b5c2-be6c9994ec59"
         ],
         "xaxis": "x",
         "y": [
          2025000,
          834660,
          775000,
          750000,
          722265.6666666666,
          625500,
          555555.5555555556,
          550000,
          534423.3333333334,
          500000
         ],
         "yaxis": "y"
        }
       ],
       "layout": {
        "barmode": "relative",
        "height": 750,
        "legend": {
         "tracegroupgap": 0
        },
        "template": {
         "data": {
          "bar": [
           {
            "error_x": {
             "color": "#2a3f5f"
            },
            "error_y": {
             "color": "#2a3f5f"
            },
            "marker": {
             "line": {
              "color": "#E5ECF6",
              "width": 0.5
             },
             "pattern": {
              "fillmode": "overlay",
              "size": 10,
              "solidity": 0.2
             }
            },
            "type": "bar"
           }
          ],
          "barpolar": [
           {
            "marker": {
             "line": {
              "color": "#E5ECF6",
              "width": 0.5
             },
             "pattern": {
              "fillmode": "overlay",
              "size": 10,
              "solidity": 0.2
             }
            },
            "type": "barpolar"
           }
          ],
          "carpet": [
           {
            "aaxis": {
             "endlinecolor": "#2a3f5f",
             "gridcolor": "white",
             "linecolor": "white",
             "minorgridcolor": "white",
             "startlinecolor": "#2a3f5f"
            },
            "baxis": {
             "endlinecolor": "#2a3f5f",
             "gridcolor": "white",
             "linecolor": "white",
             "minorgridcolor": "white",
             "startlinecolor": "#2a3f5f"
            },
            "type": "carpet"
           }
          ],
          "choropleth": [
           {
            "colorbar": {
             "outlinewidth": 0,
             "ticks": ""
            },
            "type": "choropleth"
           }
          ],
          "contour": [
           {
            "colorbar": {
             "outlinewidth": 0,
             "ticks": ""
            },
            "colorscale": [
             [
              0,
              "#0d0887"
             ],
             [
              0.1111111111111111,
              "#46039f"
             ],
             [
              0.2222222222222222,
              "#7201a8"
             ],
             [
              0.3333333333333333,
              "#9c179e"
             ],
             [
              0.4444444444444444,
              "#bd3786"
             ],
             [
              0.5555555555555556,
              "#d8576b"
             ],
             [
              0.6666666666666666,
              "#ed7953"
             ],
             [
              0.7777777777777778,
              "#fb9f3a"
             ],
             [
              0.8888888888888888,
              "#fdca26"
             ],
             [
              1,
              "#f0f921"
             ]
            ],
            "type": "contour"
           }
          ],
          "contourcarpet": [
           {
            "colorbar": {
             "outlinewidth": 0,
             "ticks": ""
            },
            "type": "contourcarpet"
           }
          ],
          "heatmap": [
           {
            "colorbar": {
             "outlinewidth": 0,
             "ticks": ""
            },
            "colorscale": [
             [
              0,
              "#0d0887"
             ],
             [
              0.1111111111111111,
              "#46039f"
             ],
             [
              0.2222222222222222,
              "#7201a8"
             ],
             [
              0.3333333333333333,
              "#9c179e"
             ],
             [
              0.4444444444444444,
              "#bd3786"
             ],
             [
              0.5555555555555556,
              "#d8576b"
             ],
             [
              0.6666666666666666,
              "#ed7953"
             ],
             [
              0.7777777777777778,
              "#fb9f3a"
             ],
             [
              0.8888888888888888,
              "#fdca26"
             ],
             [
              1,
              "#f0f921"
             ]
            ],
            "type": "heatmap"
           }
          ],
          "heatmapgl": [
           {
            "colorbar": {
             "outlinewidth": 0,
             "ticks": ""
            },
            "colorscale": [
             [
              0,
              "#0d0887"
             ],
             [
              0.1111111111111111,
              "#46039f"
             ],
             [
              0.2222222222222222,
              "#7201a8"
             ],
             [
              0.3333333333333333,
              "#9c179e"
             ],
             [
              0.4444444444444444,
              "#bd3786"
             ],
             [
              0.5555555555555556,
              "#d8576b"
             ],
             [
              0.6666666666666666,
              "#ed7953"
             ],
             [
              0.7777777777777778,
              "#fb9f3a"
             ],
             [
              0.8888888888888888,
              "#fdca26"
             ],
             [
              1,
              "#f0f921"
             ]
            ],
            "type": "heatmapgl"
           }
          ],
          "histogram": [
           {
            "marker": {
             "pattern": {
              "fillmode": "overlay",
              "size": 10,
              "solidity": 0.2
             }
            },
            "type": "histogram"
           }
          ],
          "histogram2d": [
           {
            "colorbar": {
             "outlinewidth": 0,
             "ticks": ""
            },
            "colorscale": [
             [
              0,
              "#0d0887"
             ],
             [
              0.1111111111111111,
              "#46039f"
             ],
             [
              0.2222222222222222,
              "#7201a8"
             ],
             [
              0.3333333333333333,
              "#9c179e"
             ],
             [
              0.4444444444444444,
              "#bd3786"
             ],
             [
              0.5555555555555556,
              "#d8576b"
             ],
             [
              0.6666666666666666,
              "#ed7953"
             ],
             [
              0.7777777777777778,
              "#fb9f3a"
             ],
             [
              0.8888888888888888,
              "#fdca26"
             ],
             [
              1,
              "#f0f921"
             ]
            ],
            "type": "histogram2d"
           }
          ],
          "histogram2dcontour": [
           {
            "colorbar": {
             "outlinewidth": 0,
             "ticks": ""
            },
            "colorscale": [
             [
              0,
              "#0d0887"
             ],
             [
              0.1111111111111111,
              "#46039f"
             ],
             [
              0.2222222222222222,
              "#7201a8"
             ],
             [
              0.3333333333333333,
              "#9c179e"
             ],
             [
              0.4444444444444444,
              "#bd3786"
             ],
             [
              0.5555555555555556,
              "#d8576b"
             ],
             [
              0.6666666666666666,
              "#ed7953"
             ],
             [
              0.7777777777777778,
              "#fb9f3a"
             ],
             [
              0.8888888888888888,
              "#fdca26"
             ],
             [
              1,
              "#f0f921"
             ]
            ],
            "type": "histogram2dcontour"
           }
          ],
          "mesh3d": [
           {
            "colorbar": {
             "outlinewidth": 0,
             "ticks": ""
            },
            "type": "mesh3d"
           }
          ],
          "parcoords": [
           {
            "line": {
             "colorbar": {
              "outlinewidth": 0,
              "ticks": ""
             }
            },
            "type": "parcoords"
           }
          ],
          "pie": [
           {
            "automargin": true,
            "type": "pie"
           }
          ],
          "scatter": [
           {
            "marker": {
             "colorbar": {
              "outlinewidth": 0,
              "ticks": ""
             }
            },
            "type": "scatter"
           }
          ],
          "scatter3d": [
           {
            "line": {
             "colorbar": {
              "outlinewidth": 0,
              "ticks": ""
             }
            },
            "marker": {
             "colorbar": {
              "outlinewidth": 0,
              "ticks": ""
             }
            },
            "type": "scatter3d"
           }
          ],
          "scattercarpet": [
           {
            "marker": {
             "colorbar": {
              "outlinewidth": 0,
              "ticks": ""
             }
            },
            "type": "scattercarpet"
           }
          ],
          "scattergeo": [
           {
            "marker": {
             "colorbar": {
              "outlinewidth": 0,
              "ticks": ""
             }
            },
            "type": "scattergeo"
           }
          ],
          "scattergl": [
           {
            "marker": {
             "colorbar": {
              "outlinewidth": 0,
              "ticks": ""
             }
            },
            "type": "scattergl"
           }
          ],
          "scattermapbox": [
           {
            "marker": {
             "colorbar": {
              "outlinewidth": 0,
              "ticks": ""
             }
            },
            "type": "scattermapbox"
           }
          ],
          "scatterpolar": [
           {
            "marker": {
             "colorbar": {
              "outlinewidth": 0,
              "ticks": ""
             }
            },
            "type": "scatterpolar"
           }
          ],
          "scatterpolargl": [
           {
            "marker": {
             "colorbar": {
              "outlinewidth": 0,
              "ticks": ""
             }
            },
            "type": "scatterpolargl"
           }
          ],
          "scatterternary": [
           {
            "marker": {
             "colorbar": {
              "outlinewidth": 0,
              "ticks": ""
             }
            },
            "type": "scatterternary"
           }
          ],
          "surface": [
           {
            "colorbar": {
             "outlinewidth": 0,
             "ticks": ""
            },
            "colorscale": [
             [
              0,
              "#0d0887"
             ],
             [
              0.1111111111111111,
              "#46039f"
             ],
             [
              0.2222222222222222,
              "#7201a8"
             ],
             [
              0.3333333333333333,
              "#9c179e"
             ],
             [
              0.4444444444444444,
              "#bd3786"
             ],
             [
              0.5555555555555556,
              "#d8576b"
             ],
             [
              0.6666666666666666,
              "#ed7953"
             ],
             [
              0.7777777777777778,
              "#fb9f3a"
             ],
             [
              0.8888888888888888,
              "#fdca26"
             ],
             [
              1,
              "#f0f921"
             ]
            ],
            "type": "surface"
           }
          ],
          "table": [
           {
            "cells": {
             "fill": {
              "color": "#EBF0F8"
             },
             "line": {
              "color": "white"
             }
            },
            "header": {
             "fill": {
              "color": "#C8D4E3"
             },
             "line": {
              "color": "white"
             }
            },
            "type": "table"
           }
          ]
         },
         "layout": {
          "annotationdefaults": {
           "arrowcolor": "#2a3f5f",
           "arrowhead": 0,
           "arrowwidth": 1
          },
          "autotypenumbers": "strict",
          "coloraxis": {
           "colorbar": {
            "outlinewidth": 0,
            "ticks": ""
           }
          },
          "colorscale": {
           "diverging": [
            [
             0,
             "#8e0152"
            ],
            [
             0.1,
             "#c51b7d"
            ],
            [
             0.2,
             "#de77ae"
            ],
            [
             0.3,
             "#f1b6da"
            ],
            [
             0.4,
             "#fde0ef"
            ],
            [
             0.5,
             "#f7f7f7"
            ],
            [
             0.6,
             "#e6f5d0"
            ],
            [
             0.7,
             "#b8e186"
            ],
            [
             0.8,
             "#7fbc41"
            ],
            [
             0.9,
             "#4d9221"
            ],
            [
             1,
             "#276419"
            ]
           ],
           "sequential": [
            [
             0,
             "#0d0887"
            ],
            [
             0.1111111111111111,
             "#46039f"
            ],
            [
             0.2222222222222222,
             "#7201a8"
            ],
            [
             0.3333333333333333,
             "#9c179e"
            ],
            [
             0.4444444444444444,
             "#bd3786"
            ],
            [
             0.5555555555555556,
             "#d8576b"
            ],
            [
             0.6666666666666666,
             "#ed7953"
            ],
            [
             0.7777777777777778,
             "#fb9f3a"
            ],
            [
             0.8888888888888888,
             "#fdca26"
            ],
            [
             1,
             "#f0f921"
            ]
           ],
           "sequentialminus": [
            [
             0,
             "#0d0887"
            ],
            [
             0.1111111111111111,
             "#46039f"
            ],
            [
             0.2222222222222222,
             "#7201a8"
            ],
            [
             0.3333333333333333,
             "#9c179e"
            ],
            [
             0.4444444444444444,
             "#bd3786"
            ],
            [
             0.5555555555555556,
             "#d8576b"
            ],
            [
             0.6666666666666666,
             "#ed7953"
            ],
            [
             0.7777777777777778,
             "#fb9f3a"
            ],
            [
             0.8888888888888888,
             "#fdca26"
            ],
            [
             1,
             "#f0f921"
            ]
           ]
          },
          "colorway": [
           "#636efa",
           "#EF553B",
           "#00cc96",
           "#ab63fa",
           "#FFA15A",
           "#19d3f3",
           "#FF6692",
           "#B6E880",
           "#FF97FF",
           "#FECB52"
          ],
          "font": {
           "color": "#2a3f5f"
          },
          "geo": {
           "bgcolor": "white",
           "lakecolor": "white",
           "landcolor": "#E5ECF6",
           "showlakes": true,
           "showland": true,
           "subunitcolor": "white"
          },
          "hoverlabel": {
           "align": "left"
          },
          "hovermode": "closest",
          "mapbox": {
           "style": "light"
          },
          "paper_bgcolor": "white",
          "plot_bgcolor": "#E5ECF6",
          "polar": {
           "angularaxis": {
            "gridcolor": "white",
            "linecolor": "white",
            "ticks": ""
           },
           "bgcolor": "#E5ECF6",
           "radialaxis": {
            "gridcolor": "white",
            "linecolor": "white",
            "ticks": ""
           }
          },
          "scene": {
           "xaxis": {
            "backgroundcolor": "#E5ECF6",
            "gridcolor": "white",
            "gridwidth": 2,
            "linecolor": "white",
            "showbackground": true,
            "ticks": "",
            "zerolinecolor": "white"
           },
           "yaxis": {
            "backgroundcolor": "#E5ECF6",
            "gridcolor": "white",
            "gridwidth": 2,
            "linecolor": "white",
            "showbackground": true,
            "ticks": "",
            "zerolinecolor": "white"
           },
           "zaxis": {
            "backgroundcolor": "#E5ECF6",
            "gridcolor": "white",
            "gridwidth": 2,
            "linecolor": "white",
            "showbackground": true,
            "ticks": "",
            "zerolinecolor": "white"
           }
          },
          "shapedefaults": {
           "line": {
            "color": "#2a3f5f"
           }
          },
          "ternary": {
           "aaxis": {
            "gridcolor": "white",
            "linecolor": "white",
            "ticks": ""
           },
           "baxis": {
            "gridcolor": "white",
            "linecolor": "white",
            "ticks": ""
           },
           "bgcolor": "#E5ECF6",
           "caxis": {
            "gridcolor": "white",
            "linecolor": "white",
            "ticks": ""
           }
          },
          "title": {
           "x": 0.05
          },
          "xaxis": {
           "automargin": true,
           "gridcolor": "white",
           "linecolor": "white",
           "ticks": "",
           "title": {
            "standoff": 15
           },
           "zerolinecolor": "white",
           "zerolinewidth": 2
          },
          "yaxis": {
           "automargin": true,
           "gridcolor": "white",
           "linecolor": "white",
           "ticks": "",
           "title": {
            "standoff": 15
           },
           "zerolinecolor": "white",
           "zerolinewidth": 2
          }
         }
        },
        "title": {
         "text": "Top Ten Single Week Transactions by User"
        },
        "xaxis": {
         "anchor": "y",
         "domain": [
          0,
          1
         ],
         "title": {
          "text": "user_id"
         }
        },
        "yaxis": {
         "anchor": "x",
         "domain": [
          0,
          1
         ],
         "title": {
          "text": "transaction_amount"
         }
        }
       }
      },
      "text/html": [
       "<div>                            <div id=\"d89b3606-5de0-4f5a-a51d-e7ea56eb4fd9\" class=\"plotly-graph-div\" style=\"height:750px; width:100%;\"></div>            <script type=\"text/javascript\">                require([\"plotly\"], function(Plotly) {                    window.PLOTLYENV=window.PLOTLYENV || {};                                    if (document.getElementById(\"d89b3606-5de0-4f5a-a51d-e7ea56eb4fd9\")) {                    Plotly.newPlot(                        \"d89b3606-5de0-4f5a-a51d-e7ea56eb4fd9\",                        [{\"alignmentgroup\":\"True\",\"hovertemplate\":\"user_id=%{x}<br>transaction_amount=%{y}<extra></extra>\",\"legendgroup\":\"\",\"marker\":{\"color\":\"#636efa\",\"pattern\":{\"shape\":\"\"}},\"name\":\"\",\"offsetgroup\":\"\",\"orientation\":\"v\",\"showlegend\":false,\"textposition\":\"auto\",\"x\":[\"60490330-93b3-4d20-a48c-dd26c20581e0\",\"9cd3da80-2dce-4fdd-a2ef-fff3ec197ab8\",\"wr3rZpxrudOZ2zcwerRvL4RmQbC2\",\"cb8558e6-095c-476a-82b4-abbc7c864881\",\"091d079f-7c52-4473-8641-ea757bcb8c69\",\"f31904f4-e4cd-42d4-8a83-3e27defe3af8\",\"61b1cdeb-7453-4860-af2e-850e9339ccd3\",\"8e8d03ce-9525-499a-93b5-82066fbc8438\",\"52a88b20-b04d-4119-b366-c1edc720efb7\",\"837aa17b-cbfc-4a44-b5c2-be6c9994ec59\"],\"xaxis\":\"x\",\"y\":[2025000.0,834660.0,775000.0,750000.0,722265.6666666666,625500.0,555555.5555555556,550000.0,534423.3333333334,500000.0],\"yaxis\":\"y\",\"type\":\"bar\"}],                        {\"template\":{\"data\":{\"bar\":[{\"error_x\":{\"color\":\"#2a3f5f\"},\"error_y\":{\"color\":\"#2a3f5f\"},\"marker\":{\"line\":{\"color\":\"#E5ECF6\",\"width\":0.5},\"pattern\":{\"fillmode\":\"overlay\",\"size\":10,\"solidity\":0.2}},\"type\":\"bar\"}],\"barpolar\":[{\"marker\":{\"line\":{\"color\":\"#E5ECF6\",\"width\":0.5},\"pattern\":{\"fillmode\":\"overlay\",\"size\":10,\"solidity\":0.2}},\"type\":\"barpolar\"}],\"carpet\":[{\"aaxis\":{\"endlinecolor\":\"#2a3f5f\",\"gridcolor\":\"white\",\"linecolor\":\"white\",\"minorgridcolor\":\"white\",\"startlinecolor\":\"#2a3f5f\"},\"baxis\":{\"endlinecolor\":\"#2a3f5f\",\"gridcolor\":\"white\",\"linecolor\":\"white\",\"minorgridcolor\":\"white\",\"startlinecolor\":\"#2a3f5f\"},\"type\":\"carpet\"}],\"choropleth\":[{\"colorbar\":{\"outlinewidth\":0,\"ticks\":\"\"},\"type\":\"choropleth\"}],\"contour\":[{\"colorbar\":{\"outlinewidth\":0,\"ticks\":\"\"},\"colorscale\":[[0.0,\"#0d0887\"],[0.1111111111111111,\"#46039f\"],[0.2222222222222222,\"#7201a8\"],[0.3333333333333333,\"#9c179e\"],[0.4444444444444444,\"#bd3786\"],[0.5555555555555556,\"#d8576b\"],[0.6666666666666666,\"#ed7953\"],[0.7777777777777778,\"#fb9f3a\"],[0.8888888888888888,\"#fdca26\"],[1.0,\"#f0f921\"]],\"type\":\"contour\"}],\"contourcarpet\":[{\"colorbar\":{\"outlinewidth\":0,\"ticks\":\"\"},\"type\":\"contourcarpet\"}],\"heatmap\":[{\"colorbar\":{\"outlinewidth\":0,\"ticks\":\"\"},\"colorscale\":[[0.0,\"#0d0887\"],[0.1111111111111111,\"#46039f\"],[0.2222222222222222,\"#7201a8\"],[0.3333333333333333,\"#9c179e\"],[0.4444444444444444,\"#bd3786\"],[0.5555555555555556,\"#d8576b\"],[0.6666666666666666,\"#ed7953\"],[0.7777777777777778,\"#fb9f3a\"],[0.8888888888888888,\"#fdca26\"],[1.0,\"#f0f921\"]],\"type\":\"heatmap\"}],\"heatmapgl\":[{\"colorbar\":{\"outlinewidth\":0,\"ticks\":\"\"},\"colorscale\":[[0.0,\"#0d0887\"],[0.1111111111111111,\"#46039f\"],[0.2222222222222222,\"#7201a8\"],[0.3333333333333333,\"#9c179e\"],[0.4444444444444444,\"#bd3786\"],[0.5555555555555556,\"#d8576b\"],[0.6666666666666666,\"#ed7953\"],[0.7777777777777778,\"#fb9f3a\"],[0.8888888888888888,\"#fdca26\"],[1.0,\"#f0f921\"]],\"type\":\"heatmapgl\"}],\"histogram\":[{\"marker\":{\"pattern\":{\"fillmode\":\"overlay\",\"size\":10,\"solidity\":0.2}},\"type\":\"histogram\"}],\"histogram2d\":[{\"colorbar\":{\"outlinewidth\":0,\"ticks\":\"\"},\"colorscale\":[[0.0,\"#0d0887\"],[0.1111111111111111,\"#46039f\"],[0.2222222222222222,\"#7201a8\"],[0.3333333333333333,\"#9c179e\"],[0.4444444444444444,\"#bd3786\"],[0.5555555555555556,\"#d8576b\"],[0.6666666666666666,\"#ed7953\"],[0.7777777777777778,\"#fb9f3a\"],[0.8888888888888888,\"#fdca26\"],[1.0,\"#f0f921\"]],\"type\":\"histogram2d\"}],\"histogram2dcontour\":[{\"colorbar\":{\"outlinewidth\":0,\"ticks\":\"\"},\"colorscale\":[[0.0,\"#0d0887\"],[0.1111111111111111,\"#46039f\"],[0.2222222222222222,\"#7201a8\"],[0.3333333333333333,\"#9c179e\"],[0.4444444444444444,\"#bd3786\"],[0.5555555555555556,\"#d8576b\"],[0.6666666666666666,\"#ed7953\"],[0.7777777777777778,\"#fb9f3a\"],[0.8888888888888888,\"#fdca26\"],[1.0,\"#f0f921\"]],\"type\":\"histogram2dcontour\"}],\"mesh3d\":[{\"colorbar\":{\"outlinewidth\":0,\"ticks\":\"\"},\"type\":\"mesh3d\"}],\"parcoords\":[{\"line\":{\"colorbar\":{\"outlinewidth\":0,\"ticks\":\"\"}},\"type\":\"parcoords\"}],\"pie\":[{\"automargin\":true,\"type\":\"pie\"}],\"scatter\":[{\"marker\":{\"colorbar\":{\"outlinewidth\":0,\"ticks\":\"\"}},\"type\":\"scatter\"}],\"scatter3d\":[{\"line\":{\"colorbar\":{\"outlinewidth\":0,\"ticks\":\"\"}},\"marker\":{\"colorbar\":{\"outlinewidth\":0,\"ticks\":\"\"}},\"type\":\"scatter3d\"}],\"scattercarpet\":[{\"marker\":{\"colorbar\":{\"outlinewidth\":0,\"ticks\":\"\"}},\"type\":\"scattercarpet\"}],\"scattergeo\":[{\"marker\":{\"colorbar\":{\"outlinewidth\":0,\"ticks\":\"\"}},\"type\":\"scattergeo\"}],\"scattergl\":[{\"marker\":{\"colorbar\":{\"outlinewidth\":0,\"ticks\":\"\"}},\"type\":\"scattergl\"}],\"scattermapbox\":[{\"marker\":{\"colorbar\":{\"outlinewidth\":0,\"ticks\":\"\"}},\"type\":\"scattermapbox\"}],\"scatterpolar\":[{\"marker\":{\"colorbar\":{\"outlinewidth\":0,\"ticks\":\"\"}},\"type\":\"scatterpolar\"}],\"scatterpolargl\":[{\"marker\":{\"colorbar\":{\"outlinewidth\":0,\"ticks\":\"\"}},\"type\":\"scatterpolargl\"}],\"scatterternary\":[{\"marker\":{\"colorbar\":{\"outlinewidth\":0,\"ticks\":\"\"}},\"type\":\"scatterternary\"}],\"surface\":[{\"colorbar\":{\"outlinewidth\":0,\"ticks\":\"\"},\"colorscale\":[[0.0,\"#0d0887\"],[0.1111111111111111,\"#46039f\"],[0.2222222222222222,\"#7201a8\"],[0.3333333333333333,\"#9c179e\"],[0.4444444444444444,\"#bd3786\"],[0.5555555555555556,\"#d8576b\"],[0.6666666666666666,\"#ed7953\"],[0.7777777777777778,\"#fb9f3a\"],[0.8888888888888888,\"#fdca26\"],[1.0,\"#f0f921\"]],\"type\":\"surface\"}],\"table\":[{\"cells\":{\"fill\":{\"color\":\"#EBF0F8\"},\"line\":{\"color\":\"white\"}},\"header\":{\"fill\":{\"color\":\"#C8D4E3\"},\"line\":{\"color\":\"white\"}},\"type\":\"table\"}]},\"layout\":{\"annotationdefaults\":{\"arrowcolor\":\"#2a3f5f\",\"arrowhead\":0,\"arrowwidth\":1},\"autotypenumbers\":\"strict\",\"coloraxis\":{\"colorbar\":{\"outlinewidth\":0,\"ticks\":\"\"}},\"colorscale\":{\"diverging\":[[0,\"#8e0152\"],[0.1,\"#c51b7d\"],[0.2,\"#de77ae\"],[0.3,\"#f1b6da\"],[0.4,\"#fde0ef\"],[0.5,\"#f7f7f7\"],[0.6,\"#e6f5d0\"],[0.7,\"#b8e186\"],[0.8,\"#7fbc41\"],[0.9,\"#4d9221\"],[1,\"#276419\"]],\"sequential\":[[0.0,\"#0d0887\"],[0.1111111111111111,\"#46039f\"],[0.2222222222222222,\"#7201a8\"],[0.3333333333333333,\"#9c179e\"],[0.4444444444444444,\"#bd3786\"],[0.5555555555555556,\"#d8576b\"],[0.6666666666666666,\"#ed7953\"],[0.7777777777777778,\"#fb9f3a\"],[0.8888888888888888,\"#fdca26\"],[1.0,\"#f0f921\"]],\"sequentialminus\":[[0.0,\"#0d0887\"],[0.1111111111111111,\"#46039f\"],[0.2222222222222222,\"#7201a8\"],[0.3333333333333333,\"#9c179e\"],[0.4444444444444444,\"#bd3786\"],[0.5555555555555556,\"#d8576b\"],[0.6666666666666666,\"#ed7953\"],[0.7777777777777778,\"#fb9f3a\"],[0.8888888888888888,\"#fdca26\"],[1.0,\"#f0f921\"]]},\"colorway\":[\"#636efa\",\"#EF553B\",\"#00cc96\",\"#ab63fa\",\"#FFA15A\",\"#19d3f3\",\"#FF6692\",\"#B6E880\",\"#FF97FF\",\"#FECB52\"],\"font\":{\"color\":\"#2a3f5f\"},\"geo\":{\"bgcolor\":\"white\",\"lakecolor\":\"white\",\"landcolor\":\"#E5ECF6\",\"showlakes\":true,\"showland\":true,\"subunitcolor\":\"white\"},\"hoverlabel\":{\"align\":\"left\"},\"hovermode\":\"closest\",\"mapbox\":{\"style\":\"light\"},\"paper_bgcolor\":\"white\",\"plot_bgcolor\":\"#E5ECF6\",\"polar\":{\"angularaxis\":{\"gridcolor\":\"white\",\"linecolor\":\"white\",\"ticks\":\"\"},\"bgcolor\":\"#E5ECF6\",\"radialaxis\":{\"gridcolor\":\"white\",\"linecolor\":\"white\",\"ticks\":\"\"}},\"scene\":{\"xaxis\":{\"backgroundcolor\":\"#E5ECF6\",\"gridcolor\":\"white\",\"gridwidth\":2,\"linecolor\":\"white\",\"showbackground\":true,\"ticks\":\"\",\"zerolinecolor\":\"white\"},\"yaxis\":{\"backgroundcolor\":\"#E5ECF6\",\"gridcolor\":\"white\",\"gridwidth\":2,\"linecolor\":\"white\",\"showbackground\":true,\"ticks\":\"\",\"zerolinecolor\":\"white\"},\"zaxis\":{\"backgroundcolor\":\"#E5ECF6\",\"gridcolor\":\"white\",\"gridwidth\":2,\"linecolor\":\"white\",\"showbackground\":true,\"ticks\":\"\",\"zerolinecolor\":\"white\"}},\"shapedefaults\":{\"line\":{\"color\":\"#2a3f5f\"}},\"ternary\":{\"aaxis\":{\"gridcolor\":\"white\",\"linecolor\":\"white\",\"ticks\":\"\"},\"baxis\":{\"gridcolor\":\"white\",\"linecolor\":\"white\",\"ticks\":\"\"},\"bgcolor\":\"#E5ECF6\",\"caxis\":{\"gridcolor\":\"white\",\"linecolor\":\"white\",\"ticks\":\"\"}},\"title\":{\"x\":0.05},\"xaxis\":{\"automargin\":true,\"gridcolor\":\"white\",\"linecolor\":\"white\",\"ticks\":\"\",\"title\":{\"standoff\":15},\"zerolinecolor\":\"white\",\"zerolinewidth\":2},\"yaxis\":{\"automargin\":true,\"gridcolor\":\"white\",\"linecolor\":\"white\",\"ticks\":\"\",\"title\":{\"standoff\":15},\"zerolinecolor\":\"white\",\"zerolinewidth\":2}}},\"xaxis\":{\"anchor\":\"y\",\"domain\":[0.0,1.0],\"title\":{\"text\":\"user_id\"}},\"yaxis\":{\"anchor\":\"x\",\"domain\":[0.0,1.0],\"title\":{\"text\":\"transaction_amount\"}},\"legend\":{\"tracegroupgap\":0},\"title\":{\"text\":\"Top Ten Single Week Transactions by User\"},\"barmode\":\"relative\",\"height\":750},                        {\"responsive\": true}                    ).then(function(){\n",
       "                            \n",
       "var gd = document.getElementById('d89b3606-5de0-4f5a-a51d-e7ea56eb4fd9');\n",
       "var x = new MutationObserver(function (mutations, observer) {{\n",
       "        var display = window.getComputedStyle(gd).display;\n",
       "        if (!display || display === 'none') {{\n",
       "            console.log([gd, 'removed!']);\n",
       "            Plotly.purge(gd);\n",
       "            observer.disconnect();\n",
       "        }}\n",
       "}});\n",
       "\n",
       "// Listen for the removal of the full notebook cells\n",
       "var notebookContainer = gd.closest('#notebook-container');\n",
       "if (notebookContainer) {{\n",
       "    x.observe(notebookContainer, {childList: true});\n",
       "}}\n",
       "\n",
       "// Listen for the clearing of the current output cell\n",
       "var outputEl = gd.closest('.output');\n",
       "if (outputEl) {{\n",
       "    x.observe(outputEl, {childList: true});\n",
       "}}\n",
       "\n",
       "                        })                };                });            </script>        </div>"
      ]
     },
     "metadata": {},
     "output_type": "display_data"
    }
   ],
   "source": [
    "fig = px.bar(PDD.head(10), x = 'user_id',y = 'transaction_amount', title = 'Top Ten Single Week Transactions by User' ,\n",
    "             height=750)\n",
    "fig.show()"
   ]
  },
  {
   "attachments": {
    "Screenshot%202022-04-23%20161210.png": {
     "image/png": "[encoded data removed]"
    }
   },
   "cell_type": "markdown",
   "id": "1d6a6228",
   "metadata": {},
   "source": [
    "![Screenshot%202022-04-23%20161210.png](attachment:Screenshot%202022-04-23%20161210.png)"
   ]
  },
  {
   "cell_type": "code",
   "execution_count": 27,
   "id": "2da0d2c9",
   "metadata": {},
   "outputs": [
    {
     "data": {
      "application/vnd.plotly.v1+json": {
       "config": {
        "plotlyServerURL": "https://plot.ly"
       },
       "data": [
        {
         "alignmentgroup": "True",
         "hovertemplate": "user_id=%{x}<br>transaction_amount=%{y}<extra></extra>",
         "legendgroup": "",
         "marker": {
          "color": "#636efa",
          "pattern": {
           "shape": ""
          }
         },
         "name": "",
         "offsetgroup": "",
         "orientation": "v",
         "showlegend": false,
         "textposition": "auto",
         "type": "bar",
         "x": [
          "60490330-93b3-4d20-a48c-dd26c20581e0",
          "9cd3da80-2dce-4fdd-a2ef-fff3ec197ab8",
          "wr3rZpxrudOZ2zcwerRvL4RmQbC2",
          "cb8558e6-095c-476a-82b4-abbc7c864881",
          "091d079f-7c52-4473-8641-ea757bcb8c69",
          "f31904f4-e4cd-42d4-8a83-3e27defe3af8",
          "61b1cdeb-7453-4860-af2e-850e9339ccd3",
          "8e8d03ce-9525-499a-93b5-82066fbc8438",
          "52a88b20-b04d-4119-b366-c1edc720efb7",
          "837aa17b-cbfc-4a44-b5c2-be6c9994ec59",
          "44118c1d-c05d-490e-ad7a-c52a1e59fb09",
          "d32a559d-30ca-4248-abce-f82ef0d15f2c",
          "dcbc2846-f11d-4694-9573-4c01910a6d5f",
          "d6282da6-f014-471a-af8d-66ddf4c7855b",
          "cd5af010-d5fa-4b0a-9fc7-43977e552ed4",
          "d40791d3-4f54-4fa3-acbf-1c04149257ac",
          "97212561-e61a-45d2-a010-db6a0aeb379d",
          "87eec234-d4d7-461b-af8e-49d8ee36e757",
          "691437d8-02e5-4de6-b814-9f172333d5bb",
          "5365ef22-136b-460e-bcf9-84ca42570d29",
          "c1b34477-2938-4128-b9ba-8fe861588e2d",
          "4cd10014-8822-4b32-b874-28a14d9e720c",
          "bd5c4bc7-521b-41f5-a870-4c966da9c42e",
          "14de2c34-7cc8-4453-868d-afa4cbc8507e",
          "2e523062-83f8-4565-a6e4-a745ae8cfb15",
          "5ae06ee2-1133-43db-be96-0dc2dee35ce3",
          "05be2ebb-6be0-4016-bcf0-e6cf77ea24c9",
          "2wZ1PvASggdQwHRAiodzKwR8ywF2",
          "74f824e6-3f39-4b0f-a138-de72740057ca",
          "a755d8cb-31b3-4311-ab1d-e2831eceab0a",
          "a596a204-79e6-4670-b1aa-baeaa70041c8",
          "8ce314dd-d51a-4d34-9c8a-ceca85679560",
          "bc81f324-507a-4a92-b85d-0bd81d2bea49",
          "378a4c00-20d5-4fa6-8d12-38b2ef646e5b",
          "c221b4b3-8c87-4daf-bc81-367a2451123d",
          "a7d2d190-c11b-400a-9cbf-235f2a7a64f2",
          "b8558634-80f4-426c-85fb-602e00a4dd8a",
          "e330468f-2be1-4c2e-bf7c-bf0c33d3240a",
          "ITntqIFk6zdrmI6Q4O0wEmqvnAP2",
          "240d226d-54cd-407d-b918-903630c92d82",
          "9fce0e99-ea1a-440b-8721-193708f84a45",
          "2c276ab3-7a06-4647-9ad6-c8d92773e497",
          "5e37421c-b9eb-4364-bf1f-1457eb17f96f",
          "cb5db925-7ce0-40ea-bb0d-f8bfaa21382a",
          "43d03a4f-b3d9-4062-9919-fbde298f707b",
          "4c9039d4-f4d7-4873-b3b1-3e20d2476b2c",
          "65d4985d-a41d-4b50-b57e-1185abfd9172",
          "a1e2eb40-babb-4527-b8ac-9dfebc2a14cc",
          "0ecb85ab-5d6b-46a6-9a78-17b713fc54f2",
          "a1ae02a7-27da-4b7f-b1b4-89fb36c2a398",
          "c9291160-9df7-48b1-863f-a13a1408b3cf",
          "1fe1a542-f4e0-4d64-896b-dc2747becf8e",
          "8f7e4a9a-3bc9-40d7-a8e9-bade3156633c",
          "572b42de-8173-4b8e-b56e-ae7fc2a26584",
          "c50be65f-fd00-4223-98e1-e992edd3b165",
          "5d9dee17-b8f5-41a7-a375-41c2aaa92c0a",
          "b366457e-9daa-4799-8bf7-c3e6e320e0fb",
          "9f3bed3b-df74-4e37-9732-3858a6f433ea",
          "ebfda3a3-6b37-4626-8348-f3485ddd425b",
          "ce738ca7-46d0-446a-9b87-b59998b98c1c",
          "400619c7-38f2-418b-a6c0-e8226c1183cd",
          "55b9014c-fc42-4a46-9265-47ad3e64925e",
          "a34dc301-b783-4fc6-9dbb-caf5e052a9b5",
          "74ead307-c042-4fd0-a1e7-5c12fe932f3f",
          "af290d9a-8378-4851-9056-e630b9b7ca19",
          "628979fd-debc-4096-802c-66d935d35949",
          "1fc626f7-68fb-443e-85b1-fa8fdf56caf9",
          "65d5eb25-5788-4939-ba5e-0d2c87e83861",
          "1c966620-5598-4d09-8711-2e6bde37f976",
          "eedc4b83-8837-457e-bb28-3b26bd633964",
          "d6156fff-baed-4d2c-b4ad-3b2ee436ee14",
          "47dc3a34-e2ee-4c31-9fc3-b7758e6106e0",
          "9a0fb3a9-a875-451b-ae51-02c33fd8d4a4",
          "b905b6e9-8183-4085-abb5-f4941611b920",
          "35b28e32-221f-422b-ae97-f9416afe294d",
          "aea93b0e-98d9-4bc2-b13c-23fdaf3b4085",
          "e7fc6ff2-9ca6-4bd1-9647-d35b11852fff",
          "f1599709-5d8e-4b85-bbcc-5055e0015379",
          "5d4daff8-9df1-4c0f-a9ee-7808a5d0fedb",
          "00f8b384-248e-4998-8b90-f8f6124652c5",
          "8de5f3b1-d688-46cd-822a-2abb952ddc4d",
          "f167380c-f271-44de-a6ff-f406e3692c1a",
          "dcb52a2e-6cb6-4798-b6be-b2236effb9d7",
          "2a8c6a99-d6de-41fa-880c-bc6b79d4cbf6",
          "ef15a0c7-b7bd-4475-8bcf-38325fc79578",
          "3a522ec5-34ad-4013-8b86-cdedf7b3ae4b",
          "09834de5-d21f-45f2-b1e9-aee2bcbb13db",
          "a81332fd-3665-4dbc-a91f-6c7180b96869",
          "5a929586-2291-45ba-bde9-fcfae8948d74",
          "731f3072-fe83-4f4a-a724-6af6039b6514",
          "xEPNF2kCrSSe4uwhkbMxWg8b51B2",
          "359493c4-1dc0-4e36-87e4-a3a8301285d8",
          "b40e0f8c-e17c-4a17-ab33-7db1dfb0e5a9",
          "4c49a7df-9c23-4f2d-8249-1fe60f6d7b25",
          "34fb3e5b-66f3-47b5-8ccc-6aebacbb5ccc",
          "1196a816-c0fa-49e9-b702-07797a505992",
          "40e7ecda-5567-4077-bba9-7b56ee2a16e3",
          "f4f0beab-bc4d-4827-9c38-768250266212"
         ],
         "xaxis": "x",
         "y": [
          2025000,
          834660,
          775000,
          750000,
          722265.6666666666,
          625500,
          555555.5555555556,
          550000,
          534423.3333333334,
          500000,
          468179.6666666667,
          438345.3333333333,
          432244,
          426088.8888888889,
          370000,
          361678.5714285714,
          351666.6666666667,
          350269.75,
          342333.3333333333,
          338835.9166666667,
          336000,
          324000,
          313111.1111111111,
          300000,
          296000,
          270325,
          268000,
          256896.875,
          250000,
          250000,
          227232.38095238098,
          223802.1875,
          209299.25,
          202487.88265306124,
          183398.6666666667,
          177756.2,
          166380,
          159250,
          145312.5,
          145235.47222222222,
          145000,
          140222.41666666666,
          123370.37037037036,
          121869.33333333333,
          118340.65476190476,
          115009.6,
          110534.09090909091,
          107583.33333333333,
          106750,
          105468.75,
          105333.33333333333,
          104500,
          103208.33333333334,
          100648.14814814815,
          100000,
          96046.66666666667,
          93605.66666666667,
          91826.75510204081,
          81348.5,
          75703.5,
          70164.125,
          68000,
          66599.52777777778,
          66527,
          65833.33333333333,
          64840,
          63355.555555555555,
          62500,
          56656.666666666664,
          53840,
          53419.047619047626,
          51773.37037037037,
          51688.88888888888,
          50488.899305555555,
          49500,
          48630.541176470586,
          41741.666666666664,
          38283.88888888889,
          37860.09259259259,
          34584,
          33589.979166666664,
          28435.29411764706,
          26138.09523809524,
          19457.333333333336,
          17000,
          16187.962962962962,
          13945.25,
          13666.666666666666,
          10328.125,
          10000,
          9866.666666666666,
          9236.111111111111,
          6058.333333333333,
          5349.260919343814,
          4777.777777777777,
          4160,
          1800,
          370
         ],
         "yaxis": "y"
        }
       ],
       "layout": {
        "barmode": "relative",
        "legend": {
         "tracegroupgap": 0
        },
        "template": {
         "data": {
          "bar": [
           {
            "error_x": {
             "color": "#2a3f5f"
            },
            "error_y": {
             "color": "#2a3f5f"
            },
            "marker": {
             "line": {
              "color": "#E5ECF6",
              "width": 0.5
             },
             "pattern": {
              "fillmode": "overlay",
              "size": 10,
              "solidity": 0.2
             }
            },
            "type": "bar"
           }
          ],
          "barpolar": [
           {
            "marker": {
             "line": {
              "color": "#E5ECF6",
              "width": 0.5
             },
             "pattern": {
              "fillmode": "overlay",
              "size": 10,
              "solidity": 0.2
             }
            },
            "type": "barpolar"
           }
          ],
          "carpet": [
           {
            "aaxis": {
             "endlinecolor": "#2a3f5f",
             "gridcolor": "white",
             "linecolor": "white",
             "minorgridcolor": "white",
             "startlinecolor": "#2a3f5f"
            },
            "baxis": {
             "endlinecolor": "#2a3f5f",
             "gridcolor": "white",
             "linecolor": "white",
             "minorgridcolor": "white",
             "startlinecolor": "#2a3f5f"
            },
            "type": "carpet"
           }
          ],
          "choropleth": [
           {
            "colorbar": {
             "outlinewidth": 0,
             "ticks": ""
            },
            "type": "choropleth"
           }
          ],
          "contour": [
           {
            "colorbar": {
             "outlinewidth": 0,
             "ticks": ""
            },
            "colorscale": [
             [
              0,
              "#0d0887"
             ],
             [
              0.1111111111111111,
              "#46039f"
             ],
             [
              0.2222222222222222,
              "#7201a8"
             ],
             [
              0.3333333333333333,
              "#9c179e"
             ],
             [
              0.4444444444444444,
              "#bd3786"
             ],
             [
              0.5555555555555556,
              "#d8576b"
             ],
             [
              0.6666666666666666,
              "#ed7953"
             ],
             [
              0.7777777777777778,
              "#fb9f3a"
             ],
             [
              0.8888888888888888,
              "#fdca26"
             ],
             [
              1,
              "#f0f921"
             ]
            ],
            "type": "contour"
           }
          ],
          "contourcarpet": [
           {
            "colorbar": {
             "outlinewidth": 0,
             "ticks": ""
            },
            "type": "contourcarpet"
           }
          ],
          "heatmap": [
           {
            "colorbar": {
             "outlinewidth": 0,
             "ticks": ""
            },
            "colorscale": [
             [
              0,
              "#0d0887"
             ],
             [
              0.1111111111111111,
              "#46039f"
             ],
             [
              0.2222222222222222,
              "#7201a8"
             ],
             [
              0.3333333333333333,
              "#9c179e"
             ],
             [
              0.4444444444444444,
              "#bd3786"
             ],
             [
              0.5555555555555556,
              "#d8576b"
             ],
             [
              0.6666666666666666,
              "#ed7953"
             ],
             [
              0.7777777777777778,
              "#fb9f3a"
             ],
             [
              0.8888888888888888,
              "#fdca26"
             ],
             [
              1,
              "#f0f921"
             ]
            ],
            "type": "heatmap"
           }
          ],
          "heatmapgl": [
           {
            "colorbar": {
             "outlinewidth": 0,
             "ticks": ""
            },
            "colorscale": [
             [
              0,
              "#0d0887"
             ],
             [
              0.1111111111111111,
              "#46039f"
             ],
             [
              0.2222222222222222,
              "#7201a8"
             ],
             [
              0.3333333333333333,
              "#9c179e"
             ],
             [
              0.4444444444444444,
              "#bd3786"
             ],
             [
              0.5555555555555556,
              "#d8576b"
             ],
             [
              0.6666666666666666,
              "#ed7953"
             ],
             [
              0.7777777777777778,
              "#fb9f3a"
             ],
             [
              0.8888888888888888,
              "#fdca26"
             ],
             [
              1,
              "#f0f921"
             ]
            ],
            "type": "heatmapgl"
           }
          ],
          "histogram": [
           {
            "marker": {
             "pattern": {
              "fillmode": "overlay",
              "size": 10,
              "solidity": 0.2
             }
            },
            "type": "histogram"
           }
          ],
          "histogram2d": [
           {
            "colorbar": {
             "outlinewidth": 0,
             "ticks": ""
            },
            "colorscale": [
             [
              0,
              "#0d0887"
             ],
             [
              0.1111111111111111,
              "#46039f"
             ],
             [
              0.2222222222222222,
              "#7201a8"
             ],
             [
              0.3333333333333333,
              "#9c179e"
             ],
             [
              0.4444444444444444,
              "#bd3786"
             ],
             [
              0.5555555555555556,
              "#d8576b"
             ],
             [
              0.6666666666666666,
              "#ed7953"
             ],
             [
              0.7777777777777778,
              "#fb9f3a"
             ],
             [
              0.8888888888888888,
              "#fdca26"
             ],
             [
              1,
              "#f0f921"
             ]
            ],
            "type": "histogram2d"
           }
          ],
          "histogram2dcontour": [
           {
            "colorbar": {
             "outlinewidth": 0,
             "ticks": ""
            },
            "colorscale": [
             [
              0,
              "#0d0887"
             ],
             [
              0.1111111111111111,
              "#46039f"
             ],
             [
              0.2222222222222222,
              "#7201a8"
             ],
             [
              0.3333333333333333,
              "#9c179e"
             ],
             [
              0.4444444444444444,
              "#bd3786"
             ],
             [
              0.5555555555555556,
              "#d8576b"
             ],
             [
              0.6666666666666666,
              "#ed7953"
             ],
             [
              0.7777777777777778,
              "#fb9f3a"
             ],
             [
              0.8888888888888888,
              "#fdca26"
             ],
             [
              1,
              "#f0f921"
             ]
            ],
            "type": "histogram2dcontour"
           }
          ],
          "mesh3d": [
           {
            "colorbar": {
             "outlinewidth": 0,
             "ticks": ""
            },
            "type": "mesh3d"
           }
          ],
          "parcoords": [
           {
            "line": {
             "colorbar": {
              "outlinewidth": 0,
              "ticks": ""
             }
            },
            "type": "parcoords"
           }
          ],
          "pie": [
           {
            "automargin": true,
            "type": "pie"
           }
          ],
          "scatter": [
           {
            "marker": {
             "colorbar": {
              "outlinewidth": 0,
              "ticks": ""
             }
            },
            "type": "scatter"
           }
          ],
          "scatter3d": [
           {
            "line": {
             "colorbar": {
              "outlinewidth": 0,
              "ticks": ""
             }
            },
            "marker": {
             "colorbar": {
              "outlinewidth": 0,
              "ticks": ""
             }
            },
            "type": "scatter3d"
           }
          ],
          "scattercarpet": [
           {
            "marker": {
             "colorbar": {
              "outlinewidth": 0,
              "ticks": ""
             }
            },
            "type": "scattercarpet"
           }
          ],
          "scattergeo": [
           {
            "marker": {
             "colorbar": {
              "outlinewidth": 0,
              "ticks": ""
             }
            },
            "type": "scattergeo"
           }
          ],
          "scattergl": [
           {
            "marker": {
             "colorbar": {
              "outlinewidth": 0,
              "ticks": ""
             }
            },
            "type": "scattergl"
           }
          ],
          "scattermapbox": [
           {
            "marker": {
             "colorbar": {
              "outlinewidth": 0,
              "ticks": ""
             }
            },
            "type": "scattermapbox"
           }
          ],
          "scatterpolar": [
           {
            "marker": {
             "colorbar": {
              "outlinewidth": 0,
              "ticks": ""
             }
            },
            "type": "scatterpolar"
           }
          ],
          "scatterpolargl": [
           {
            "marker": {
             "colorbar": {
              "outlinewidth": 0,
              "ticks": ""
             }
            },
            "type": "scatterpolargl"
           }
          ],
          "scatterternary": [
           {
            "marker": {
             "colorbar": {
              "outlinewidth": 0,
              "ticks": ""
             }
            },
            "type": "scatterternary"
           }
          ],
          "surface": [
           {
            "colorbar": {
             "outlinewidth": 0,
             "ticks": ""
            },
            "colorscale": [
             [
              0,
              "#0d0887"
             ],
             [
              0.1111111111111111,
              "#46039f"
             ],
             [
              0.2222222222222222,
              "#7201a8"
             ],
             [
              0.3333333333333333,
              "#9c179e"
             ],
             [
              0.4444444444444444,
              "#bd3786"
             ],
             [
              0.5555555555555556,
              "#d8576b"
             ],
             [
              0.6666666666666666,
              "#ed7953"
             ],
             [
              0.7777777777777778,
              "#fb9f3a"
             ],
             [
              0.8888888888888888,
              "#fdca26"
             ],
             [
              1,
              "#f0f921"
             ]
            ],
            "type": "surface"
           }
          ],
          "table": [
           {
            "cells": {
             "fill": {
              "color": "#EBF0F8"
             },
             "line": {
              "color": "white"
             }
            },
            "header": {
             "fill": {
              "color": "#C8D4E3"
             },
             "line": {
              "color": "white"
             }
            },
            "type": "table"
           }
          ]
         },
         "layout": {
          "annotationdefaults": {
           "arrowcolor": "#2a3f5f",
           "arrowhead": 0,
           "arrowwidth": 1
          },
          "autotypenumbers": "strict",
          "coloraxis": {
           "colorbar": {
            "outlinewidth": 0,
            "ticks": ""
           }
          },
          "colorscale": {
           "diverging": [
            [
             0,
             "#8e0152"
            ],
            [
             0.1,
             "#c51b7d"
            ],
            [
             0.2,
             "#de77ae"
            ],
            [
             0.3,
             "#f1b6da"
            ],
            [
             0.4,
             "#fde0ef"
            ],
            [
             0.5,
             "#f7f7f7"
            ],
            [
             0.6,
             "#e6f5d0"
            ],
            [
             0.7,
             "#b8e186"
            ],
            [
             0.8,
             "#7fbc41"
            ],
            [
             0.9,
             "#4d9221"
            ],
            [
             1,
             "#276419"
            ]
           ],
           "sequential": [
            [
             0,
             "#0d0887"
            ],
            [
             0.1111111111111111,
             "#46039f"
            ],
            [
             0.2222222222222222,
             "#7201a8"
            ],
            [
             0.3333333333333333,
             "#9c179e"
            ],
            [
             0.4444444444444444,
             "#bd3786"
            ],
            [
             0.5555555555555556,
             "#d8576b"
            ],
            [
             0.6666666666666666,
             "#ed7953"
            ],
            [
             0.7777777777777778,
             "#fb9f3a"
            ],
            [
             0.8888888888888888,
             "#fdca26"
            ],
            [
             1,
             "#f0f921"
            ]
           ],
           "sequentialminus": [
            [
             0,
             "#0d0887"
            ],
            [
             0.1111111111111111,
             "#46039f"
            ],
            [
             0.2222222222222222,
             "#7201a8"
            ],
            [
             0.3333333333333333,
             "#9c179e"
            ],
            [
             0.4444444444444444,
             "#bd3786"
            ],
            [
             0.5555555555555556,
             "#d8576b"
            ],
            [
             0.6666666666666666,
             "#ed7953"
            ],
            [
             0.7777777777777778,
             "#fb9f3a"
            ],
            [
             0.8888888888888888,
             "#fdca26"
            ],
            [
             1,
             "#f0f921"
            ]
           ]
          },
          "colorway": [
           "#636efa",
           "#EF553B",
           "#00cc96",
           "#ab63fa",
           "#FFA15A",
           "#19d3f3",
           "#FF6692",
           "#B6E880",
           "#FF97FF",
           "#FECB52"
          ],
          "font": {
           "color": "#2a3f5f"
          },
          "geo": {
           "bgcolor": "white",
           "lakecolor": "white",
           "landcolor": "#E5ECF6",
           "showlakes": true,
           "showland": true,
           "subunitcolor": "white"
          },
          "hoverlabel": {
           "align": "left"
          },
          "hovermode": "closest",
          "mapbox": {
           "style": "light"
          },
          "paper_bgcolor": "white",
          "plot_bgcolor": "#E5ECF6",
          "polar": {
           "angularaxis": {
            "gridcolor": "white",
            "linecolor": "white",
            "ticks": ""
           },
           "bgcolor": "#E5ECF6",
           "radialaxis": {
            "gridcolor": "white",
            "linecolor": "white",
            "ticks": ""
           }
          },
          "scene": {
           "xaxis": {
            "backgroundcolor": "#E5ECF6",
            "gridcolor": "white",
            "gridwidth": 2,
            "linecolor": "white",
            "showbackground": true,
            "ticks": "",
            "zerolinecolor": "white"
           },
           "yaxis": {
            "backgroundcolor": "#E5ECF6",
            "gridcolor": "white",
            "gridwidth": 2,
            "linecolor": "white",
            "showbackground": true,
            "ticks": "",
            "zerolinecolor": "white"
           },
           "zaxis": {
            "backgroundcolor": "#E5ECF6",
            "gridcolor": "white",
            "gridwidth": 2,
            "linecolor": "white",
            "showbackground": true,
            "ticks": "",
            "zerolinecolor": "white"
           }
          },
          "shapedefaults": {
           "line": {
            "color": "#2a3f5f"
           }
          },
          "ternary": {
           "aaxis": {
            "gridcolor": "white",
            "linecolor": "white",
            "ticks": ""
           },
           "baxis": {
            "gridcolor": "white",
            "linecolor": "white",
            "ticks": ""
           },
           "bgcolor": "#E5ECF6",
           "caxis": {
            "gridcolor": "white",
            "linecolor": "white",
            "ticks": ""
           }
          },
          "title": {
           "x": 0.05
          },
          "xaxis": {
           "automargin": true,
           "gridcolor": "white",
           "linecolor": "white",
           "ticks": "",
           "title": {
            "standoff": 15
           },
           "zerolinecolor": "white",
           "zerolinewidth": 2
          },
          "yaxis": {
           "automargin": true,
           "gridcolor": "white",
           "linecolor": "white",
           "ticks": "",
           "title": {
            "standoff": 15
           },
           "zerolinecolor": "white",
           "zerolinewidth": 2
          }
         }
        },
        "title": {
         "text": "Single Week Transactions by User"
        },
        "width": 1000,
        "xaxis": {
         "anchor": "y",
         "domain": [
          0,
          1
         ],
         "title": {
          "text": "user_id"
         }
        },
        "yaxis": {
         "anchor": "x",
         "domain": [
          0,
          1
         ],
         "title": {
          "text": "transaction_amount"
         }
        }
       }
      },
      "text/html": [
       "<div>                            <div id=\"325f832b-fb22-4472-b3ff-3aa1b537912c\" class=\"plotly-graph-div\" style=\"height:525px; width:1000px;\"></div>            <script type=\"text/javascript\">                require([\"plotly\"], function(Plotly) {                    window.PLOTLYENV=window.PLOTLYENV || {};                                    if (document.getElementById(\"325f832b-fb22-4472-b3ff-3aa1b537912c\")) {                    Plotly.newPlot(                        \"325f832b-fb22-4472-b3ff-3aa1b537912c\",                        [{\"alignmentgroup\":\"True\",\"hovertemplate\":\"user_id=%{x}<br>transaction_amount=%{y}<extra></extra>\",\"legendgroup\":\"\",\"marker\":{\"color\":\"#636efa\",\"pattern\":{\"shape\":\"\"}},\"name\":\"\",\"offsetgroup\":\"\",\"orientation\":\"v\",\"showlegend\":false,\"textposition\":\"auto\",\"x\":[\"60490330-93b3-4d20-a48c-dd26c20581e0\",\"9cd3da80-2dce-4fdd-a2ef-fff3ec197ab8\",\"wr3rZpxrudOZ2zcwerRvL4RmQbC2\",\"cb8558e6-095c-476a-82b4-abbc7c864881\",\"091d079f-7c52-4473-8641-ea757bcb8c69\",\"f31904f4-e4cd-42d4-8a83-3e27defe3af8\",\"61b1cdeb-7453-4860-af2e-850e9339ccd3\",\"8e8d03ce-9525-499a-93b5-82066fbc8438\",\"52a88b20-b04d-4119-b366-c1edc720efb7\",\"837aa17b-cbfc-4a44-b5c2-be6c9994ec59\",\"44118c1d-c05d-490e-ad7a-c52a1e59fb09\",\"d32a559d-30ca-4248-abce-f82ef0d15f2c\",\"dcbc2846-f11d-4694-9573-4c01910a6d5f\",\"d6282da6-f014-471a-af8d-66ddf4c7855b\",\"cd5af010-d5fa-4b0a-9fc7-43977e552ed4\",\"d40791d3-4f54-4fa3-acbf-1c04149257ac\",\"97212561-e61a-45d2-a010-db6a0aeb379d\",\"87eec234-d4d7-461b-af8e-49d8ee36e757\",\"691437d8-02e5-4de6-b814-9f172333d5bb\",\"5365ef22-136b-460e-bcf9-84ca42570d29\",\"c1b34477-2938-4128-b9ba-8fe861588e2d\",\"4cd10014-8822-4b32-b874-28a14d9e720c\",\"bd5c4bc7-521b-41f5-a870-4c966da9c42e\",\"14de2c34-7cc8-4453-868d-afa4cbc8507e\",\"2e523062-83f8-4565-a6e4-a745ae8cfb15\",\"5ae06ee2-1133-43db-be96-0dc2dee35ce3\",\"05be2ebb-6be0-4016-bcf0-e6cf77ea24c9\",\"2wZ1PvASggdQwHRAiodzKwR8ywF2\",\"74f824e6-3f39-4b0f-a138-de72740057ca\",\"a755d8cb-31b3-4311-ab1d-e2831eceab0a\",\"a596a204-79e6-4670-b1aa-baeaa70041c8\",\"8ce314dd-d51a-4d34-9c8a-ceca85679560\",\"bc81f324-507a-4a92-b85d-0bd81d2bea49\",\"378a4c00-20d5-4fa6-8d12-38b2ef646e5b\",\"c221b4b3-8c87-4daf-bc81-367a2451123d\",\"a7d2d190-c11b-400a-9cbf-235f2a7a64f2\",\"b8558634-80f4-426c-85fb-602e00a4dd8a\",\"e330468f-2be1-4c2e-bf7c-bf0c33d3240a\",\"ITntqIFk6zdrmI6Q4O0wEmqvnAP2\",\"240d226d-54cd-407d-b918-903630c92d82\",\"9fce0e99-ea1a-440b-8721-193708f84a45\",\"2c276ab3-7a06-4647-9ad6-c8d92773e497\",\"5e37421c-b9eb-4364-bf1f-1457eb17f96f\",\"cb5db925-7ce0-40ea-bb0d-f8bfaa21382a\",\"43d03a4f-b3d9-4062-9919-fbde298f707b\",\"4c9039d4-f4d7-4873-b3b1-3e20d2476b2c\",\"65d4985d-a41d-4b50-b57e-1185abfd9172\",\"a1e2eb40-babb-4527-b8ac-9dfebc2a14cc\",\"0ecb85ab-5d6b-46a6-9a78-17b713fc54f2\",\"a1ae02a7-27da-4b7f-b1b4-89fb36c2a398\",\"c9291160-9df7-48b1-863f-a13a1408b3cf\",\"1fe1a542-f4e0-4d64-896b-dc2747becf8e\",\"8f7e4a9a-3bc9-40d7-a8e9-bade3156633c\",\"572b42de-8173-4b8e-b56e-ae7fc2a26584\",\"c50be65f-fd00-4223-98e1-e992edd3b165\",\"5d9dee17-b8f5-41a7-a375-41c2aaa92c0a\",\"b366457e-9daa-4799-8bf7-c3e6e320e0fb\",\"9f3bed3b-df74-4e37-9732-3858a6f433ea\",\"ebfda3a3-6b37-4626-8348-f3485ddd425b\",\"ce738ca7-46d0-446a-9b87-b59998b98c1c\",\"400619c7-38f2-418b-a6c0-e8226c1183cd\",\"55b9014c-fc42-4a46-9265-47ad3e64925e\",\"a34dc301-b783-4fc6-9dbb-caf5e052a9b5\",\"74ead307-c042-4fd0-a1e7-5c12fe932f3f\",\"af290d9a-8378-4851-9056-e630b9b7ca19\",\"628979fd-debc-4096-802c-66d935d35949\",\"1fc626f7-68fb-443e-85b1-fa8fdf56caf9\",\"65d5eb25-5788-4939-ba5e-0d2c87e83861\",\"1c966620-5598-4d09-8711-2e6bde37f976\",\"eedc4b83-8837-457e-bb28-3b26bd633964\",\"d6156fff-baed-4d2c-b4ad-3b2ee436ee14\",\"47dc3a34-e2ee-4c31-9fc3-b7758e6106e0\",\"9a0fb3a9-a875-451b-ae51-02c33fd8d4a4\",\"b905b6e9-8183-4085-abb5-f4941611b920\",\"35b28e32-221f-422b-ae97-f9416afe294d\",\"aea93b0e-98d9-4bc2-b13c-23fdaf3b4085\",\"e7fc6ff2-9ca6-4bd1-9647-d35b11852fff\",\"f1599709-5d8e-4b85-bbcc-5055e0015379\",\"5d4daff8-9df1-4c0f-a9ee-7808a5d0fedb\",\"00f8b384-248e-4998-8b90-f8f6124652c5\",\"8de5f3b1-d688-46cd-822a-2abb952ddc4d\",\"f167380c-f271-44de-a6ff-f406e3692c1a\",\"dcb52a2e-6cb6-4798-b6be-b2236effb9d7\",\"2a8c6a99-d6de-41fa-880c-bc6b79d4cbf6\",\"ef15a0c7-b7bd-4475-8bcf-38325fc79578\",\"3a522ec5-34ad-4013-8b86-cdedf7b3ae4b\",\"09834de5-d21f-45f2-b1e9-aee2bcbb13db\",\"a81332fd-3665-4dbc-a91f-6c7180b96869\",\"5a929586-2291-45ba-bde9-fcfae8948d74\",\"731f3072-fe83-4f4a-a724-6af6039b6514\",\"xEPNF2kCrSSe4uwhkbMxWg8b51B2\",\"359493c4-1dc0-4e36-87e4-a3a8301285d8\",\"b40e0f8c-e17c-4a17-ab33-7db1dfb0e5a9\",\"4c49a7df-9c23-4f2d-8249-1fe60f6d7b25\",\"34fb3e5b-66f3-47b5-8ccc-6aebacbb5ccc\",\"1196a816-c0fa-49e9-b702-07797a505992\",\"40e7ecda-5567-4077-bba9-7b56ee2a16e3\",\"f4f0beab-bc4d-4827-9c38-768250266212\"],\"xaxis\":\"x\",\"y\":[2025000.0,834660.0,775000.0,750000.0,722265.6666666666,625500.0,555555.5555555556,550000.0,534423.3333333334,500000.0,468179.6666666667,438345.3333333333,432244.0,426088.8888888889,370000.0,361678.5714285714,351666.6666666667,350269.75,342333.3333333333,338835.9166666667,336000.0,324000.0,313111.1111111111,300000.0,296000.0,270325.0,268000.0,256896.875,250000.0,250000.0,227232.38095238098,223802.1875,209299.25,202487.88265306124,183398.6666666667,177756.2,166380.0,159250.0,145312.5,145235.47222222222,145000.0,140222.41666666666,123370.37037037036,121869.33333333333,118340.65476190476,115009.6,110534.09090909091,107583.33333333333,106750.0,105468.75,105333.33333333333,104500.0,103208.33333333334,100648.14814814815,100000.0,96046.66666666667,93605.66666666667,91826.75510204081,81348.5,75703.5,70164.125,68000.0,66599.52777777778,66527.0,65833.33333333333,64840.0,63355.555555555555,62500.0,56656.666666666664,53840.0,53419.047619047626,51773.37037037037,51688.88888888888,50488.899305555555,49500.0,48630.541176470586,41741.666666666664,38283.88888888889,37860.09259259259,34584.0,33589.979166666664,28435.29411764706,26138.09523809524,19457.333333333336,17000.0,16187.962962962962,13945.25,13666.666666666666,10328.125,10000.0,9866.666666666666,9236.111111111111,6058.333333333333,5349.260919343814,4777.777777777777,4160.0,1800.0,370.0],\"yaxis\":\"y\",\"type\":\"bar\"}],                        {\"template\":{\"data\":{\"bar\":[{\"error_x\":{\"color\":\"#2a3f5f\"},\"error_y\":{\"color\":\"#2a3f5f\"},\"marker\":{\"line\":{\"color\":\"#E5ECF6\",\"width\":0.5},\"pattern\":{\"fillmode\":\"overlay\",\"size\":10,\"solidity\":0.2}},\"type\":\"bar\"}],\"barpolar\":[{\"marker\":{\"line\":{\"color\":\"#E5ECF6\",\"width\":0.5},\"pattern\":{\"fillmode\":\"overlay\",\"size\":10,\"solidity\":0.2}},\"type\":\"barpolar\"}],\"carpet\":[{\"aaxis\":{\"endlinecolor\":\"#2a3f5f\",\"gridcolor\":\"white\",\"linecolor\":\"white\",\"minorgridcolor\":\"white\",\"startlinecolor\":\"#2a3f5f\"},\"baxis\":{\"endlinecolor\":\"#2a3f5f\",\"gridcolor\":\"white\",\"linecolor\":\"white\",\"minorgridcolor\":\"white\",\"startlinecolor\":\"#2a3f5f\"},\"type\":\"carpet\"}],\"choropleth\":[{\"colorbar\":{\"outlinewidth\":0,\"ticks\":\"\"},\"type\":\"choropleth\"}],\"contour\":[{\"colorbar\":{\"outlinewidth\":0,\"ticks\":\"\"},\"colorscale\":[[0.0,\"#0d0887\"],[0.1111111111111111,\"#46039f\"],[0.2222222222222222,\"#7201a8\"],[0.3333333333333333,\"#9c179e\"],[0.4444444444444444,\"#bd3786\"],[0.5555555555555556,\"#d8576b\"],[0.6666666666666666,\"#ed7953\"],[0.7777777777777778,\"#fb9f3a\"],[0.8888888888888888,\"#fdca26\"],[1.0,\"#f0f921\"]],\"type\":\"contour\"}],\"contourcarpet\":[{\"colorbar\":{\"outlinewidth\":0,\"ticks\":\"\"},\"type\":\"contourcarpet\"}],\"heatmap\":[{\"colorbar\":{\"outlinewidth\":0,\"ticks\":\"\"},\"colorscale\":[[0.0,\"#0d0887\"],[0.1111111111111111,\"#46039f\"],[0.2222222222222222,\"#7201a8\"],[0.3333333333333333,\"#9c179e\"],[0.4444444444444444,\"#bd3786\"],[0.5555555555555556,\"#d8576b\"],[0.6666666666666666,\"#ed7953\"],[0.7777777777777778,\"#fb9f3a\"],[0.8888888888888888,\"#fdca26\"],[1.0,\"#f0f921\"]],\"type\":\"heatmap\"}],\"heatmapgl\":[{\"colorbar\":{\"outlinewidth\":0,\"ticks\":\"\"},\"colorscale\":[[0.0,\"#0d0887\"],[0.1111111111111111,\"#46039f\"],[0.2222222222222222,\"#7201a8\"],[0.3333333333333333,\"#9c179e\"],[0.4444444444444444,\"#bd3786\"],[0.5555555555555556,\"#d8576b\"],[0.6666666666666666,\"#ed7953\"],[0.7777777777777778,\"#fb9f3a\"],[0.8888888888888888,\"#fdca26\"],[1.0,\"#f0f921\"]],\"type\":\"heatmapgl\"}],\"histogram\":[{\"marker\":{\"pattern\":{\"fillmode\":\"overlay\",\"size\":10,\"solidity\":0.2}},\"type\":\"histogram\"}],\"histogram2d\":[{\"colorbar\":{\"outlinewidth\":0,\"ticks\":\"\"},\"colorscale\":[[0.0,\"#0d0887\"],[0.1111111111111111,\"#46039f\"],[0.2222222222222222,\"#7201a8\"],[0.3333333333333333,\"#9c179e\"],[0.4444444444444444,\"#bd3786\"],[0.5555555555555556,\"#d8576b\"],[0.6666666666666666,\"#ed7953\"],[0.7777777777777778,\"#fb9f3a\"],[0.8888888888888888,\"#fdca26\"],[1.0,\"#f0f921\"]],\"type\":\"histogram2d\"}],\"histogram2dcontour\":[{\"colorbar\":{\"outlinewidth\":0,\"ticks\":\"\"},\"colorscale\":[[0.0,\"#0d0887\"],[0.1111111111111111,\"#46039f\"],[0.2222222222222222,\"#7201a8\"],[0.3333333333333333,\"#9c179e\"],[0.4444444444444444,\"#bd3786\"],[0.5555555555555556,\"#d8576b\"],[0.6666666666666666,\"#ed7953\"],[0.7777777777777778,\"#fb9f3a\"],[0.8888888888888888,\"#fdca26\"],[1.0,\"#f0f921\"]],\"type\":\"histogram2dcontour\"}],\"mesh3d\":[{\"colorbar\":{\"outlinewidth\":0,\"ticks\":\"\"},\"type\":\"mesh3d\"}],\"parcoords\":[{\"line\":{\"colorbar\":{\"outlinewidth\":0,\"ticks\":\"\"}},\"type\":\"parcoords\"}],\"pie\":[{\"automargin\":true,\"type\":\"pie\"}],\"scatter\":[{\"marker\":{\"colorbar\":{\"outlinewidth\":0,\"ticks\":\"\"}},\"type\":\"scatter\"}],\"scatter3d\":[{\"line\":{\"colorbar\":{\"outlinewidth\":0,\"ticks\":\"\"}},\"marker\":{\"colorbar\":{\"outlinewidth\":0,\"ticks\":\"\"}},\"type\":\"scatter3d\"}],\"scattercarpet\":[{\"marker\":{\"colorbar\":{\"outlinewidth\":0,\"ticks\":\"\"}},\"type\":\"scattercarpet\"}],\"scattergeo\":[{\"marker\":{\"colorbar\":{\"outlinewidth\":0,\"ticks\":\"\"}},\"type\":\"scattergeo\"}],\"scattergl\":[{\"marker\":{\"colorbar\":{\"outlinewidth\":0,\"ticks\":\"\"}},\"type\":\"scattergl\"}],\"scattermapbox\":[{\"marker\":{\"colorbar\":{\"outlinewidth\":0,\"ticks\":\"\"}},\"type\":\"scattermapbox\"}],\"scatterpolar\":[{\"marker\":{\"colorbar\":{\"outlinewidth\":0,\"ticks\":\"\"}},\"type\":\"scatterpolar\"}],\"scatterpolargl\":[{\"marker\":{\"colorbar\":{\"outlinewidth\":0,\"ticks\":\"\"}},\"type\":\"scatterpolargl\"}],\"scatterternary\":[{\"marker\":{\"colorbar\":{\"outlinewidth\":0,\"ticks\":\"\"}},\"type\":\"scatterternary\"}],\"surface\":[{\"colorbar\":{\"outlinewidth\":0,\"ticks\":\"\"},\"colorscale\":[[0.0,\"#0d0887\"],[0.1111111111111111,\"#46039f\"],[0.2222222222222222,\"#7201a8\"],[0.3333333333333333,\"#9c179e\"],[0.4444444444444444,\"#bd3786\"],[0.5555555555555556,\"#d8576b\"],[0.6666666666666666,\"#ed7953\"],[0.7777777777777778,\"#fb9f3a\"],[0.8888888888888888,\"#fdca26\"],[1.0,\"#f0f921\"]],\"type\":\"surface\"}],\"table\":[{\"cells\":{\"fill\":{\"color\":\"#EBF0F8\"},\"line\":{\"color\":\"white\"}},\"header\":{\"fill\":{\"color\":\"#C8D4E3\"},\"line\":{\"color\":\"white\"}},\"type\":\"table\"}]},\"layout\":{\"annotationdefaults\":{\"arrowcolor\":\"#2a3f5f\",\"arrowhead\":0,\"arrowwidth\":1},\"autotypenumbers\":\"strict\",\"coloraxis\":{\"colorbar\":{\"outlinewidth\":0,\"ticks\":\"\"}},\"colorscale\":{\"diverging\":[[0,\"#8e0152\"],[0.1,\"#c51b7d\"],[0.2,\"#de77ae\"],[0.3,\"#f1b6da\"],[0.4,\"#fde0ef\"],[0.5,\"#f7f7f7\"],[0.6,\"#e6f5d0\"],[0.7,\"#b8e186\"],[0.8,\"#7fbc41\"],[0.9,\"#4d9221\"],[1,\"#276419\"]],\"sequential\":[[0.0,\"#0d0887\"],[0.1111111111111111,\"#46039f\"],[0.2222222222222222,\"#7201a8\"],[0.3333333333333333,\"#9c179e\"],[0.4444444444444444,\"#bd3786\"],[0.5555555555555556,\"#d8576b\"],[0.6666666666666666,\"#ed7953\"],[0.7777777777777778,\"#fb9f3a\"],[0.8888888888888888,\"#fdca26\"],[1.0,\"#f0f921\"]],\"sequentialminus\":[[0.0,\"#0d0887\"],[0.1111111111111111,\"#46039f\"],[0.2222222222222222,\"#7201a8\"],[0.3333333333333333,\"#9c179e\"],[0.4444444444444444,\"#bd3786\"],[0.5555555555555556,\"#d8576b\"],[0.6666666666666666,\"#ed7953\"],[0.7777777777777778,\"#fb9f3a\"],[0.8888888888888888,\"#fdca26\"],[1.0,\"#f0f921\"]]},\"colorway\":[\"#636efa\",\"#EF553B\",\"#00cc96\",\"#ab63fa\",\"#FFA15A\",\"#19d3f3\",\"#FF6692\",\"#B6E880\",\"#FF97FF\",\"#FECB52\"],\"font\":{\"color\":\"#2a3f5f\"},\"geo\":{\"bgcolor\":\"white\",\"lakecolor\":\"white\",\"landcolor\":\"#E5ECF6\",\"showlakes\":true,\"showland\":true,\"subunitcolor\":\"white\"},\"hoverlabel\":{\"align\":\"left\"},\"hovermode\":\"closest\",\"mapbox\":{\"style\":\"light\"},\"paper_bgcolor\":\"white\",\"plot_bgcolor\":\"#E5ECF6\",\"polar\":{\"angularaxis\":{\"gridcolor\":\"white\",\"linecolor\":\"white\",\"ticks\":\"\"},\"bgcolor\":\"#E5ECF6\",\"radialaxis\":{\"gridcolor\":\"white\",\"linecolor\":\"white\",\"ticks\":\"\"}},\"scene\":{\"xaxis\":{\"backgroundcolor\":\"#E5ECF6\",\"gridcolor\":\"white\",\"gridwidth\":2,\"linecolor\":\"white\",\"showbackground\":true,\"ticks\":\"\",\"zerolinecolor\":\"white\"},\"yaxis\":{\"backgroundcolor\":\"#E5ECF6\",\"gridcolor\":\"white\",\"gridwidth\":2,\"linecolor\":\"white\",\"showbackground\":true,\"ticks\":\"\",\"zerolinecolor\":\"white\"},\"zaxis\":{\"backgroundcolor\":\"#E5ECF6\",\"gridcolor\":\"white\",\"gridwidth\":2,\"linecolor\":\"white\",\"showbackground\":true,\"ticks\":\"\",\"zerolinecolor\":\"white\"}},\"shapedefaults\":{\"line\":{\"color\":\"#2a3f5f\"}},\"ternary\":{\"aaxis\":{\"gridcolor\":\"white\",\"linecolor\":\"white\",\"ticks\":\"\"},\"baxis\":{\"gridcolor\":\"white\",\"linecolor\":\"white\",\"ticks\":\"\"},\"bgcolor\":\"#E5ECF6\",\"caxis\":{\"gridcolor\":\"white\",\"linecolor\":\"white\",\"ticks\":\"\"}},\"title\":{\"x\":0.05},\"xaxis\":{\"automargin\":true,\"gridcolor\":\"white\",\"linecolor\":\"white\",\"ticks\":\"\",\"title\":{\"standoff\":15},\"zerolinecolor\":\"white\",\"zerolinewidth\":2},\"yaxis\":{\"automargin\":true,\"gridcolor\":\"white\",\"linecolor\":\"white\",\"ticks\":\"\",\"title\":{\"standoff\":15},\"zerolinecolor\":\"white\",\"zerolinewidth\":2}}},\"xaxis\":{\"anchor\":\"y\",\"domain\":[0.0,1.0],\"title\":{\"text\":\"user_id\"}},\"yaxis\":{\"anchor\":\"x\",\"domain\":[0.0,1.0],\"title\":{\"text\":\"transaction_amount\"}},\"legend\":{\"tracegroupgap\":0},\"title\":{\"text\":\"Single Week Transactions by User\"},\"barmode\":\"relative\",\"width\":1000},                        {\"responsive\": true}                    ).then(function(){\n",
       "                            \n",
       "var gd = document.getElementById('325f832b-fb22-4472-b3ff-3aa1b537912c');\n",
       "var x = new MutationObserver(function (mutations, observer) {{\n",
       "        var display = window.getComputedStyle(gd).display;\n",
       "        if (!display || display === 'none') {{\n",
       "            console.log([gd, 'removed!']);\n",
       "            Plotly.purge(gd);\n",
       "            observer.disconnect();\n",
       "        }}\n",
       "}});\n",
       "\n",
       "// Listen for the removal of the full notebook cells\n",
       "var notebookContainer = gd.closest('#notebook-container');\n",
       "if (notebookContainer) {{\n",
       "    x.observe(notebookContainer, {childList: true});\n",
       "}}\n",
       "\n",
       "// Listen for the clearing of the current output cell\n",
       "var outputEl = gd.closest('.output');\n",
       "if (outputEl) {{\n",
       "    x.observe(outputEl, {childList: true});\n",
       "}}\n",
       "\n",
       "                        })                };                });            </script>        </div>"
      ]
     },
     "metadata": {},
     "output_type": "display_data"
    }
   ],
   "source": [
    "fig = px.bar(PDD, x = 'user_id',y = 'transaction_amount', title = 'Single Week Transactions by User' ,\n",
    "             width = 1000)\n",
    "fig.show()"
   ]
  },
  {
   "attachments": {
    "Screenshot%202022-04-23%20161236.png": {
     "image/png": "[encoded data removed]"
    }
   },
   "cell_type": "markdown",
   "id": "afaa3ce1",
   "metadata": {},
   "source": [
    "![Screenshot%202022-04-23%20161236.png](attachment:Screenshot%202022-04-23%20161236.png)"
   ]
  },
  {
   "cell_type": "code",
   "execution_count": 28,
   "id": "8bb14dfd",
   "metadata": {},
   "outputs": [
    {
     "data": {
      "text/plain": [
       "0.6793013172125375"
      ]
     },
     "execution_count": 28,
     "metadata": {},
     "output_type": "execute_result"
    }
   ],
   "source": [
    "a = (PDD['transaction_amount'][:10].sum())/(PDD['transaction_amount'][11:98].sum())\n",
    "a"
   ]
  },
  {
   "cell_type": "markdown",
   "id": "675bf2d3",
   "metadata": {},
   "source": [
    "Top ten users approximately make up for 67% of all transactions"
   ]
  },
  {
   "cell_type": "code",
   "execution_count": 29,
   "id": "cb6583b7",
   "metadata": {},
   "outputs": [],
   "source": [
    "AAA = AAA.sort_values(by = \"transaction_amount\", ascending = False)"
   ]
  },
  {
   "cell_type": "code",
   "execution_count": 30,
   "id": "b070ffdd",
   "metadata": {},
   "outputs": [],
   "source": [
    "df_weeks = df.groupby(['user_id', 'Week No.']).size()"
   ]
  },
  {
   "cell_type": "code",
   "execution_count": 31,
   "id": "034f6752",
   "metadata": {},
   "outputs": [
    {
     "data": {
      "text/plain": [
       "user_id                               Week No.\n",
       "00f8b384-248e-4998-8b90-f8f6124652c5  10.0        39\n",
       "                                      12.0        33\n",
       "                                      13.0         3\n",
       "                                      14.0         2\n",
       "                                      15.0        23\n",
       "                                                  ..\n",
       "wr3rZpxrudOZ2zcwerRvL4RmQbC2          36.0         2\n",
       "                                      38.0         2\n",
       "                                      39.0         4\n",
       "xEPNF2kCrSSe4uwhkbMxWg8b51B2          27.0        49\n",
       "                                      28.0         5\n",
       "Length: 1118, dtype: int64"
      ]
     },
     "execution_count": 31,
     "metadata": {},
     "output_type": "execute_result"
    }
   ],
   "source": [
    "df_weeks\n",
    "#Series of data with the number of transactions for that particular week, could be useful \n",
    "#for a drill down on the behaviour"
   ]
  },
  {
   "cell_type": "code",
   "execution_count": 32,
   "id": "36ec73af",
   "metadata": {},
   "outputs": [
    {
     "data": {
      "text/plain": [
       "pandas.core.series.Series"
      ]
     },
     "execution_count": 32,
     "metadata": {},
     "output_type": "execute_result"
    }
   ],
   "source": [
    "type(df_weeks)"
   ]
  },
  {
   "cell_type": "code",
   "execution_count": 33,
   "id": "ad2d3e6a",
   "metadata": {},
   "outputs": [],
   "source": [
    "DF = df_weeks.to_frame(name= \"Transactions in that Week\")"
   ]
  },
  {
   "cell_type": "code",
   "execution_count": 34,
   "id": "414e366e",
   "metadata": {},
   "outputs": [
    {
     "data": {
      "text/html": [
       "<div>\n",
       "<style scoped>\n",
       "    .dataframe tbody tr th:only-of-type {\n",
       "        vertical-align: middle;\n",
       "    }\n",
       "\n",
       "    .dataframe tbody tr th {\n",
       "        vertical-align: top;\n",
       "    }\n",
       "\n",
       "    .dataframe thead th {\n",
       "        text-align: right;\n",
       "    }\n",
       "</style>\n",
       "<table border=\"1\" class=\"dataframe\">\n",
       "  <thead>\n",
       "    <tr style=\"text-align: right;\">\n",
       "      <th></th>\n",
       "      <th></th>\n",
       "      <th>Transactions in that Week</th>\n",
       "    </tr>\n",
       "    <tr>\n",
       "      <th>user_id</th>\n",
       "      <th>Week No.</th>\n",
       "      <th></th>\n",
       "    </tr>\n",
       "  </thead>\n",
       "  <tbody>\n",
       "    <tr>\n",
       "      <th rowspan=\"10\" valign=\"top\">00f8b384-248e-4998-8b90-f8f6124652c5</th>\n",
       "      <th>10.0</th>\n",
       "      <td>39</td>\n",
       "    </tr>\n",
       "    <tr>\n",
       "      <th>12.0</th>\n",
       "      <td>33</td>\n",
       "    </tr>\n",
       "    <tr>\n",
       "      <th>13.0</th>\n",
       "      <td>3</td>\n",
       "    </tr>\n",
       "    <tr>\n",
       "      <th>14.0</th>\n",
       "      <td>2</td>\n",
       "    </tr>\n",
       "    <tr>\n",
       "      <th>15.0</th>\n",
       "      <td>23</td>\n",
       "    </tr>\n",
       "    <tr>\n",
       "      <th>19.0</th>\n",
       "      <td>19</td>\n",
       "    </tr>\n",
       "    <tr>\n",
       "      <th>22.0</th>\n",
       "      <td>10</td>\n",
       "    </tr>\n",
       "    <tr>\n",
       "      <th>23.0</th>\n",
       "      <td>53</td>\n",
       "    </tr>\n",
       "    <tr>\n",
       "      <th>30.0</th>\n",
       "      <td>34</td>\n",
       "    </tr>\n",
       "    <tr>\n",
       "      <th>33.0</th>\n",
       "      <td>141</td>\n",
       "    </tr>\n",
       "    <tr>\n",
       "      <th>05be2ebb-6be0-4016-bcf0-e6cf77ea24c9</th>\n",
       "      <th>28.0</th>\n",
       "      <td>4</td>\n",
       "    </tr>\n",
       "  </tbody>\n",
       "</table>\n",
       "</div>"
      ],
      "text/plain": [
       "                                               Transactions in that Week\n",
       "user_id                              Week No.                           \n",
       "00f8b384-248e-4998-8b90-f8f6124652c5 10.0                             39\n",
       "                                     12.0                             33\n",
       "                                     13.0                              3\n",
       "                                     14.0                              2\n",
       "                                     15.0                             23\n",
       "                                     19.0                             19\n",
       "                                     22.0                             10\n",
       "                                     23.0                             53\n",
       "                                     30.0                             34\n",
       "                                     33.0                            141\n",
       "05be2ebb-6be0-4016-bcf0-e6cf77ea24c9 28.0                              4"
      ]
     },
     "execution_count": 34,
     "metadata": {},
     "output_type": "execute_result"
    }
   ],
   "source": [
    "DF.head(11)"
   ]
  },
  {
   "cell_type": "code",
   "execution_count": 35,
   "id": "c812d062",
   "metadata": {},
   "outputs": [],
   "source": [
    "DF = DF.groupby(['user_id']).size()"
   ]
  },
  {
   "cell_type": "code",
   "execution_count": 36,
   "id": "dcf3b204",
   "metadata": {},
   "outputs": [],
   "source": [
    "DF = DF.to_frame(name = 'No. of Active Weeks')"
   ]
  },
  {
   "cell_type": "code",
   "execution_count": 37,
   "id": "8f8b6b78",
   "metadata": {},
   "outputs": [
    {
     "data": {
      "text/html": [
       "<div>\n",
       "<style scoped>\n",
       "    .dataframe tbody tr th:only-of-type {\n",
       "        vertical-align: middle;\n",
       "    }\n",
       "\n",
       "    .dataframe tbody tr th {\n",
       "        vertical-align: top;\n",
       "    }\n",
       "\n",
       "    .dataframe thead th {\n",
       "        text-align: right;\n",
       "    }\n",
       "</style>\n",
       "<table border=\"1\" class=\"dataframe\">\n",
       "  <thead>\n",
       "    <tr style=\"text-align: right;\">\n",
       "      <th></th>\n",
       "      <th>No. of Active Weeks</th>\n",
       "    </tr>\n",
       "    <tr>\n",
       "      <th>user_id</th>\n",
       "      <th></th>\n",
       "    </tr>\n",
       "  </thead>\n",
       "  <tbody>\n",
       "    <tr>\n",
       "      <th>00f8b384-248e-4998-8b90-f8f6124652c5</th>\n",
       "      <td>10</td>\n",
       "    </tr>\n",
       "    <tr>\n",
       "      <th>05be2ebb-6be0-4016-bcf0-e6cf77ea24c9</th>\n",
       "      <td>6</td>\n",
       "    </tr>\n",
       "    <tr>\n",
       "      <th>091d079f-7c52-4473-8641-ea757bcb8c69</th>\n",
       "      <td>4</td>\n",
       "    </tr>\n",
       "    <tr>\n",
       "      <th>09834de5-d21f-45f2-b1e9-aee2bcbb13db</th>\n",
       "      <td>34</td>\n",
       "    </tr>\n",
       "    <tr>\n",
       "      <th>0ecb85ab-5d6b-46a6-9a78-17b713fc54f2</th>\n",
       "      <td>3</td>\n",
       "    </tr>\n",
       "    <tr>\n",
       "      <th>...</th>\n",
       "      <td>...</td>\n",
       "    </tr>\n",
       "    <tr>\n",
       "      <th>f167380c-f271-44de-a6ff-f406e3692c1a</th>\n",
       "      <td>9</td>\n",
       "    </tr>\n",
       "    <tr>\n",
       "      <th>f31904f4-e4cd-42d4-8a83-3e27defe3af8</th>\n",
       "      <td>33</td>\n",
       "    </tr>\n",
       "    <tr>\n",
       "      <th>f4f0beab-bc4d-4827-9c38-768250266212</th>\n",
       "      <td>1</td>\n",
       "    </tr>\n",
       "    <tr>\n",
       "      <th>wr3rZpxrudOZ2zcwerRvL4RmQbC2</th>\n",
       "      <td>8</td>\n",
       "    </tr>\n",
       "    <tr>\n",
       "      <th>xEPNF2kCrSSe4uwhkbMxWg8b51B2</th>\n",
       "      <td>2</td>\n",
       "    </tr>\n",
       "  </tbody>\n",
       "</table>\n",
       "<p>98 rows × 1 columns</p>\n",
       "</div>"
      ],
      "text/plain": [
       "                                      No. of Active Weeks\n",
       "user_id                                                  \n",
       "00f8b384-248e-4998-8b90-f8f6124652c5                   10\n",
       "05be2ebb-6be0-4016-bcf0-e6cf77ea24c9                    6\n",
       "091d079f-7c52-4473-8641-ea757bcb8c69                    4\n",
       "09834de5-d21f-45f2-b1e9-aee2bcbb13db                   34\n",
       "0ecb85ab-5d6b-46a6-9a78-17b713fc54f2                    3\n",
       "...                                                   ...\n",
       "f167380c-f271-44de-a6ff-f406e3692c1a                    9\n",
       "f31904f4-e4cd-42d4-8a83-3e27defe3af8                   33\n",
       "f4f0beab-bc4d-4827-9c38-768250266212                    1\n",
       "wr3rZpxrudOZ2zcwerRvL4RmQbC2                            8\n",
       "xEPNF2kCrSSe4uwhkbMxWg8b51B2                            2\n",
       "\n",
       "[98 rows x 1 columns]"
      ]
     },
     "execution_count": 37,
     "metadata": {},
     "output_type": "execute_result"
    }
   ],
   "source": [
    "DF"
   ]
  },
  {
   "cell_type": "markdown",
   "id": "252938be",
   "metadata": {},
   "source": [
    "*Top ten users by number of weeks of active transactions*"
   ]
  },
  {
   "cell_type": "code",
   "execution_count": 38,
   "id": "08abb5b5",
   "metadata": {},
   "outputs": [
    {
     "data": {
      "text/html": [
       "<div>\n",
       "<style scoped>\n",
       "    .dataframe tbody tr th:only-of-type {\n",
       "        vertical-align: middle;\n",
       "    }\n",
       "\n",
       "    .dataframe tbody tr th {\n",
       "        vertical-align: top;\n",
       "    }\n",
       "\n",
       "    .dataframe thead th {\n",
       "        text-align: right;\n",
       "    }\n",
       "</style>\n",
       "<table border=\"1\" class=\"dataframe\">\n",
       "  <thead>\n",
       "    <tr style=\"text-align: right;\">\n",
       "      <th></th>\n",
       "      <th>No. of Active Weeks</th>\n",
       "    </tr>\n",
       "    <tr>\n",
       "      <th>user_id</th>\n",
       "      <th></th>\n",
       "    </tr>\n",
       "  </thead>\n",
       "  <tbody>\n",
       "    <tr>\n",
       "      <th>cd5af010-d5fa-4b0a-9fc7-43977e552ed4</th>\n",
       "      <td>48</td>\n",
       "    </tr>\n",
       "    <tr>\n",
       "      <th>378a4c00-20d5-4fa6-8d12-38b2ef646e5b</th>\n",
       "      <td>46</td>\n",
       "    </tr>\n",
       "    <tr>\n",
       "      <th>ef15a0c7-b7bd-4475-8bcf-38325fc79578</th>\n",
       "      <td>45</td>\n",
       "    </tr>\n",
       "    <tr>\n",
       "      <th>c221b4b3-8c87-4daf-bc81-367a2451123d</th>\n",
       "      <td>37</td>\n",
       "    </tr>\n",
       "    <tr>\n",
       "      <th>5d4daff8-9df1-4c0f-a9ee-7808a5d0fedb</th>\n",
       "      <td>36</td>\n",
       "    </tr>\n",
       "    <tr>\n",
       "      <th>09834de5-d21f-45f2-b1e9-aee2bcbb13db</th>\n",
       "      <td>34</td>\n",
       "    </tr>\n",
       "    <tr>\n",
       "      <th>f31904f4-e4cd-42d4-8a83-3e27defe3af8</th>\n",
       "      <td>33</td>\n",
       "    </tr>\n",
       "    <tr>\n",
       "      <th>dcbc2846-f11d-4694-9573-4c01910a6d5f</th>\n",
       "      <td>28</td>\n",
       "    </tr>\n",
       "    <tr>\n",
       "      <th>1fc626f7-68fb-443e-85b1-fa8fdf56caf9</th>\n",
       "      <td>25</td>\n",
       "    </tr>\n",
       "    <tr>\n",
       "      <th>5365ef22-136b-460e-bcf9-84ca42570d29</th>\n",
       "      <td>23</td>\n",
       "    </tr>\n",
       "  </tbody>\n",
       "</table>\n",
       "</div>"
      ],
      "text/plain": [
       "                                      No. of Active Weeks\n",
       "user_id                                                  \n",
       "cd5af010-d5fa-4b0a-9fc7-43977e552ed4                   48\n",
       "378a4c00-20d5-4fa6-8d12-38b2ef646e5b                   46\n",
       "ef15a0c7-b7bd-4475-8bcf-38325fc79578                   45\n",
       "c221b4b3-8c87-4daf-bc81-367a2451123d                   37\n",
       "5d4daff8-9df1-4c0f-a9ee-7808a5d0fedb                   36\n",
       "09834de5-d21f-45f2-b1e9-aee2bcbb13db                   34\n",
       "f31904f4-e4cd-42d4-8a83-3e27defe3af8                   33\n",
       "dcbc2846-f11d-4694-9573-4c01910a6d5f                   28\n",
       "1fc626f7-68fb-443e-85b1-fa8fdf56caf9                   25\n",
       "5365ef22-136b-460e-bcf9-84ca42570d29                   23"
      ]
     },
     "execution_count": 38,
     "metadata": {},
     "output_type": "execute_result"
    }
   ],
   "source": [
    "Active_Weeks = DF.sort_values('No. of Active Weeks', ascending=False)\n",
    "Active_Weeks.head(10)"
   ]
  },
  {
   "cell_type": "code",
   "execution_count": 39,
   "id": "535af9d2",
   "metadata": {},
   "outputs": [],
   "source": [
    "Active_Weeks = Active_Weeks.reset_index(drop = False)"
   ]
  },
  {
   "cell_type": "code",
   "execution_count": 40,
   "id": "43712a91",
   "metadata": {},
   "outputs": [
    {
     "data": {
      "application/vnd.plotly.v1+json": {
       "config": {
        "plotlyServerURL": "https://plot.ly"
       },
       "data": [
        {
         "domain": {
          "x": [
           0,
           1
          ],
          "y": [
           0,
           1
          ]
         },
         "hovertemplate": "label=%{label}<br>value=%{value}<extra></extra>",
         "labels": [
          "cd5af010-d5fa-4b0a-9fc7-43977e552ed4",
          "378a4c00-20d5-4fa6-8d12-38b2ef646e5b",
          "ef15a0c7-b7bd-4475-8bcf-38325fc79578",
          "c221b4b3-8c87-4daf-bc81-367a2451123d",
          "5d4daff8-9df1-4c0f-a9ee-7808a5d0fedb",
          "09834de5-d21f-45f2-b1e9-aee2bcbb13db",
          "f31904f4-e4cd-42d4-8a83-3e27defe3af8",
          "dcbc2846-f11d-4694-9573-4c01910a6d5f",
          "1fc626f7-68fb-443e-85b1-fa8fdf56caf9",
          "5365ef22-136b-460e-bcf9-84ca42570d29"
         ],
         "legendgroup": "",
         "name": "",
         "showlegend": true,
         "type": "pie",
         "values": [
          48,
          46,
          45,
          37,
          36,
          34,
          33,
          28,
          25,
          23
         ]
        }
       ],
       "layout": {
        "height": 1000,
        "legend": {
         "tracegroupgap": 0
        },
        "template": {
         "data": {
          "bar": [
           {
            "error_x": {
             "color": "#2a3f5f"
            },
            "error_y": {
             "color": "#2a3f5f"
            },
            "marker": {
             "line": {
              "color": "#E5ECF6",
              "width": 0.5
             },
             "pattern": {
              "fillmode": "overlay",
              "size": 10,
              "solidity": 0.2
             }
            },
            "type": "bar"
           }
          ],
          "barpolar": [
           {
            "marker": {
             "line": {
              "color": "#E5ECF6",
              "width": 0.5
             },
             "pattern": {
              "fillmode": "overlay",
              "size": 10,
              "solidity": 0.2
             }
            },
            "type": "barpolar"
           }
          ],
          "carpet": [
           {
            "aaxis": {
             "endlinecolor": "#2a3f5f",
             "gridcolor": "white",
             "linecolor": "white",
             "minorgridcolor": "white",
             "startlinecolor": "#2a3f5f"
            },
            "baxis": {
             "endlinecolor": "#2a3f5f",
             "gridcolor": "white",
             "linecolor": "white",
             "minorgridcolor": "white",
             "startlinecolor": "#2a3f5f"
            },
            "type": "carpet"
           }
          ],
          "choropleth": [
           {
            "colorbar": {
             "outlinewidth": 0,
             "ticks": ""
            },
            "type": "choropleth"
           }
          ],
          "contour": [
           {
            "colorbar": {
             "outlinewidth": 0,
             "ticks": ""
            },
            "colorscale": [
             [
              0,
              "#0d0887"
             ],
             [
              0.1111111111111111,
              "#46039f"
             ],
             [
              0.2222222222222222,
              "#7201a8"
             ],
             [
              0.3333333333333333,
              "#9c179e"
             ],
             [
              0.4444444444444444,
              "#bd3786"
             ],
             [
              0.5555555555555556,
              "#d8576b"
             ],
             [
              0.6666666666666666,
              "#ed7953"
             ],
             [
              0.7777777777777778,
              "#fb9f3a"
             ],
             [
              0.8888888888888888,
              "#fdca26"
             ],
             [
              1,
              "#f0f921"
             ]
            ],
            "type": "contour"
           }
          ],
          "contourcarpet": [
           {
            "colorbar": {
             "outlinewidth": 0,
             "ticks": ""
            },
            "type": "contourcarpet"
           }
          ],
          "heatmap": [
           {
            "colorbar": {
             "outlinewidth": 0,
             "ticks": ""
            },
            "colorscale": [
             [
              0,
              "#0d0887"
             ],
             [
              0.1111111111111111,
              "#46039f"
             ],
             [
              0.2222222222222222,
              "#7201a8"
             ],
             [
              0.3333333333333333,
              "#9c179e"
             ],
             [
              0.4444444444444444,
              "#bd3786"
             ],
             [
              0.5555555555555556,
              "#d8576b"
             ],
             [
              0.6666666666666666,
              "#ed7953"
             ],
             [
              0.7777777777777778,
              "#fb9f3a"
             ],
             [
              0.8888888888888888,
              "#fdca26"
             ],
             [
              1,
              "#f0f921"
             ]
            ],
            "type": "heatmap"
           }
          ],
          "heatmapgl": [
           {
            "colorbar": {
             "outlinewidth": 0,
             "ticks": ""
            },
            "colorscale": [
             [
              0,
              "#0d0887"
             ],
             [
              0.1111111111111111,
              "#46039f"
             ],
             [
              0.2222222222222222,
              "#7201a8"
             ],
             [
              0.3333333333333333,
              "#9c179e"
             ],
             [
              0.4444444444444444,
              "#bd3786"
             ],
             [
              0.5555555555555556,
              "#d8576b"
             ],
             [
              0.6666666666666666,
              "#ed7953"
             ],
             [
              0.7777777777777778,
              "#fb9f3a"
             ],
             [
              0.8888888888888888,
              "#fdca26"
             ],
             [
              1,
              "#f0f921"
             ]
            ],
            "type": "heatmapgl"
           }
          ],
          "histogram": [
           {
            "marker": {
             "pattern": {
              "fillmode": "overlay",
              "size": 10,
              "solidity": 0.2
             }
            },
            "type": "histogram"
           }
          ],
          "histogram2d": [
           {
            "colorbar": {
             "outlinewidth": 0,
             "ticks": ""
            },
            "colorscale": [
             [
              0,
              "#0d0887"
             ],
             [
              0.1111111111111111,
              "#46039f"
             ],
             [
              0.2222222222222222,
              "#7201a8"
             ],
             [
              0.3333333333333333,
              "#9c179e"
             ],
             [
              0.4444444444444444,
              "#bd3786"
             ],
             [
              0.5555555555555556,
              "#d8576b"
             ],
             [
              0.6666666666666666,
              "#ed7953"
             ],
             [
              0.7777777777777778,
              "#fb9f3a"
             ],
             [
              0.8888888888888888,
              "#fdca26"
             ],
             [
              1,
              "#f0f921"
             ]
            ],
            "type": "histogram2d"
           }
          ],
          "histogram2dcontour": [
           {
            "colorbar": {
             "outlinewidth": 0,
             "ticks": ""
            },
            "colorscale": [
             [
              0,
              "#0d0887"
             ],
             [
              0.1111111111111111,
              "#46039f"
             ],
             [
              0.2222222222222222,
              "#7201a8"
             ],
             [
              0.3333333333333333,
              "#9c179e"
             ],
             [
              0.4444444444444444,
              "#bd3786"
             ],
             [
              0.5555555555555556,
              "#d8576b"
             ],
             [
              0.6666666666666666,
              "#ed7953"
             ],
             [
              0.7777777777777778,
              "#fb9f3a"
             ],
             [
              0.8888888888888888,
              "#fdca26"
             ],
             [
              1,
              "#f0f921"
             ]
            ],
            "type": "histogram2dcontour"
           }
          ],
          "mesh3d": [
           {
            "colorbar": {
             "outlinewidth": 0,
             "ticks": ""
            },
            "type": "mesh3d"
           }
          ],
          "parcoords": [
           {
            "line": {
             "colorbar": {
              "outlinewidth": 0,
              "ticks": ""
             }
            },
            "type": "parcoords"
           }
          ],
          "pie": [
           {
            "automargin": true,
            "type": "pie"
           }
          ],
          "scatter": [
           {
            "marker": {
             "colorbar": {
              "outlinewidth": 0,
              "ticks": ""
             }
            },
            "type": "scatter"
           }
          ],
          "scatter3d": [
           {
            "line": {
             "colorbar": {
              "outlinewidth": 0,
              "ticks": ""
             }
            },
            "marker": {
             "colorbar": {
              "outlinewidth": 0,
              "ticks": ""
             }
            },
            "type": "scatter3d"
           }
          ],
          "scattercarpet": [
           {
            "marker": {
             "colorbar": {
              "outlinewidth": 0,
              "ticks": ""
             }
            },
            "type": "scattercarpet"
           }
          ],
          "scattergeo": [
           {
            "marker": {
             "colorbar": {
              "outlinewidth": 0,
              "ticks": ""
             }
            },
            "type": "scattergeo"
           }
          ],
          "scattergl": [
           {
            "marker": {
             "colorbar": {
              "outlinewidth": 0,
              "ticks": ""
             }
            },
            "type": "scattergl"
           }
          ],
          "scattermapbox": [
           {
            "marker": {
             "colorbar": {
              "outlinewidth": 0,
              "ticks": ""
             }
            },
            "type": "scattermapbox"
           }
          ],
          "scatterpolar": [
           {
            "marker": {
             "colorbar": {
              "outlinewidth": 0,
              "ticks": ""
             }
            },
            "type": "scatterpolar"
           }
          ],
          "scatterpolargl": [
           {
            "marker": {
             "colorbar": {
              "outlinewidth": 0,
              "ticks": ""
             }
            },
            "type": "scatterpolargl"
           }
          ],
          "scatterternary": [
           {
            "marker": {
             "colorbar": {
              "outlinewidth": 0,
              "ticks": ""
             }
            },
            "type": "scatterternary"
           }
          ],
          "surface": [
           {
            "colorbar": {
             "outlinewidth": 0,
             "ticks": ""
            },
            "colorscale": [
             [
              0,
              "#0d0887"
             ],
             [
              0.1111111111111111,
              "#46039f"
             ],
             [
              0.2222222222222222,
              "#7201a8"
             ],
             [
              0.3333333333333333,
              "#9c179e"
             ],
             [
              0.4444444444444444,
              "#bd3786"
             ],
             [
              0.5555555555555556,
              "#d8576b"
             ],
             [
              0.6666666666666666,
              "#ed7953"
             ],
             [
              0.7777777777777778,
              "#fb9f3a"
             ],
             [
              0.8888888888888888,
              "#fdca26"
             ],
             [
              1,
              "#f0f921"
             ]
            ],
            "type": "surface"
           }
          ],
          "table": [
           {
            "cells": {
             "fill": {
              "color": "#EBF0F8"
             },
             "line": {
              "color": "white"
             }
            },
            "header": {
             "fill": {
              "color": "#C8D4E3"
             },
             "line": {
              "color": "white"
             }
            },
            "type": "table"
           }
          ]
         },
         "layout": {
          "annotationdefaults": {
           "arrowcolor": "#2a3f5f",
           "arrowhead": 0,
           "arrowwidth": 1
          },
          "autotypenumbers": "strict",
          "coloraxis": {
           "colorbar": {
            "outlinewidth": 0,
            "ticks": ""
           }
          },
          "colorscale": {
           "diverging": [
            [
             0,
             "#8e0152"
            ],
            [
             0.1,
             "#c51b7d"
            ],
            [
             0.2,
             "#de77ae"
            ],
            [
             0.3,
             "#f1b6da"
            ],
            [
             0.4,
             "#fde0ef"
            ],
            [
             0.5,
             "#f7f7f7"
            ],
            [
             0.6,
             "#e6f5d0"
            ],
            [
             0.7,
             "#b8e186"
            ],
            [
             0.8,
             "#7fbc41"
            ],
            [
             0.9,
             "#4d9221"
            ],
            [
             1,
             "#276419"
            ]
           ],
           "sequential": [
            [
             0,
             "#0d0887"
            ],
            [
             0.1111111111111111,
             "#46039f"
            ],
            [
             0.2222222222222222,
             "#7201a8"
            ],
            [
             0.3333333333333333,
             "#9c179e"
            ],
            [
             0.4444444444444444,
             "#bd3786"
            ],
            [
             0.5555555555555556,
             "#d8576b"
            ],
            [
             0.6666666666666666,
             "#ed7953"
            ],
            [
             0.7777777777777778,
             "#fb9f3a"
            ],
            [
             0.8888888888888888,
             "#fdca26"
            ],
            [
             1,
             "#f0f921"
            ]
           ],
           "sequentialminus": [
            [
             0,
             "#0d0887"
            ],
            [
             0.1111111111111111,
             "#46039f"
            ],
            [
             0.2222222222222222,
             "#7201a8"
            ],
            [
             0.3333333333333333,
             "#9c179e"
            ],
            [
             0.4444444444444444,
             "#bd3786"
            ],
            [
             0.5555555555555556,
             "#d8576b"
            ],
            [
             0.6666666666666666,
             "#ed7953"
            ],
            [
             0.7777777777777778,
             "#fb9f3a"
            ],
            [
             0.8888888888888888,
             "#fdca26"
            ],
            [
             1,
             "#f0f921"
            ]
           ]
          },
          "colorway": [
           "#636efa",
           "#EF553B",
           "#00cc96",
           "#ab63fa",
           "#FFA15A",
           "#19d3f3",
           "#FF6692",
           "#B6E880",
           "#FF97FF",
           "#FECB52"
          ],
          "font": {
           "color": "#2a3f5f"
          },
          "geo": {
           "bgcolor": "white",
           "lakecolor": "white",
           "landcolor": "#E5ECF6",
           "showlakes": true,
           "showland": true,
           "subunitcolor": "white"
          },
          "hoverlabel": {
           "align": "left"
          },
          "hovermode": "closest",
          "mapbox": {
           "style": "light"
          },
          "paper_bgcolor": "white",
          "plot_bgcolor": "#E5ECF6",
          "polar": {
           "angularaxis": {
            "gridcolor": "white",
            "linecolor": "white",
            "ticks": ""
           },
           "bgcolor": "#E5ECF6",
           "radialaxis": {
            "gridcolor": "white",
            "linecolor": "white",
            "ticks": ""
           }
          },
          "scene": {
           "xaxis": {
            "backgroundcolor": "#E5ECF6",
            "gridcolor": "white",
            "gridwidth": 2,
            "linecolor": "white",
            "showbackground": true,
            "ticks": "",
            "zerolinecolor": "white"
           },
           "yaxis": {
            "backgroundcolor": "#E5ECF6",
            "gridcolor": "white",
            "gridwidth": 2,
            "linecolor": "white",
            "showbackground": true,
            "ticks": "",
            "zerolinecolor": "white"
           },
           "zaxis": {
            "backgroundcolor": "#E5ECF6",
            "gridcolor": "white",
            "gridwidth": 2,
            "linecolor": "white",
            "showbackground": true,
            "ticks": "",
            "zerolinecolor": "white"
           }
          },
          "shapedefaults": {
           "line": {
            "color": "#2a3f5f"
           }
          },
          "ternary": {
           "aaxis": {
            "gridcolor": "white",
            "linecolor": "white",
            "ticks": ""
           },
           "baxis": {
            "gridcolor": "white",
            "linecolor": "white",
            "ticks": ""
           },
           "bgcolor": "#E5ECF6",
           "caxis": {
            "gridcolor": "white",
            "linecolor": "white",
            "ticks": ""
           }
          },
          "title": {
           "x": 0.05
          },
          "xaxis": {
           "automargin": true,
           "gridcolor": "white",
           "linecolor": "white",
           "ticks": "",
           "title": {
            "standoff": 15
           },
           "zerolinecolor": "white",
           "zerolinewidth": 2
          },
          "yaxis": {
           "automargin": true,
           "gridcolor": "white",
           "linecolor": "white",
           "ticks": "",
           "title": {
            "standoff": 15
           },
           "zerolinecolor": "white",
           "zerolinewidth": 2
          }
         }
        },
        "title": {
         "text": "Top Ten Users by Active Weeks of Transactions"
        },
        "width": 1000
       }
      },
      "text/html": [
       "<div>                            <div id=\"41545c67-ad3b-45b6-b31a-f7a0305ec615\" class=\"plotly-graph-div\" style=\"height:1000px; width:1000px;\"></div>            <script type=\"text/javascript\">                require([\"plotly\"], function(Plotly) {                    window.PLOTLYENV=window.PLOTLYENV || {};                                    if (document.getElementById(\"41545c67-ad3b-45b6-b31a-f7a0305ec615\")) {                    Plotly.newPlot(                        \"41545c67-ad3b-45b6-b31a-f7a0305ec615\",                        [{\"domain\":{\"x\":[0.0,1.0],\"y\":[0.0,1.0]},\"hovertemplate\":\"label=%{label}<br>value=%{value}<extra></extra>\",\"labels\":[\"cd5af010-d5fa-4b0a-9fc7-43977e552ed4\",\"378a4c00-20d5-4fa6-8d12-38b2ef646e5b\",\"ef15a0c7-b7bd-4475-8bcf-38325fc79578\",\"c221b4b3-8c87-4daf-bc81-367a2451123d\",\"5d4daff8-9df1-4c0f-a9ee-7808a5d0fedb\",\"09834de5-d21f-45f2-b1e9-aee2bcbb13db\",\"f31904f4-e4cd-42d4-8a83-3e27defe3af8\",\"dcbc2846-f11d-4694-9573-4c01910a6d5f\",\"1fc626f7-68fb-443e-85b1-fa8fdf56caf9\",\"5365ef22-136b-460e-bcf9-84ca42570d29\"],\"legendgroup\":\"\",\"name\":\"\",\"showlegend\":true,\"values\":[48,46,45,37,36,34,33,28,25,23],\"type\":\"pie\"}],                        {\"template\":{\"data\":{\"bar\":[{\"error_x\":{\"color\":\"#2a3f5f\"},\"error_y\":{\"color\":\"#2a3f5f\"},\"marker\":{\"line\":{\"color\":\"#E5ECF6\",\"width\":0.5},\"pattern\":{\"fillmode\":\"overlay\",\"size\":10,\"solidity\":0.2}},\"type\":\"bar\"}],\"barpolar\":[{\"marker\":{\"line\":{\"color\":\"#E5ECF6\",\"width\":0.5},\"pattern\":{\"fillmode\":\"overlay\",\"size\":10,\"solidity\":0.2}},\"type\":\"barpolar\"}],\"carpet\":[{\"aaxis\":{\"endlinecolor\":\"#2a3f5f\",\"gridcolor\":\"white\",\"linecolor\":\"white\",\"minorgridcolor\":\"white\",\"startlinecolor\":\"#2a3f5f\"},\"baxis\":{\"endlinecolor\":\"#2a3f5f\",\"gridcolor\":\"white\",\"linecolor\":\"white\",\"minorgridcolor\":\"white\",\"startlinecolor\":\"#2a3f5f\"},\"type\":\"carpet\"}],\"choropleth\":[{\"colorbar\":{\"outlinewidth\":0,\"ticks\":\"\"},\"type\":\"choropleth\"}],\"contour\":[{\"colorbar\":{\"outlinewidth\":0,\"ticks\":\"\"},\"colorscale\":[[0.0,\"#0d0887\"],[0.1111111111111111,\"#46039f\"],[0.2222222222222222,\"#7201a8\"],[0.3333333333333333,\"#9c179e\"],[0.4444444444444444,\"#bd3786\"],[0.5555555555555556,\"#d8576b\"],[0.6666666666666666,\"#ed7953\"],[0.7777777777777778,\"#fb9f3a\"],[0.8888888888888888,\"#fdca26\"],[1.0,\"#f0f921\"]],\"type\":\"contour\"}],\"contourcarpet\":[{\"colorbar\":{\"outlinewidth\":0,\"ticks\":\"\"},\"type\":\"contourcarpet\"}],\"heatmap\":[{\"colorbar\":{\"outlinewidth\":0,\"ticks\":\"\"},\"colorscale\":[[0.0,\"#0d0887\"],[0.1111111111111111,\"#46039f\"],[0.2222222222222222,\"#7201a8\"],[0.3333333333333333,\"#9c179e\"],[0.4444444444444444,\"#bd3786\"],[0.5555555555555556,\"#d8576b\"],[0.6666666666666666,\"#ed7953\"],[0.7777777777777778,\"#fb9f3a\"],[0.8888888888888888,\"#fdca26\"],[1.0,\"#f0f921\"]],\"type\":\"heatmap\"}],\"heatmapgl\":[{\"colorbar\":{\"outlinewidth\":0,\"ticks\":\"\"},\"colorscale\":[[0.0,\"#0d0887\"],[0.1111111111111111,\"#46039f\"],[0.2222222222222222,\"#7201a8\"],[0.3333333333333333,\"#9c179e\"],[0.4444444444444444,\"#bd3786\"],[0.5555555555555556,\"#d8576b\"],[0.6666666666666666,\"#ed7953\"],[0.7777777777777778,\"#fb9f3a\"],[0.8888888888888888,\"#fdca26\"],[1.0,\"#f0f921\"]],\"type\":\"heatmapgl\"}],\"histogram\":[{\"marker\":{\"pattern\":{\"fillmode\":\"overlay\",\"size\":10,\"solidity\":0.2}},\"type\":\"histogram\"}],\"histogram2d\":[{\"colorbar\":{\"outlinewidth\":0,\"ticks\":\"\"},\"colorscale\":[[0.0,\"#0d0887\"],[0.1111111111111111,\"#46039f\"],[0.2222222222222222,\"#7201a8\"],[0.3333333333333333,\"#9c179e\"],[0.4444444444444444,\"#bd3786\"],[0.5555555555555556,\"#d8576b\"],[0.6666666666666666,\"#ed7953\"],[0.7777777777777778,\"#fb9f3a\"],[0.8888888888888888,\"#fdca26\"],[1.0,\"#f0f921\"]],\"type\":\"histogram2d\"}],\"histogram2dcontour\":[{\"colorbar\":{\"outlinewidth\":0,\"ticks\":\"\"},\"colorscale\":[[0.0,\"#0d0887\"],[0.1111111111111111,\"#46039f\"],[0.2222222222222222,\"#7201a8\"],[0.3333333333333333,\"#9c179e\"],[0.4444444444444444,\"#bd3786\"],[0.5555555555555556,\"#d8576b\"],[0.6666666666666666,\"#ed7953\"],[0.7777777777777778,\"#fb9f3a\"],[0.8888888888888888,\"#fdca26\"],[1.0,\"#f0f921\"]],\"type\":\"histogram2dcontour\"}],\"mesh3d\":[{\"colorbar\":{\"outlinewidth\":0,\"ticks\":\"\"},\"type\":\"mesh3d\"}],\"parcoords\":[{\"line\":{\"colorbar\":{\"outlinewidth\":0,\"ticks\":\"\"}},\"type\":\"parcoords\"}],\"pie\":[{\"automargin\":true,\"type\":\"pie\"}],\"scatter\":[{\"marker\":{\"colorbar\":{\"outlinewidth\":0,\"ticks\":\"\"}},\"type\":\"scatter\"}],\"scatter3d\":[{\"line\":{\"colorbar\":{\"outlinewidth\":0,\"ticks\":\"\"}},\"marker\":{\"colorbar\":{\"outlinewidth\":0,\"ticks\":\"\"}},\"type\":\"scatter3d\"}],\"scattercarpet\":[{\"marker\":{\"colorbar\":{\"outlinewidth\":0,\"ticks\":\"\"}},\"type\":\"scattercarpet\"}],\"scattergeo\":[{\"marker\":{\"colorbar\":{\"outlinewidth\":0,\"ticks\":\"\"}},\"type\":\"scattergeo\"}],\"scattergl\":[{\"marker\":{\"colorbar\":{\"outlinewidth\":0,\"ticks\":\"\"}},\"type\":\"scattergl\"}],\"scattermapbox\":[{\"marker\":{\"colorbar\":{\"outlinewidth\":0,\"ticks\":\"\"}},\"type\":\"scattermapbox\"}],\"scatterpolar\":[{\"marker\":{\"colorbar\":{\"outlinewidth\":0,\"ticks\":\"\"}},\"type\":\"scatterpolar\"}],\"scatterpolargl\":[{\"marker\":{\"colorbar\":{\"outlinewidth\":0,\"ticks\":\"\"}},\"type\":\"scatterpolargl\"}],\"scatterternary\":[{\"marker\":{\"colorbar\":{\"outlinewidth\":0,\"ticks\":\"\"}},\"type\":\"scatterternary\"}],\"surface\":[{\"colorbar\":{\"outlinewidth\":0,\"ticks\":\"\"},\"colorscale\":[[0.0,\"#0d0887\"],[0.1111111111111111,\"#46039f\"],[0.2222222222222222,\"#7201a8\"],[0.3333333333333333,\"#9c179e\"],[0.4444444444444444,\"#bd3786\"],[0.5555555555555556,\"#d8576b\"],[0.6666666666666666,\"#ed7953\"],[0.7777777777777778,\"#fb9f3a\"],[0.8888888888888888,\"#fdca26\"],[1.0,\"#f0f921\"]],\"type\":\"surface\"}],\"table\":[{\"cells\":{\"fill\":{\"color\":\"#EBF0F8\"},\"line\":{\"color\":\"white\"}},\"header\":{\"fill\":{\"color\":\"#C8D4E3\"},\"line\":{\"color\":\"white\"}},\"type\":\"table\"}]},\"layout\":{\"annotationdefaults\":{\"arrowcolor\":\"#2a3f5f\",\"arrowhead\":0,\"arrowwidth\":1},\"autotypenumbers\":\"strict\",\"coloraxis\":{\"colorbar\":{\"outlinewidth\":0,\"ticks\":\"\"}},\"colorscale\":{\"diverging\":[[0,\"#8e0152\"],[0.1,\"#c51b7d\"],[0.2,\"#de77ae\"],[0.3,\"#f1b6da\"],[0.4,\"#fde0ef\"],[0.5,\"#f7f7f7\"],[0.6,\"#e6f5d0\"],[0.7,\"#b8e186\"],[0.8,\"#7fbc41\"],[0.9,\"#4d9221\"],[1,\"#276419\"]],\"sequential\":[[0.0,\"#0d0887\"],[0.1111111111111111,\"#46039f\"],[0.2222222222222222,\"#7201a8\"],[0.3333333333333333,\"#9c179e\"],[0.4444444444444444,\"#bd3786\"],[0.5555555555555556,\"#d8576b\"],[0.6666666666666666,\"#ed7953\"],[0.7777777777777778,\"#fb9f3a\"],[0.8888888888888888,\"#fdca26\"],[1.0,\"#f0f921\"]],\"sequentialminus\":[[0.0,\"#0d0887\"],[0.1111111111111111,\"#46039f\"],[0.2222222222222222,\"#7201a8\"],[0.3333333333333333,\"#9c179e\"],[0.4444444444444444,\"#bd3786\"],[0.5555555555555556,\"#d8576b\"],[0.6666666666666666,\"#ed7953\"],[0.7777777777777778,\"#fb9f3a\"],[0.8888888888888888,\"#fdca26\"],[1.0,\"#f0f921\"]]},\"colorway\":[\"#636efa\",\"#EF553B\",\"#00cc96\",\"#ab63fa\",\"#FFA15A\",\"#19d3f3\",\"#FF6692\",\"#B6E880\",\"#FF97FF\",\"#FECB52\"],\"font\":{\"color\":\"#2a3f5f\"},\"geo\":{\"bgcolor\":\"white\",\"lakecolor\":\"white\",\"landcolor\":\"#E5ECF6\",\"showlakes\":true,\"showland\":true,\"subunitcolor\":\"white\"},\"hoverlabel\":{\"align\":\"left\"},\"hovermode\":\"closest\",\"mapbox\":{\"style\":\"light\"},\"paper_bgcolor\":\"white\",\"plot_bgcolor\":\"#E5ECF6\",\"polar\":{\"angularaxis\":{\"gridcolor\":\"white\",\"linecolor\":\"white\",\"ticks\":\"\"},\"bgcolor\":\"#E5ECF6\",\"radialaxis\":{\"gridcolor\":\"white\",\"linecolor\":\"white\",\"ticks\":\"\"}},\"scene\":{\"xaxis\":{\"backgroundcolor\":\"#E5ECF6\",\"gridcolor\":\"white\",\"gridwidth\":2,\"linecolor\":\"white\",\"showbackground\":true,\"ticks\":\"\",\"zerolinecolor\":\"white\"},\"yaxis\":{\"backgroundcolor\":\"#E5ECF6\",\"gridcolor\":\"white\",\"gridwidth\":2,\"linecolor\":\"white\",\"showbackground\":true,\"ticks\":\"\",\"zerolinecolor\":\"white\"},\"zaxis\":{\"backgroundcolor\":\"#E5ECF6\",\"gridcolor\":\"white\",\"gridwidth\":2,\"linecolor\":\"white\",\"showbackground\":true,\"ticks\":\"\",\"zerolinecolor\":\"white\"}},\"shapedefaults\":{\"line\":{\"color\":\"#2a3f5f\"}},\"ternary\":{\"aaxis\":{\"gridcolor\":\"white\",\"linecolor\":\"white\",\"ticks\":\"\"},\"baxis\":{\"gridcolor\":\"white\",\"linecolor\":\"white\",\"ticks\":\"\"},\"bgcolor\":\"#E5ECF6\",\"caxis\":{\"gridcolor\":\"white\",\"linecolor\":\"white\",\"ticks\":\"\"}},\"title\":{\"x\":0.05},\"xaxis\":{\"automargin\":true,\"gridcolor\":\"white\",\"linecolor\":\"white\",\"ticks\":\"\",\"title\":{\"standoff\":15},\"zerolinecolor\":\"white\",\"zerolinewidth\":2},\"yaxis\":{\"automargin\":true,\"gridcolor\":\"white\",\"linecolor\":\"white\",\"ticks\":\"\",\"title\":{\"standoff\":15},\"zerolinecolor\":\"white\",\"zerolinewidth\":2}}},\"legend\":{\"tracegroupgap\":0},\"title\":{\"text\":\"Top Ten Users by Active Weeks of Transactions\"},\"height\":1000,\"width\":1000},                        {\"responsive\": true}                    ).then(function(){\n",
       "                            \n",
       "var gd = document.getElementById('41545c67-ad3b-45b6-b31a-f7a0305ec615');\n",
       "var x = new MutationObserver(function (mutations, observer) {{\n",
       "        var display = window.getComputedStyle(gd).display;\n",
       "        if (!display || display === 'none') {{\n",
       "            console.log([gd, 'removed!']);\n",
       "            Plotly.purge(gd);\n",
       "            observer.disconnect();\n",
       "        }}\n",
       "}});\n",
       "\n",
       "// Listen for the removal of the full notebook cells\n",
       "var notebookContainer = gd.closest('#notebook-container');\n",
       "if (notebookContainer) {{\n",
       "    x.observe(notebookContainer, {childList: true});\n",
       "}}\n",
       "\n",
       "// Listen for the clearing of the current output cell\n",
       "var outputEl = gd.closest('.output');\n",
       "if (outputEl) {{\n",
       "    x.observe(outputEl, {childList: true});\n",
       "}}\n",
       "\n",
       "                        })                };                });            </script>        </div>"
      ]
     },
     "metadata": {},
     "output_type": "display_data"
    }
   ],
   "source": [
    "fig = px.pie(values = Active_Weeks.head(10)['No. of Active Weeks'], names = Active_Weeks.head(10)['user_id'],\n",
    "             title = \"Top Ten Users by Active Weeks of Transactions\", width = 1000, height = 1000)\n",
    "fig.show()"
   ]
  },
  {
   "attachments": {
    "Screenshot%202022-04-23%20161313.png": {
     "image/png": "[encoded data removed]"
    }
   },
   "cell_type": "markdown",
   "id": "40ef34c7",
   "metadata": {},
   "source": [
    "![Screenshot%202022-04-23%20161313.png](attachment:Screenshot%202022-04-23%20161313.png)"
   ]
  },
  {
   "cell_type": "code",
   "execution_count": 41,
   "id": "0adece27",
   "metadata": {},
   "outputs": [],
   "source": [
    "D_Frame = df.groupby(['user_id','transaction_type'])['transaction_amount'].agg('sum')\n",
    "D_Frame = D_Frame.to_frame()"
   ]
  },
  {
   "cell_type": "code",
   "execution_count": 42,
   "id": "c09849cd",
   "metadata": {},
   "outputs": [
    {
     "data": {
      "text/html": [
       "<div>\n",
       "<style scoped>\n",
       "    .dataframe tbody tr th:only-of-type {\n",
       "        vertical-align: middle;\n",
       "    }\n",
       "\n",
       "    .dataframe tbody tr th {\n",
       "        vertical-align: top;\n",
       "    }\n",
       "\n",
       "    .dataframe thead th {\n",
       "        text-align: right;\n",
       "    }\n",
       "</style>\n",
       "<table border=\"1\" class=\"dataframe\">\n",
       "  <thead>\n",
       "    <tr style=\"text-align: right;\">\n",
       "      <th></th>\n",
       "      <th></th>\n",
       "      <th>transaction_amount</th>\n",
       "    </tr>\n",
       "    <tr>\n",
       "      <th>user_id</th>\n",
       "      <th>transaction_type</th>\n",
       "      <th></th>\n",
       "    </tr>\n",
       "  </thead>\n",
       "  <tbody>\n",
       "    <tr>\n",
       "      <th rowspan=\"2\" valign=\"top\">00f8b384-248e-4998-8b90-f8f6124652c5</th>\n",
       "      <th>credit</th>\n",
       "      <td>3726125.0</td>\n",
       "    </tr>\n",
       "    <tr>\n",
       "      <th>debit</th>\n",
       "      <td>2250626.0</td>\n",
       "    </tr>\n",
       "    <tr>\n",
       "      <th rowspan=\"2\" valign=\"top\">05be2ebb-6be0-4016-bcf0-e6cf77ea24c9</th>\n",
       "      <th>credit</th>\n",
       "      <td>1372460.0</td>\n",
       "    </tr>\n",
       "    <tr>\n",
       "      <th>debit</th>\n",
       "      <td>120500.0</td>\n",
       "    </tr>\n",
       "    <tr>\n",
       "      <th>091d079f-7c52-4473-8641-ea757bcb8c69</th>\n",
       "      <th>credit</th>\n",
       "      <td>5035702.0</td>\n",
       "    </tr>\n",
       "    <tr>\n",
       "      <th>...</th>\n",
       "      <th>...</th>\n",
       "      <td>...</td>\n",
       "    </tr>\n",
       "    <tr>\n",
       "      <th>f4f0beab-bc4d-4827-9c38-768250266212</th>\n",
       "      <th>credit</th>\n",
       "      <td>820.0</td>\n",
       "    </tr>\n",
       "    <tr>\n",
       "      <th rowspan=\"2\" valign=\"top\">wr3rZpxrudOZ2zcwerRvL4RmQbC2</th>\n",
       "      <th>credit</th>\n",
       "      <td>1380000.0</td>\n",
       "    </tr>\n",
       "    <tr>\n",
       "      <th>debit</th>\n",
       "      <td>1280000.0</td>\n",
       "    </tr>\n",
       "    <tr>\n",
       "      <th rowspan=\"2\" valign=\"top\">xEPNF2kCrSSe4uwhkbMxWg8b51B2</th>\n",
       "      <th>credit</th>\n",
       "      <td>468800.0</td>\n",
       "    </tr>\n",
       "    <tr>\n",
       "      <th>debit</th>\n",
       "      <td>786000.0</td>\n",
       "    </tr>\n",
       "  </tbody>\n",
       "</table>\n",
       "<p>191 rows × 1 columns</p>\n",
       "</div>"
      ],
      "text/plain": [
       "                                                       transaction_amount\n",
       "user_id                              transaction_type                    \n",
       "00f8b384-248e-4998-8b90-f8f6124652c5 credit                     3726125.0\n",
       "                                     debit                      2250626.0\n",
       "05be2ebb-6be0-4016-bcf0-e6cf77ea24c9 credit                     1372460.0\n",
       "                                     debit                       120500.0\n",
       "091d079f-7c52-4473-8641-ea757bcb8c69 credit                     5035702.0\n",
       "...                                                                   ...\n",
       "f4f0beab-bc4d-4827-9c38-768250266212 credit                         820.0\n",
       "wr3rZpxrudOZ2zcwerRvL4RmQbC2         credit                     1380000.0\n",
       "                                     debit                      1280000.0\n",
       "xEPNF2kCrSSe4uwhkbMxWg8b51B2         credit                      468800.0\n",
       "                                     debit                       786000.0\n",
       "\n",
       "[191 rows x 1 columns]"
      ]
     },
     "execution_count": 42,
     "metadata": {},
     "output_type": "execute_result"
    }
   ],
   "source": [
    "D_Frame"
   ]
  },
  {
   "cell_type": "code",
   "execution_count": 43,
   "id": "f4962229",
   "metadata": {},
   "outputs": [],
   "source": [
    "D_Frame = D_Frame.sort_values(by = \"transaction_amount\", ascending = False)"
   ]
  },
  {
   "cell_type": "code",
   "execution_count": 44,
   "id": "ffbeb214",
   "metadata": {},
   "outputs": [],
   "source": [
    "D_Frame = D_Frame.reset_index(drop = False)"
   ]
  },
  {
   "cell_type": "code",
   "execution_count": 45,
   "id": "5d907f98",
   "metadata": {},
   "outputs": [
    {
     "data": {
      "text/plain": [
       "<pandas.core.groupby.generic.DataFrameGroupBy object at 0x0000020DEED06160>"
      ]
     },
     "execution_count": 45,
     "metadata": {},
     "output_type": "execute_result"
    }
   ],
   "source": [
    "D_Frame1 = D_Frame.groupby(['transaction_type'])\n",
    "#D_Frame = D_Frame.to_frame()\n",
    "D_Frame1"
   ]
  },
  {
   "cell_type": "code",
   "execution_count": 46,
   "id": "e9f94426",
   "metadata": {},
   "outputs": [
    {
     "data": {
      "text/html": [
       "<div>\n",
       "<style scoped>\n",
       "    .dataframe tbody tr th:only-of-type {\n",
       "        vertical-align: middle;\n",
       "    }\n",
       "\n",
       "    .dataframe tbody tr th {\n",
       "        vertical-align: top;\n",
       "    }\n",
       "\n",
       "    .dataframe thead th {\n",
       "        text-align: right;\n",
       "    }\n",
       "</style>\n",
       "<table border=\"1\" class=\"dataframe\">\n",
       "  <thead>\n",
       "    <tr style=\"text-align: right;\">\n",
       "      <th></th>\n",
       "      <th>user_id</th>\n",
       "      <th>transaction_type</th>\n",
       "      <th>transaction_amount</th>\n",
       "    </tr>\n",
       "  </thead>\n",
       "  <tbody>\n",
       "    <tr>\n",
       "      <th>0</th>\n",
       "      <td>378a4c00-20d5-4fa6-8d12-38b2ef646e5b</td>\n",
       "      <td>debit</td>\n",
       "      <td>9674009.0</td>\n",
       "    </tr>\n",
       "    <tr>\n",
       "      <th>1</th>\n",
       "      <td>f31904f4-e4cd-42d4-8a83-3e27defe3af8</td>\n",
       "      <td>debit</td>\n",
       "      <td>9646191.0</td>\n",
       "    </tr>\n",
       "    <tr>\n",
       "      <th>2</th>\n",
       "      <td>cd5af010-d5fa-4b0a-9fc7-43977e552ed4</td>\n",
       "      <td>debit</td>\n",
       "      <td>8798126.0</td>\n",
       "    </tr>\n",
       "    <tr>\n",
       "      <th>3</th>\n",
       "      <td>c221b4b3-8c87-4daf-bc81-367a2451123d</td>\n",
       "      <td>debit</td>\n",
       "      <td>8271303.0</td>\n",
       "    </tr>\n",
       "    <tr>\n",
       "      <th>4</th>\n",
       "      <td>ef15a0c7-b7bd-4475-8bcf-38325fc79578</td>\n",
       "      <td>debit</td>\n",
       "      <td>7636470.0</td>\n",
       "    </tr>\n",
       "    <tr>\n",
       "      <th>5</th>\n",
       "      <td>a596a204-79e6-4670-b1aa-baeaa70041c8</td>\n",
       "      <td>credit</td>\n",
       "      <td>7307264.0</td>\n",
       "    </tr>\n",
       "    <tr>\n",
       "      <th>6</th>\n",
       "      <td>d32a559d-30ca-4248-abce-f82ef0d15f2c</td>\n",
       "      <td>debit</td>\n",
       "      <td>6956950.0</td>\n",
       "    </tr>\n",
       "    <tr>\n",
       "      <th>7</th>\n",
       "      <td>5365ef22-136b-460e-bcf9-84ca42570d29</td>\n",
       "      <td>credit</td>\n",
       "      <td>6748145.0</td>\n",
       "    </tr>\n",
       "    <tr>\n",
       "      <th>8</th>\n",
       "      <td>d32a559d-30ca-4248-abce-f82ef0d15f2c</td>\n",
       "      <td>credit</td>\n",
       "      <td>6542146.0</td>\n",
       "    </tr>\n",
       "    <tr>\n",
       "      <th>9</th>\n",
       "      <td>ef15a0c7-b7bd-4475-8bcf-38325fc79578</td>\n",
       "      <td>credit</td>\n",
       "      <td>5889080.0</td>\n",
       "    </tr>\n",
       "    <tr>\n",
       "      <th>10</th>\n",
       "      <td>cd5af010-d5fa-4b0a-9fc7-43977e552ed4</td>\n",
       "      <td>credit</td>\n",
       "      <td>5724792.0</td>\n",
       "    </tr>\n",
       "    <tr>\n",
       "      <th>11</th>\n",
       "      <td>e330468f-2be1-4c2e-bf7c-bf0c33d3240a</td>\n",
       "      <td>debit</td>\n",
       "      <td>5387170.0</td>\n",
       "    </tr>\n",
       "    <tr>\n",
       "      <th>12</th>\n",
       "      <td>8f7e4a9a-3bc9-40d7-a8e9-bade3156633c</td>\n",
       "      <td>credit</td>\n",
       "      <td>5286901.0</td>\n",
       "    </tr>\n",
       "    <tr>\n",
       "      <th>13</th>\n",
       "      <td>378a4c00-20d5-4fa6-8d12-38b2ef646e5b</td>\n",
       "      <td>credit</td>\n",
       "      <td>5145205.0</td>\n",
       "    </tr>\n",
       "    <tr>\n",
       "      <th>14</th>\n",
       "      <td>091d079f-7c52-4473-8641-ea757bcb8c69</td>\n",
       "      <td>credit</td>\n",
       "      <td>5035702.0</td>\n",
       "    </tr>\n",
       "    <tr>\n",
       "      <th>15</th>\n",
       "      <td>5365ef22-136b-460e-bcf9-84ca42570d29</td>\n",
       "      <td>debit</td>\n",
       "      <td>5029405.0</td>\n",
       "    </tr>\n",
       "    <tr>\n",
       "      <th>16</th>\n",
       "      <td>f1599709-5d8e-4b85-bbcc-5055e0015379</td>\n",
       "      <td>debit</td>\n",
       "      <td>4841210.0</td>\n",
       "    </tr>\n",
       "    <tr>\n",
       "      <th>17</th>\n",
       "      <td>87eec234-d4d7-461b-af8e-49d8ee36e757</td>\n",
       "      <td>credit</td>\n",
       "      <td>4738101.0</td>\n",
       "    </tr>\n",
       "    <tr>\n",
       "      <th>18</th>\n",
       "      <td>d6282da6-f014-471a-af8d-66ddf4c7855b</td>\n",
       "      <td>debit</td>\n",
       "      <td>4677700.0</td>\n",
       "    </tr>\n",
       "    <tr>\n",
       "      <th>20</th>\n",
       "      <td>1fc626f7-68fb-443e-85b1-fa8fdf56caf9</td>\n",
       "      <td>credit</td>\n",
       "      <td>4409097.0</td>\n",
       "    </tr>\n",
       "  </tbody>\n",
       "</table>\n",
       "</div>"
      ],
      "text/plain": [
       "                                 user_id transaction_type  transaction_amount\n",
       "0   378a4c00-20d5-4fa6-8d12-38b2ef646e5b            debit           9674009.0\n",
       "1   f31904f4-e4cd-42d4-8a83-3e27defe3af8            debit           9646191.0\n",
       "2   cd5af010-d5fa-4b0a-9fc7-43977e552ed4            debit           8798126.0\n",
       "3   c221b4b3-8c87-4daf-bc81-367a2451123d            debit           8271303.0\n",
       "4   ef15a0c7-b7bd-4475-8bcf-38325fc79578            debit           7636470.0\n",
       "5   a596a204-79e6-4670-b1aa-baeaa70041c8           credit           7307264.0\n",
       "6   d32a559d-30ca-4248-abce-f82ef0d15f2c            debit           6956950.0\n",
       "7   5365ef22-136b-460e-bcf9-84ca42570d29           credit           6748145.0\n",
       "8   d32a559d-30ca-4248-abce-f82ef0d15f2c           credit           6542146.0\n",
       "9   ef15a0c7-b7bd-4475-8bcf-38325fc79578           credit           5889080.0\n",
       "10  cd5af010-d5fa-4b0a-9fc7-43977e552ed4           credit           5724792.0\n",
       "11  e330468f-2be1-4c2e-bf7c-bf0c33d3240a            debit           5387170.0\n",
       "12  8f7e4a9a-3bc9-40d7-a8e9-bade3156633c           credit           5286901.0\n",
       "13  378a4c00-20d5-4fa6-8d12-38b2ef646e5b           credit           5145205.0\n",
       "14  091d079f-7c52-4473-8641-ea757bcb8c69           credit           5035702.0\n",
       "15  5365ef22-136b-460e-bcf9-84ca42570d29            debit           5029405.0\n",
       "16  f1599709-5d8e-4b85-bbcc-5055e0015379            debit           4841210.0\n",
       "17  87eec234-d4d7-461b-af8e-49d8ee36e757           credit           4738101.0\n",
       "18  d6282da6-f014-471a-af8d-66ddf4c7855b            debit           4677700.0\n",
       "20  1fc626f7-68fb-443e-85b1-fa8fdf56caf9           credit           4409097.0"
      ]
     },
     "execution_count": 46,
     "metadata": {},
     "output_type": "execute_result"
    }
   ],
   "source": [
    "D_Frame1.head(10)"
   ]
  },
  {
   "cell_type": "code",
   "execution_count": 47,
   "id": "8cfd4656",
   "metadata": {
    "scrolled": false
   },
   "outputs": [
    {
     "data": {
      "application/vnd.plotly.v1+json": {
       "config": {
        "plotlyServerURL": "https://plot.ly"
       },
       "data": [
        {
         "alignmentgroup": "True",
         "hovertemplate": "Transaction type=debit<br>User=%{x}<br>Transactions (PKR)=%{y}<extra></extra>",
         "legendgroup": "debit",
         "marker": {
          "color": "#636efa",
          "pattern": {
           "shape": ""
          }
         },
         "name": "debit",
         "offsetgroup": "debit",
         "orientation": "v",
         "showlegend": true,
         "textposition": "auto",
         "type": "bar",
         "x": [
          "378a4c00-20d5-4fa6-8d12-38b2ef646e5b",
          "f31904f4-e4cd-42d4-8a83-3e27defe3af8",
          "cd5af010-d5fa-4b0a-9fc7-43977e552ed4",
          "c221b4b3-8c87-4daf-bc81-367a2451123d",
          "ef15a0c7-b7bd-4475-8bcf-38325fc79578",
          "d32a559d-30ca-4248-abce-f82ef0d15f2c",
          "e330468f-2be1-4c2e-bf7c-bf0c33d3240a",
          "5365ef22-136b-460e-bcf9-84ca42570d29",
          "f1599709-5d8e-4b85-bbcc-5055e0015379",
          "d6282da6-f014-471a-af8d-66ddf4c7855b",
          "8f7e4a9a-3bc9-40d7-a8e9-bade3156633c",
          "9cd3da80-2dce-4fdd-a2ef-fff3ec197ab8",
          "87eec234-d4d7-461b-af8e-49d8ee36e757",
          "61b1cdeb-7453-4860-af2e-850e9339ccd3",
          "dcbc2846-f11d-4694-9573-4c01910a6d5f",
          "60490330-93b3-4d20-a48c-dd26c20581e0",
          "628979fd-debc-4096-802c-66d935d35949",
          "c1b34477-2938-4128-b9ba-8fe861588e2d",
          "5d4daff8-9df1-4c0f-a9ee-7808a5d0fedb",
          "bd5c4bc7-521b-41f5-a870-4c966da9c42e",
          "4c9039d4-f4d7-4873-b3b1-3e20d2476b2c",
          "5e37421c-b9eb-4364-bf1f-1457eb17f96f",
          "52a88b20-b04d-4119-b366-c1edc720efb7",
          "1fc626f7-68fb-443e-85b1-fa8fdf56caf9",
          "a1ae02a7-27da-4b7f-b1b4-89fb36c2a398",
          "9a0fb3a9-a875-451b-ae51-02c33fd8d4a4",
          "9f3bed3b-df74-4e37-9732-3858a6f433ea",
          "47dc3a34-e2ee-4c31-9fc3-b7758e6106e0",
          "8e8d03ce-9525-499a-93b5-82066fbc8438",
          "74f824e6-3f39-4b0f-a138-de72740057ca",
          "97212561-e61a-45d2-a010-db6a0aeb379d",
          "f167380c-f271-44de-a6ff-f406e3692c1a",
          "4cd10014-8822-4b32-b874-28a14d9e720c",
          "cb8558e6-095c-476a-82b4-abbc7c864881",
          "2a8c6a99-d6de-41fa-880c-bc6b79d4cbf6",
          "74ead307-c042-4fd0-a1e7-5c12fe932f3f",
          "44118c1d-c05d-490e-ad7a-c52a1e59fb09",
          "00f8b384-248e-4998-8b90-f8f6124652c5",
          "b905b6e9-8183-4085-abb5-f4941611b920",
          "8de5f3b1-d688-46cd-822a-2abb952ddc4d",
          "1c966620-5598-4d09-8711-2e6bde37f976",
          "240d226d-54cd-407d-b918-903630c92d82",
          "091d079f-7c52-4473-8641-ea757bcb8c69",
          "bc81f324-507a-4a92-b85d-0bd81d2bea49",
          "5d9dee17-b8f5-41a7-a375-41c2aaa92c0a",
          "d40791d3-4f54-4fa3-acbf-1c04149257ac",
          "65d4985d-a41d-4b50-b57e-1185abfd9172",
          "43d03a4f-b3d9-4062-9919-fbde298f707b",
          "572b42de-8173-4b8e-b56e-ae7fc2a26584",
          "3a522ec5-34ad-4013-8b86-cdedf7b3ae4b",
          "691437d8-02e5-4de6-b814-9f172333d5bb",
          "ITntqIFk6zdrmI6Q4O0wEmqvnAP2",
          "a34dc301-b783-4fc6-9dbb-caf5e052a9b5",
          "ebfda3a3-6b37-4626-8348-f3485ddd425b",
          "cb5db925-7ce0-40ea-bb0d-f8bfaa21382a",
          "4c49a7df-9c23-4f2d-8249-1fe60f6d7b25",
          "2wZ1PvASggdQwHRAiodzKwR8ywF2",
          "a1e2eb40-babb-4527-b8ac-9dfebc2a14cc",
          "b8558634-80f4-426c-85fb-602e00a4dd8a",
          "wr3rZpxrudOZ2zcwerRvL4RmQbC2"
         ],
         "xaxis": "x",
         "y": [
          9674009,
          9646191,
          8798126,
          8271303,
          7636470,
          6956950,
          5387170,
          5029405,
          4841210,
          4677700,
          4621844,
          4258810,
          4195161,
          4122514,
          4062861,
          4000000,
          3887400,
          3854540,
          3797370,
          3687115,
          3505700,
          3454500,
          3237836,
          3233664,
          3210025,
          3184380,
          3122068,
          2993956,
          2895910,
          2706400,
          2689000,
          2676210,
          2665693,
          2364175,
          2296424,
          2291505,
          2265652,
          2250626,
          2166210,
          2156051,
          2067240,
          2038950,
          2020618,
          1953150,
          1951700,
          1927000,
          1860000,
          1842600,
          1749309,
          1733508,
          1730500,
          1659450,
          1629941,
          1547088,
          1532232,
          1496285,
          1470495,
          1447000,
          1384750,
          1280000
         ],
         "yaxis": "y"
        },
        {
         "alignmentgroup": "True",
         "hovertemplate": "Transaction type=credit<br>User=%{x}<br>Transactions (PKR)=%{y}<extra></extra>",
         "legendgroup": "credit",
         "marker": {
          "color": "#EF553B",
          "pattern": {
           "shape": ""
          }
         },
         "name": "credit",
         "offsetgroup": "credit",
         "orientation": "v",
         "showlegend": true,
         "textposition": "auto",
         "type": "bar",
         "x": [
          "a596a204-79e6-4670-b1aa-baeaa70041c8",
          "5365ef22-136b-460e-bcf9-84ca42570d29",
          "d32a559d-30ca-4248-abce-f82ef0d15f2c",
          "ef15a0c7-b7bd-4475-8bcf-38325fc79578",
          "cd5af010-d5fa-4b0a-9fc7-43977e552ed4",
          "8f7e4a9a-3bc9-40d7-a8e9-bade3156633c",
          "378a4c00-20d5-4fa6-8d12-38b2ef646e5b",
          "091d079f-7c52-4473-8641-ea757bcb8c69",
          "87eec234-d4d7-461b-af8e-49d8ee36e757",
          "1fc626f7-68fb-443e-85b1-fa8fdf56caf9",
          "dcbc2846-f11d-4694-9573-4c01910a6d5f",
          "628979fd-debc-4096-802c-66d935d35949",
          "f31904f4-e4cd-42d4-8a83-3e27defe3af8",
          "00f8b384-248e-4998-8b90-f8f6124652c5",
          "35b28e32-221f-422b-ae97-f9416afe294d",
          "240d226d-54cd-407d-b918-903630c92d82",
          "9cd3da80-2dce-4fdd-a2ef-fff3ec197ab8",
          "b905b6e9-8183-4085-abb5-f4941611b920",
          "c1b34477-2938-4128-b9ba-8fe861588e2d",
          "5d4daff8-9df1-4c0f-a9ee-7808a5d0fedb",
          "43d03a4f-b3d9-4062-9919-fbde298f707b",
          "1c966620-5598-4d09-8711-2e6bde37f976",
          "74ead307-c042-4fd0-a1e7-5c12fe932f3f",
          "f1599709-5d8e-4b85-bbcc-5055e0015379",
          "bd5c4bc7-521b-41f5-a870-4c966da9c42e",
          "61b1cdeb-7453-4860-af2e-850e9339ccd3",
          "8ce314dd-d51a-4d34-9c8a-ceca85679560",
          "4cd10014-8822-4b32-b874-28a14d9e720c",
          "f167380c-f271-44de-a6ff-f406e3692c1a",
          "52a88b20-b04d-4119-b366-c1edc720efb7",
          "4c9039d4-f4d7-4873-b3b1-3e20d2476b2c",
          "cb5db925-7ce0-40ea-bb0d-f8bfaa21382a",
          "4c49a7df-9c23-4f2d-8249-1fe60f6d7b25",
          "9f3bed3b-df74-4e37-9732-3858a6f433ea",
          "ce738ca7-46d0-446a-9b87-b59998b98c1c",
          "8de5f3b1-d688-46cd-822a-2abb952ddc4d",
          "a1ae02a7-27da-4b7f-b1b4-89fb36c2a398",
          "a755d8cb-31b3-4311-ab1d-e2831eceab0a",
          "a34dc301-b783-4fc6-9dbb-caf5e052a9b5",
          "47dc3a34-e2ee-4c31-9fc3-b7758e6106e0",
          "2a8c6a99-d6de-41fa-880c-bc6b79d4cbf6",
          "691437d8-02e5-4de6-b814-9f172333d5bb",
          "3a522ec5-34ad-4013-8b86-cdedf7b3ae4b",
          "65d4985d-a41d-4b50-b57e-1185abfd9172",
          "74f824e6-3f39-4b0f-a138-de72740057ca",
          "2e523062-83f8-4565-a6e4-a745ae8cfb15",
          "b8558634-80f4-426c-85fb-602e00a4dd8a",
          "wr3rZpxrudOZ2zcwerRvL4RmQbC2",
          "05be2ebb-6be0-4016-bcf0-e6cf77ea24c9",
          "c221b4b3-8c87-4daf-bc81-367a2451123d",
          "9fce0e99-ea1a-440b-8721-193708f84a45",
          "ebfda3a3-6b37-4626-8348-f3485ddd425b",
          "1fe1a542-f4e0-4d64-896b-dc2747becf8e",
          "34fb3e5b-66f3-47b5-8ccc-6aebacbb5ccc",
          "b366457e-9daa-4799-8bf7-c3e6e320e0fb",
          "09834de5-d21f-45f2-b1e9-aee2bcbb13db",
          "a81332fd-3665-4dbc-a91f-6c7180b96869",
          "bc81f324-507a-4a92-b85d-0bd81d2bea49",
          "572b42de-8173-4b8e-b56e-ae7fc2a26584",
          "400619c7-38f2-418b-a6c0-e8226c1183cd"
         ],
         "xaxis": "x",
         "y": [
          7307264,
          6748145,
          6542146,
          5889080,
          5724792,
          5286901,
          5145205,
          5035702,
          4738101,
          4409097,
          4238840,
          3896650,
          3727897,
          3726125,
          3607500,
          3585068,
          3570515,
          3419572,
          3388950,
          3221310,
          3016427,
          2999541,
          2900619,
          2885640,
          2873000,
          2631276,
          2553416,
          2440500,
          2425360,
          2392836,
          2322348,
          2255392,
          2120835,
          1983687,
          1974537,
          1969341,
          1940000,
          1927000,
          1925106,
          1902879,
          1793160,
          1710500,
          1640040,
          1554500,
          1495000,
          1470000,
          1435650,
          1380000,
          1372460,
          1320814,
          1195178,
          1162100,
          1008889.58,
          1000756,
          904634,
          810029.01,
          805400,
          773511,
          761076,
          726083
         ],
         "yaxis": "y"
        }
       ],
       "layout": {
        "barmode": "relative",
        "height": 1000,
        "legend": {
         "title": {
          "text": "Transaction type"
         },
         "tracegroupgap": 0
        },
        "template": {
         "data": {
          "bar": [
           {
            "error_x": {
             "color": "#2a3f5f"
            },
            "error_y": {
             "color": "#2a3f5f"
            },
            "marker": {
             "line": {
              "color": "#E5ECF6",
              "width": 0.5
             },
             "pattern": {
              "fillmode": "overlay",
              "size": 10,
              "solidity": 0.2
             }
            },
            "type": "bar"
           }
          ],
          "barpolar": [
           {
            "marker": {
             "line": {
              "color": "#E5ECF6",
              "width": 0.5
             },
             "pattern": {
              "fillmode": "overlay",
              "size": 10,
              "solidity": 0.2
             }
            },
            "type": "barpolar"
           }
          ],
          "carpet": [
           {
            "aaxis": {
             "endlinecolor": "#2a3f5f",
             "gridcolor": "white",
             "linecolor": "white",
             "minorgridcolor": "white",
             "startlinecolor": "#2a3f5f"
            },
            "baxis": {
             "endlinecolor": "#2a3f5f",
             "gridcolor": "white",
             "linecolor": "white",
             "minorgridcolor": "white",
             "startlinecolor": "#2a3f5f"
            },
            "type": "carpet"
           }
          ],
          "choropleth": [
           {
            "colorbar": {
             "outlinewidth": 0,
             "ticks": ""
            },
            "type": "choropleth"
           }
          ],
          "contour": [
           {
            "colorbar": {
             "outlinewidth": 0,
             "ticks": ""
            },
            "colorscale": [
             [
              0,
              "#0d0887"
             ],
             [
              0.1111111111111111,
              "#46039f"
             ],
             [
              0.2222222222222222,
              "#7201a8"
             ],
             [
              0.3333333333333333,
              "#9c179e"
             ],
             [
              0.4444444444444444,
              "#bd3786"
             ],
             [
              0.5555555555555556,
              "#d8576b"
             ],
             [
              0.6666666666666666,
              "#ed7953"
             ],
             [
              0.7777777777777778,
              "#fb9f3a"
             ],
             [
              0.8888888888888888,
              "#fdca26"
             ],
             [
              1,
              "#f0f921"
             ]
            ],
            "type": "contour"
           }
          ],
          "contourcarpet": [
           {
            "colorbar": {
             "outlinewidth": 0,
             "ticks": ""
            },
            "type": "contourcarpet"
           }
          ],
          "heatmap": [
           {
            "colorbar": {
             "outlinewidth": 0,
             "ticks": ""
            },
            "colorscale": [
             [
              0,
              "#0d0887"
             ],
             [
              0.1111111111111111,
              "#46039f"
             ],
             [
              0.2222222222222222,
              "#7201a8"
             ],
             [
              0.3333333333333333,
              "#9c179e"
             ],
             [
              0.4444444444444444,
              "#bd3786"
             ],
             [
              0.5555555555555556,
              "#d8576b"
             ],
             [
              0.6666666666666666,
              "#ed7953"
             ],
             [
              0.7777777777777778,
              "#fb9f3a"
             ],
             [
              0.8888888888888888,
              "#fdca26"
             ],
             [
              1,
              "#f0f921"
             ]
            ],
            "type": "heatmap"
           }
          ],
          "heatmapgl": [
           {
            "colorbar": {
             "outlinewidth": 0,
             "ticks": ""
            },
            "colorscale": [
             [
              0,
              "#0d0887"
             ],
             [
              0.1111111111111111,
              "#46039f"
             ],
             [
              0.2222222222222222,
              "#7201a8"
             ],
             [
              0.3333333333333333,
              "#9c179e"
             ],
             [
              0.4444444444444444,
              "#bd3786"
             ],
             [
              0.5555555555555556,
              "#d8576b"
             ],
             [
              0.6666666666666666,
              "#ed7953"
             ],
             [
              0.7777777777777778,
              "#fb9f3a"
             ],
             [
              0.8888888888888888,
              "#fdca26"
             ],
             [
              1,
              "#f0f921"
             ]
            ],
            "type": "heatmapgl"
           }
          ],
          "histogram": [
           {
            "marker": {
             "pattern": {
              "fillmode": "overlay",
              "size": 10,
              "solidity": 0.2
             }
            },
            "type": "histogram"
           }
          ],
          "histogram2d": [
           {
            "colorbar": {
             "outlinewidth": 0,
             "ticks": ""
            },
            "colorscale": [
             [
              0,
              "#0d0887"
             ],
             [
              0.1111111111111111,
              "#46039f"
             ],
             [
              0.2222222222222222,
              "#7201a8"
             ],
             [
              0.3333333333333333,
              "#9c179e"
             ],
             [
              0.4444444444444444,
              "#bd3786"
             ],
             [
              0.5555555555555556,
              "#d8576b"
             ],
             [
              0.6666666666666666,
              "#ed7953"
             ],
             [
              0.7777777777777778,
              "#fb9f3a"
             ],
             [
              0.8888888888888888,
              "#fdca26"
             ],
             [
              1,
              "#f0f921"
             ]
            ],
            "type": "histogram2d"
           }
          ],
          "histogram2dcontour": [
           {
            "colorbar": {
             "outlinewidth": 0,
             "ticks": ""
            },
            "colorscale": [
             [
              0,
              "#0d0887"
             ],
             [
              0.1111111111111111,
              "#46039f"
             ],
             [
              0.2222222222222222,
              "#7201a8"
             ],
             [
              0.3333333333333333,
              "#9c179e"
             ],
             [
              0.4444444444444444,
              "#bd3786"
             ],
             [
              0.5555555555555556,
              "#d8576b"
             ],
             [
              0.6666666666666666,
              "#ed7953"
             ],
             [
              0.7777777777777778,
              "#fb9f3a"
             ],
             [
              0.8888888888888888,
              "#fdca26"
             ],
             [
              1,
              "#f0f921"
             ]
            ],
            "type": "histogram2dcontour"
           }
          ],
          "mesh3d": [
           {
            "colorbar": {
             "outlinewidth": 0,
             "ticks": ""
            },
            "type": "mesh3d"
           }
          ],
          "parcoords": [
           {
            "line": {
             "colorbar": {
              "outlinewidth": 0,
              "ticks": ""
             }
            },
            "type": "parcoords"
           }
          ],
          "pie": [
           {
            "automargin": true,
            "type": "pie"
           }
          ],
          "scatter": [
           {
            "marker": {
             "colorbar": {
              "outlinewidth": 0,
              "ticks": ""
             }
            },
            "type": "scatter"
           }
          ],
          "scatter3d": [
           {
            "line": {
             "colorbar": {
              "outlinewidth": 0,
              "ticks": ""
             }
            },
            "marker": {
             "colorbar": {
              "outlinewidth": 0,
              "ticks": ""
             }
            },
            "type": "scatter3d"
           }
          ],
          "scattercarpet": [
           {
            "marker": {
             "colorbar": {
              "outlinewidth": 0,
              "ticks": ""
             }
            },
            "type": "scattercarpet"
           }
          ],
          "scattergeo": [
           {
            "marker": {
             "colorbar": {
              "outlinewidth": 0,
              "ticks": ""
             }
            },
            "type": "scattergeo"
           }
          ],
          "scattergl": [
           {
            "marker": {
             "colorbar": {
              "outlinewidth": 0,
              "ticks": ""
             }
            },
            "type": "scattergl"
           }
          ],
          "scattermapbox": [
           {
            "marker": {
             "colorbar": {
              "outlinewidth": 0,
              "ticks": ""
             }
            },
            "type": "scattermapbox"
           }
          ],
          "scatterpolar": [
           {
            "marker": {
             "colorbar": {
              "outlinewidth": 0,
              "ticks": ""
             }
            },
            "type": "scatterpolar"
           }
          ],
          "scatterpolargl": [
           {
            "marker": {
             "colorbar": {
              "outlinewidth": 0,
              "ticks": ""
             }
            },
            "type": "scatterpolargl"
           }
          ],
          "scatterternary": [
           {
            "marker": {
             "colorbar": {
              "outlinewidth": 0,
              "ticks": ""
             }
            },
            "type": "scatterternary"
           }
          ],
          "surface": [
           {
            "colorbar": {
             "outlinewidth": 0,
             "ticks": ""
            },
            "colorscale": [
             [
              0,
              "#0d0887"
             ],
             [
              0.1111111111111111,
              "#46039f"
             ],
             [
              0.2222222222222222,
              "#7201a8"
             ],
             [
              0.3333333333333333,
              "#9c179e"
             ],
             [
              0.4444444444444444,
              "#bd3786"
             ],
             [
              0.5555555555555556,
              "#d8576b"
             ],
             [
              0.6666666666666666,
              "#ed7953"
             ],
             [
              0.7777777777777778,
              "#fb9f3a"
             ],
             [
              0.8888888888888888,
              "#fdca26"
             ],
             [
              1,
              "#f0f921"
             ]
            ],
            "type": "surface"
           }
          ],
          "table": [
           {
            "cells": {
             "fill": {
              "color": "#EBF0F8"
             },
             "line": {
              "color": "white"
             }
            },
            "header": {
             "fill": {
              "color": "#C8D4E3"
             },
             "line": {
              "color": "white"
             }
            },
            "type": "table"
           }
          ]
         },
         "layout": {
          "annotationdefaults": {
           "arrowcolor": "#2a3f5f",
           "arrowhead": 0,
           "arrowwidth": 1
          },
          "autotypenumbers": "strict",
          "coloraxis": {
           "colorbar": {
            "outlinewidth": 0,
            "ticks": ""
           }
          },
          "colorscale": {
           "diverging": [
            [
             0,
             "#8e0152"
            ],
            [
             0.1,
             "#c51b7d"
            ],
            [
             0.2,
             "#de77ae"
            ],
            [
             0.3,
             "#f1b6da"
            ],
            [
             0.4,
             "#fde0ef"
            ],
            [
             0.5,
             "#f7f7f7"
            ],
            [
             0.6,
             "#e6f5d0"
            ],
            [
             0.7,
             "#b8e186"
            ],
            [
             0.8,
             "#7fbc41"
            ],
            [
             0.9,
             "#4d9221"
            ],
            [
             1,
             "#276419"
            ]
           ],
           "sequential": [
            [
             0,
             "#0d0887"
            ],
            [
             0.1111111111111111,
             "#46039f"
            ],
            [
             0.2222222222222222,
             "#7201a8"
            ],
            [
             0.3333333333333333,
             "#9c179e"
            ],
            [
             0.4444444444444444,
             "#bd3786"
            ],
            [
             0.5555555555555556,
             "#d8576b"
            ],
            [
             0.6666666666666666,
             "#ed7953"
            ],
            [
             0.7777777777777778,
             "#fb9f3a"
            ],
            [
             0.8888888888888888,
             "#fdca26"
            ],
            [
             1,
             "#f0f921"
            ]
           ],
           "sequentialminus": [
            [
             0,
             "#0d0887"
            ],
            [
             0.1111111111111111,
             "#46039f"
            ],
            [
             0.2222222222222222,
             "#7201a8"
            ],
            [
             0.3333333333333333,
             "#9c179e"
            ],
            [
             0.4444444444444444,
             "#bd3786"
            ],
            [
             0.5555555555555556,
             "#d8576b"
            ],
            [
             0.6666666666666666,
             "#ed7953"
            ],
            [
             0.7777777777777778,
             "#fb9f3a"
            ],
            [
             0.8888888888888888,
             "#fdca26"
            ],
            [
             1,
             "#f0f921"
            ]
           ]
          },
          "colorway": [
           "#636efa",
           "#EF553B",
           "#00cc96",
           "#ab63fa",
           "#FFA15A",
           "#19d3f3",
           "#FF6692",
           "#B6E880",
           "#FF97FF",
           "#FECB52"
          ],
          "font": {
           "color": "#2a3f5f"
          },
          "geo": {
           "bgcolor": "white",
           "lakecolor": "white",
           "landcolor": "#E5ECF6",
           "showlakes": true,
           "showland": true,
           "subunitcolor": "white"
          },
          "hoverlabel": {
           "align": "left"
          },
          "hovermode": "closest",
          "mapbox": {
           "style": "light"
          },
          "paper_bgcolor": "white",
          "plot_bgcolor": "#E5ECF6",
          "polar": {
           "angularaxis": {
            "gridcolor": "white",
            "linecolor": "white",
            "ticks": ""
           },
           "bgcolor": "#E5ECF6",
           "radialaxis": {
            "gridcolor": "white",
            "linecolor": "white",
            "ticks": ""
           }
          },
          "scene": {
           "xaxis": {
            "backgroundcolor": "#E5ECF6",
            "gridcolor": "white",
            "gridwidth": 2,
            "linecolor": "white",
            "showbackground": true,
            "ticks": "",
            "zerolinecolor": "white"
           },
           "yaxis": {
            "backgroundcolor": "#E5ECF6",
            "gridcolor": "white",
            "gridwidth": 2,
            "linecolor": "white",
            "showbackground": true,
            "ticks": "",
            "zerolinecolor": "white"
           },
           "zaxis": {
            "backgroundcolor": "#E5ECF6",
            "gridcolor": "white",
            "gridwidth": 2,
            "linecolor": "white",
            "showbackground": true,
            "ticks": "",
            "zerolinecolor": "white"
           }
          },
          "shapedefaults": {
           "line": {
            "color": "#2a3f5f"
           }
          },
          "ternary": {
           "aaxis": {
            "gridcolor": "white",
            "linecolor": "white",
            "ticks": ""
           },
           "baxis": {
            "gridcolor": "white",
            "linecolor": "white",
            "ticks": ""
           },
           "bgcolor": "#E5ECF6",
           "caxis": {
            "gridcolor": "white",
            "linecolor": "white",
            "ticks": ""
           }
          },
          "title": {
           "x": 0.05
          },
          "xaxis": {
           "automargin": true,
           "gridcolor": "white",
           "linecolor": "white",
           "ticks": "",
           "title": {
            "standoff": 15
           },
           "zerolinecolor": "white",
           "zerolinewidth": 2
          },
          "yaxis": {
           "automargin": true,
           "gridcolor": "white",
           "linecolor": "white",
           "ticks": "",
           "title": {
            "standoff": 15
           },
           "zerolinecolor": "white",
           "zerolinewidth": 2
          }
         }
        },
        "title": {
         "text": "Top Users by Total Credit and Debit Transactions"
        },
        "width": 1000,
        "xaxis": {
         "anchor": "y",
         "domain": [
          0,
          1
         ],
         "title": {
          "text": "User"
         }
        },
        "yaxis": {
         "anchor": "x",
         "domain": [
          0,
          1
         ],
         "title": {
          "text": "Transactions (PKR)"
         }
        }
       }
      },
      "text/html": [
       "<div>                            <div id=\"b9e02bfe-e658-4a0c-b21f-7aa7368930de\" class=\"plotly-graph-div\" style=\"height:1000px; width:1000px;\"></div>            <script type=\"text/javascript\">                require([\"plotly\"], function(Plotly) {                    window.PLOTLYENV=window.PLOTLYENV || {};                                    if (document.getElementById(\"b9e02bfe-e658-4a0c-b21f-7aa7368930de\")) {                    Plotly.newPlot(                        \"b9e02bfe-e658-4a0c-b21f-7aa7368930de\",                        [{\"alignmentgroup\":\"True\",\"hovertemplate\":\"Transaction type=debit<br>User=%{x}<br>Transactions (PKR)=%{y}<extra></extra>\",\"legendgroup\":\"debit\",\"marker\":{\"color\":\"#636efa\",\"pattern\":{\"shape\":\"\"}},\"name\":\"debit\",\"offsetgroup\":\"debit\",\"orientation\":\"v\",\"showlegend\":true,\"textposition\":\"auto\",\"x\":[\"378a4c00-20d5-4fa6-8d12-38b2ef646e5b\",\"f31904f4-e4cd-42d4-8a83-3e27defe3af8\",\"cd5af010-d5fa-4b0a-9fc7-43977e552ed4\",\"c221b4b3-8c87-4daf-bc81-367a2451123d\",\"ef15a0c7-b7bd-4475-8bcf-38325fc79578\",\"d32a559d-30ca-4248-abce-f82ef0d15f2c\",\"e330468f-2be1-4c2e-bf7c-bf0c33d3240a\",\"5365ef22-136b-460e-bcf9-84ca42570d29\",\"f1599709-5d8e-4b85-bbcc-5055e0015379\",\"d6282da6-f014-471a-af8d-66ddf4c7855b\",\"8f7e4a9a-3bc9-40d7-a8e9-bade3156633c\",\"9cd3da80-2dce-4fdd-a2ef-fff3ec197ab8\",\"87eec234-d4d7-461b-af8e-49d8ee36e757\",\"61b1cdeb-7453-4860-af2e-850e9339ccd3\",\"dcbc2846-f11d-4694-9573-4c01910a6d5f\",\"60490330-93b3-4d20-a48c-dd26c20581e0\",\"628979fd-debc-4096-802c-66d935d35949\",\"c1b34477-2938-4128-b9ba-8fe861588e2d\",\"5d4daff8-9df1-4c0f-a9ee-7808a5d0fedb\",\"bd5c4bc7-521b-41f5-a870-4c966da9c42e\",\"4c9039d4-f4d7-4873-b3b1-3e20d2476b2c\",\"5e37421c-b9eb-4364-bf1f-1457eb17f96f\",\"52a88b20-b04d-4119-b366-c1edc720efb7\",\"1fc626f7-68fb-443e-85b1-fa8fdf56caf9\",\"a1ae02a7-27da-4b7f-b1b4-89fb36c2a398\",\"9a0fb3a9-a875-451b-ae51-02c33fd8d4a4\",\"9f3bed3b-df74-4e37-9732-3858a6f433ea\",\"47dc3a34-e2ee-4c31-9fc3-b7758e6106e0\",\"8e8d03ce-9525-499a-93b5-82066fbc8438\",\"74f824e6-3f39-4b0f-a138-de72740057ca\",\"97212561-e61a-45d2-a010-db6a0aeb379d\",\"f167380c-f271-44de-a6ff-f406e3692c1a\",\"4cd10014-8822-4b32-b874-28a14d9e720c\",\"cb8558e6-095c-476a-82b4-abbc7c864881\",\"2a8c6a99-d6de-41fa-880c-bc6b79d4cbf6\",\"74ead307-c042-4fd0-a1e7-5c12fe932f3f\",\"44118c1d-c05d-490e-ad7a-c52a1e59fb09\",\"00f8b384-248e-4998-8b90-f8f6124652c5\",\"b905b6e9-8183-4085-abb5-f4941611b920\",\"8de5f3b1-d688-46cd-822a-2abb952ddc4d\",\"1c966620-5598-4d09-8711-2e6bde37f976\",\"240d226d-54cd-407d-b918-903630c92d82\",\"091d079f-7c52-4473-8641-ea757bcb8c69\",\"bc81f324-507a-4a92-b85d-0bd81d2bea49\",\"5d9dee17-b8f5-41a7-a375-41c2aaa92c0a\",\"d40791d3-4f54-4fa3-acbf-1c04149257ac\",\"65d4985d-a41d-4b50-b57e-1185abfd9172\",\"43d03a4f-b3d9-4062-9919-fbde298f707b\",\"572b42de-8173-4b8e-b56e-ae7fc2a26584\",\"3a522ec5-34ad-4013-8b86-cdedf7b3ae4b\",\"691437d8-02e5-4de6-b814-9f172333d5bb\",\"ITntqIFk6zdrmI6Q4O0wEmqvnAP2\",\"a34dc301-b783-4fc6-9dbb-caf5e052a9b5\",\"ebfda3a3-6b37-4626-8348-f3485ddd425b\",\"cb5db925-7ce0-40ea-bb0d-f8bfaa21382a\",\"4c49a7df-9c23-4f2d-8249-1fe60f6d7b25\",\"2wZ1PvASggdQwHRAiodzKwR8ywF2\",\"a1e2eb40-babb-4527-b8ac-9dfebc2a14cc\",\"b8558634-80f4-426c-85fb-602e00a4dd8a\",\"wr3rZpxrudOZ2zcwerRvL4RmQbC2\"],\"xaxis\":\"x\",\"y\":[9674009.0,9646191.0,8798126.0,8271303.0,7636470.0,6956950.0,5387170.0,5029405.0,4841210.0,4677700.0,4621844.0,4258810.0,4195161.0,4122514.0,4062861.0,4000000.0,3887400.0,3854540.0,3797370.0,3687115.0,3505700.0,3454500.0,3237836.0,3233664.0,3210025.0,3184380.0,3122068.0,2993956.0,2895910.0,2706400.0,2689000.0,2676210.0,2665693.0,2364175.0,2296424.0,2291505.0,2265652.0,2250626.0,2166210.0,2156051.0,2067240.0,2038950.0,2020618.0,1953150.0,1951700.0,1927000.0,1860000.0,1842600.0,1749309.0,1733508.0,1730500.0,1659450.0,1629941.0,1547088.0,1532232.0,1496285.0,1470495.0,1447000.0,1384750.0,1280000.0],\"yaxis\":\"y\",\"type\":\"bar\"},{\"alignmentgroup\":\"True\",\"hovertemplate\":\"Transaction type=credit<br>User=%{x}<br>Transactions (PKR)=%{y}<extra></extra>\",\"legendgroup\":\"credit\",\"marker\":{\"color\":\"#EF553B\",\"pattern\":{\"shape\":\"\"}},\"name\":\"credit\",\"offsetgroup\":\"credit\",\"orientation\":\"v\",\"showlegend\":true,\"textposition\":\"auto\",\"x\":[\"a596a204-79e6-4670-b1aa-baeaa70041c8\",\"5365ef22-136b-460e-bcf9-84ca42570d29\",\"d32a559d-30ca-4248-abce-f82ef0d15f2c\",\"ef15a0c7-b7bd-4475-8bcf-38325fc79578\",\"cd5af010-d5fa-4b0a-9fc7-43977e552ed4\",\"8f7e4a9a-3bc9-40d7-a8e9-bade3156633c\",\"378a4c00-20d5-4fa6-8d12-38b2ef646e5b\",\"091d079f-7c52-4473-8641-ea757bcb8c69\",\"87eec234-d4d7-461b-af8e-49d8ee36e757\",\"1fc626f7-68fb-443e-85b1-fa8fdf56caf9\",\"dcbc2846-f11d-4694-9573-4c01910a6d5f\",\"628979fd-debc-4096-802c-66d935d35949\",\"f31904f4-e4cd-42d4-8a83-3e27defe3af8\",\"00f8b384-248e-4998-8b90-f8f6124652c5\",\"35b28e32-221f-422b-ae97-f9416afe294d\",\"240d226d-54cd-407d-b918-903630c92d82\",\"9cd3da80-2dce-4fdd-a2ef-fff3ec197ab8\",\"b905b6e9-8183-4085-abb5-f4941611b920\",\"c1b34477-2938-4128-b9ba-8fe861588e2d\",\"5d4daff8-9df1-4c0f-a9ee-7808a5d0fedb\",\"43d03a4f-b3d9-4062-9919-fbde298f707b\",\"1c966620-5598-4d09-8711-2e6bde37f976\",\"74ead307-c042-4fd0-a1e7-5c12fe932f3f\",\"f1599709-5d8e-4b85-bbcc-5055e0015379\",\"bd5c4bc7-521b-41f5-a870-4c966da9c42e\",\"61b1cdeb-7453-4860-af2e-850e9339ccd3\",\"8ce314dd-d51a-4d34-9c8a-ceca85679560\",\"4cd10014-8822-4b32-b874-28a14d9e720c\",\"f167380c-f271-44de-a6ff-f406e3692c1a\",\"52a88b20-b04d-4119-b366-c1edc720efb7\",\"4c9039d4-f4d7-4873-b3b1-3e20d2476b2c\",\"cb5db925-7ce0-40ea-bb0d-f8bfaa21382a\",\"4c49a7df-9c23-4f2d-8249-1fe60f6d7b25\",\"9f3bed3b-df74-4e37-9732-3858a6f433ea\",\"ce738ca7-46d0-446a-9b87-b59998b98c1c\",\"8de5f3b1-d688-46cd-822a-2abb952ddc4d\",\"a1ae02a7-27da-4b7f-b1b4-89fb36c2a398\",\"a755d8cb-31b3-4311-ab1d-e2831eceab0a\",\"a34dc301-b783-4fc6-9dbb-caf5e052a9b5\",\"47dc3a34-e2ee-4c31-9fc3-b7758e6106e0\",\"2a8c6a99-d6de-41fa-880c-bc6b79d4cbf6\",\"691437d8-02e5-4de6-b814-9f172333d5bb\",\"3a522ec5-34ad-4013-8b86-cdedf7b3ae4b\",\"65d4985d-a41d-4b50-b57e-1185abfd9172\",\"74f824e6-3f39-4b0f-a138-de72740057ca\",\"2e523062-83f8-4565-a6e4-a745ae8cfb15\",\"b8558634-80f4-426c-85fb-602e00a4dd8a\",\"wr3rZpxrudOZ2zcwerRvL4RmQbC2\",\"05be2ebb-6be0-4016-bcf0-e6cf77ea24c9\",\"c221b4b3-8c87-4daf-bc81-367a2451123d\",\"9fce0e99-ea1a-440b-8721-193708f84a45\",\"ebfda3a3-6b37-4626-8348-f3485ddd425b\",\"1fe1a542-f4e0-4d64-896b-dc2747becf8e\",\"34fb3e5b-66f3-47b5-8ccc-6aebacbb5ccc\",\"b366457e-9daa-4799-8bf7-c3e6e320e0fb\",\"09834de5-d21f-45f2-b1e9-aee2bcbb13db\",\"a81332fd-3665-4dbc-a91f-6c7180b96869\",\"bc81f324-507a-4a92-b85d-0bd81d2bea49\",\"572b42de-8173-4b8e-b56e-ae7fc2a26584\",\"400619c7-38f2-418b-a6c0-e8226c1183cd\"],\"xaxis\":\"x\",\"y\":[7307264.0,6748145.0,6542146.0,5889080.0,5724792.0,5286901.0,5145205.0,5035702.0,4738101.0,4409097.0,4238840.0,3896650.0,3727897.0,3726125.0,3607500.0,3585068.0,3570515.0,3419572.0,3388950.0,3221310.0,3016427.0,2999541.0,2900619.0,2885640.0,2873000.0,2631276.0,2553416.0,2440500.0,2425360.0,2392836.0,2322348.0,2255392.0,2120835.0,1983687.0,1974537.0,1969341.0,1940000.0,1927000.0,1925106.0,1902879.0,1793160.0,1710500.0,1640040.0,1554500.0,1495000.0,1470000.0,1435650.0,1380000.0,1372460.0,1320814.0,1195178.0,1162100.0,1008889.58,1000756.0,904634.0,810029.01,805400.0,773511.0,761076.0,726083.0],\"yaxis\":\"y\",\"type\":\"bar\"}],                        {\"template\":{\"data\":{\"bar\":[{\"error_x\":{\"color\":\"#2a3f5f\"},\"error_y\":{\"color\":\"#2a3f5f\"},\"marker\":{\"line\":{\"color\":\"#E5ECF6\",\"width\":0.5},\"pattern\":{\"fillmode\":\"overlay\",\"size\":10,\"solidity\":0.2}},\"type\":\"bar\"}],\"barpolar\":[{\"marker\":{\"line\":{\"color\":\"#E5ECF6\",\"width\":0.5},\"pattern\":{\"fillmode\":\"overlay\",\"size\":10,\"solidity\":0.2}},\"type\":\"barpolar\"}],\"carpet\":[{\"aaxis\":{\"endlinecolor\":\"#2a3f5f\",\"gridcolor\":\"white\",\"linecolor\":\"white\",\"minorgridcolor\":\"white\",\"startlinecolor\":\"#2a3f5f\"},\"baxis\":{\"endlinecolor\":\"#2a3f5f\",\"gridcolor\":\"white\",\"linecolor\":\"white\",\"minorgridcolor\":\"white\",\"startlinecolor\":\"#2a3f5f\"},\"type\":\"carpet\"}],\"choropleth\":[{\"colorbar\":{\"outlinewidth\":0,\"ticks\":\"\"},\"type\":\"choropleth\"}],\"contour\":[{\"colorbar\":{\"outlinewidth\":0,\"ticks\":\"\"},\"colorscale\":[[0.0,\"#0d0887\"],[0.1111111111111111,\"#46039f\"],[0.2222222222222222,\"#7201a8\"],[0.3333333333333333,\"#9c179e\"],[0.4444444444444444,\"#bd3786\"],[0.5555555555555556,\"#d8576b\"],[0.6666666666666666,\"#ed7953\"],[0.7777777777777778,\"#fb9f3a\"],[0.8888888888888888,\"#fdca26\"],[1.0,\"#f0f921\"]],\"type\":\"contour\"}],\"contourcarpet\":[{\"colorbar\":{\"outlinewidth\":0,\"ticks\":\"\"},\"type\":\"contourcarpet\"}],\"heatmap\":[{\"colorbar\":{\"outlinewidth\":0,\"ticks\":\"\"},\"colorscale\":[[0.0,\"#0d0887\"],[0.1111111111111111,\"#46039f\"],[0.2222222222222222,\"#7201a8\"],[0.3333333333333333,\"#9c179e\"],[0.4444444444444444,\"#bd3786\"],[0.5555555555555556,\"#d8576b\"],[0.6666666666666666,\"#ed7953\"],[0.7777777777777778,\"#fb9f3a\"],[0.8888888888888888,\"#fdca26\"],[1.0,\"#f0f921\"]],\"type\":\"heatmap\"}],\"heatmapgl\":[{\"colorbar\":{\"outlinewidth\":0,\"ticks\":\"\"},\"colorscale\":[[0.0,\"#0d0887\"],[0.1111111111111111,\"#46039f\"],[0.2222222222222222,\"#7201a8\"],[0.3333333333333333,\"#9c179e\"],[0.4444444444444444,\"#bd3786\"],[0.5555555555555556,\"#d8576b\"],[0.6666666666666666,\"#ed7953\"],[0.7777777777777778,\"#fb9f3a\"],[0.8888888888888888,\"#fdca26\"],[1.0,\"#f0f921\"]],\"type\":\"heatmapgl\"}],\"histogram\":[{\"marker\":{\"pattern\":{\"fillmode\":\"overlay\",\"size\":10,\"solidity\":0.2}},\"type\":\"histogram\"}],\"histogram2d\":[{\"colorbar\":{\"outlinewidth\":0,\"ticks\":\"\"},\"colorscale\":[[0.0,\"#0d0887\"],[0.1111111111111111,\"#46039f\"],[0.2222222222222222,\"#7201a8\"],[0.3333333333333333,\"#9c179e\"],[0.4444444444444444,\"#bd3786\"],[0.5555555555555556,\"#d8576b\"],[0.6666666666666666,\"#ed7953\"],[0.7777777777777778,\"#fb9f3a\"],[0.8888888888888888,\"#fdca26\"],[1.0,\"#f0f921\"]],\"type\":\"histogram2d\"}],\"histogram2dcontour\":[{\"colorbar\":{\"outlinewidth\":0,\"ticks\":\"\"},\"colorscale\":[[0.0,\"#0d0887\"],[0.1111111111111111,\"#46039f\"],[0.2222222222222222,\"#7201a8\"],[0.3333333333333333,\"#9c179e\"],[0.4444444444444444,\"#bd3786\"],[0.5555555555555556,\"#d8576b\"],[0.6666666666666666,\"#ed7953\"],[0.7777777777777778,\"#fb9f3a\"],[0.8888888888888888,\"#fdca26\"],[1.0,\"#f0f921\"]],\"type\":\"histogram2dcontour\"}],\"mesh3d\":[{\"colorbar\":{\"outlinewidth\":0,\"ticks\":\"\"},\"type\":\"mesh3d\"}],\"parcoords\":[{\"line\":{\"colorbar\":{\"outlinewidth\":0,\"ticks\":\"\"}},\"type\":\"parcoords\"}],\"pie\":[{\"automargin\":true,\"type\":\"pie\"}],\"scatter\":[{\"marker\":{\"colorbar\":{\"outlinewidth\":0,\"ticks\":\"\"}},\"type\":\"scatter\"}],\"scatter3d\":[{\"line\":{\"colorbar\":{\"outlinewidth\":0,\"ticks\":\"\"}},\"marker\":{\"colorbar\":{\"outlinewidth\":0,\"ticks\":\"\"}},\"type\":\"scatter3d\"}],\"scattercarpet\":[{\"marker\":{\"colorbar\":{\"outlinewidth\":0,\"ticks\":\"\"}},\"type\":\"scattercarpet\"}],\"scattergeo\":[{\"marker\":{\"colorbar\":{\"outlinewidth\":0,\"ticks\":\"\"}},\"type\":\"scattergeo\"}],\"scattergl\":[{\"marker\":{\"colorbar\":{\"outlinewidth\":0,\"ticks\":\"\"}},\"type\":\"scattergl\"}],\"scattermapbox\":[{\"marker\":{\"colorbar\":{\"outlinewidth\":0,\"ticks\":\"\"}},\"type\":\"scattermapbox\"}],\"scatterpolar\":[{\"marker\":{\"colorbar\":{\"outlinewidth\":0,\"ticks\":\"\"}},\"type\":\"scatterpolar\"}],\"scatterpolargl\":[{\"marker\":{\"colorbar\":{\"outlinewidth\":0,\"ticks\":\"\"}},\"type\":\"scatterpolargl\"}],\"scatterternary\":[{\"marker\":{\"colorbar\":{\"outlinewidth\":0,\"ticks\":\"\"}},\"type\":\"scatterternary\"}],\"surface\":[{\"colorbar\":{\"outlinewidth\":0,\"ticks\":\"\"},\"colorscale\":[[0.0,\"#0d0887\"],[0.1111111111111111,\"#46039f\"],[0.2222222222222222,\"#7201a8\"],[0.3333333333333333,\"#9c179e\"],[0.4444444444444444,\"#bd3786\"],[0.5555555555555556,\"#d8576b\"],[0.6666666666666666,\"#ed7953\"],[0.7777777777777778,\"#fb9f3a\"],[0.8888888888888888,\"#fdca26\"],[1.0,\"#f0f921\"]],\"type\":\"surface\"}],\"table\":[{\"cells\":{\"fill\":{\"color\":\"#EBF0F8\"},\"line\":{\"color\":\"white\"}},\"header\":{\"fill\":{\"color\":\"#C8D4E3\"},\"line\":{\"color\":\"white\"}},\"type\":\"table\"}]},\"layout\":{\"annotationdefaults\":{\"arrowcolor\":\"#2a3f5f\",\"arrowhead\":0,\"arrowwidth\":1},\"autotypenumbers\":\"strict\",\"coloraxis\":{\"colorbar\":{\"outlinewidth\":0,\"ticks\":\"\"}},\"colorscale\":{\"diverging\":[[0,\"#8e0152\"],[0.1,\"#c51b7d\"],[0.2,\"#de77ae\"],[0.3,\"#f1b6da\"],[0.4,\"#fde0ef\"],[0.5,\"#f7f7f7\"],[0.6,\"#e6f5d0\"],[0.7,\"#b8e186\"],[0.8,\"#7fbc41\"],[0.9,\"#4d9221\"],[1,\"#276419\"]],\"sequential\":[[0.0,\"#0d0887\"],[0.1111111111111111,\"#46039f\"],[0.2222222222222222,\"#7201a8\"],[0.3333333333333333,\"#9c179e\"],[0.4444444444444444,\"#bd3786\"],[0.5555555555555556,\"#d8576b\"],[0.6666666666666666,\"#ed7953\"],[0.7777777777777778,\"#fb9f3a\"],[0.8888888888888888,\"#fdca26\"],[1.0,\"#f0f921\"]],\"sequentialminus\":[[0.0,\"#0d0887\"],[0.1111111111111111,\"#46039f\"],[0.2222222222222222,\"#7201a8\"],[0.3333333333333333,\"#9c179e\"],[0.4444444444444444,\"#bd3786\"],[0.5555555555555556,\"#d8576b\"],[0.6666666666666666,\"#ed7953\"],[0.7777777777777778,\"#fb9f3a\"],[0.8888888888888888,\"#fdca26\"],[1.0,\"#f0f921\"]]},\"colorway\":[\"#636efa\",\"#EF553B\",\"#00cc96\",\"#ab63fa\",\"#FFA15A\",\"#19d3f3\",\"#FF6692\",\"#B6E880\",\"#FF97FF\",\"#FECB52\"],\"font\":{\"color\":\"#2a3f5f\"},\"geo\":{\"bgcolor\":\"white\",\"lakecolor\":\"white\",\"landcolor\":\"#E5ECF6\",\"showlakes\":true,\"showland\":true,\"subunitcolor\":\"white\"},\"hoverlabel\":{\"align\":\"left\"},\"hovermode\":\"closest\",\"mapbox\":{\"style\":\"light\"},\"paper_bgcolor\":\"white\",\"plot_bgcolor\":\"#E5ECF6\",\"polar\":{\"angularaxis\":{\"gridcolor\":\"white\",\"linecolor\":\"white\",\"ticks\":\"\"},\"bgcolor\":\"#E5ECF6\",\"radialaxis\":{\"gridcolor\":\"white\",\"linecolor\":\"white\",\"ticks\":\"\"}},\"scene\":{\"xaxis\":{\"backgroundcolor\":\"#E5ECF6\",\"gridcolor\":\"white\",\"gridwidth\":2,\"linecolor\":\"white\",\"showbackground\":true,\"ticks\":\"\",\"zerolinecolor\":\"white\"},\"yaxis\":{\"backgroundcolor\":\"#E5ECF6\",\"gridcolor\":\"white\",\"gridwidth\":2,\"linecolor\":\"white\",\"showbackground\":true,\"ticks\":\"\",\"zerolinecolor\":\"white\"},\"zaxis\":{\"backgroundcolor\":\"#E5ECF6\",\"gridcolor\":\"white\",\"gridwidth\":2,\"linecolor\":\"white\",\"showbackground\":true,\"ticks\":\"\",\"zerolinecolor\":\"white\"}},\"shapedefaults\":{\"line\":{\"color\":\"#2a3f5f\"}},\"ternary\":{\"aaxis\":{\"gridcolor\":\"white\",\"linecolor\":\"white\",\"ticks\":\"\"},\"baxis\":{\"gridcolor\":\"white\",\"linecolor\":\"white\",\"ticks\":\"\"},\"bgcolor\":\"#E5ECF6\",\"caxis\":{\"gridcolor\":\"white\",\"linecolor\":\"white\",\"ticks\":\"\"}},\"title\":{\"x\":0.05},\"xaxis\":{\"automargin\":true,\"gridcolor\":\"white\",\"linecolor\":\"white\",\"ticks\":\"\",\"title\":{\"standoff\":15},\"zerolinecolor\":\"white\",\"zerolinewidth\":2},\"yaxis\":{\"automargin\":true,\"gridcolor\":\"white\",\"linecolor\":\"white\",\"ticks\":\"\",\"title\":{\"standoff\":15},\"zerolinecolor\":\"white\",\"zerolinewidth\":2}}},\"xaxis\":{\"anchor\":\"y\",\"domain\":[0.0,1.0],\"title\":{\"text\":\"User\"}},\"yaxis\":{\"anchor\":\"x\",\"domain\":[0.0,1.0],\"title\":{\"text\":\"Transactions (PKR)\"}},\"legend\":{\"title\":{\"text\":\"Transaction type\"},\"tracegroupgap\":0},\"title\":{\"text\":\"Top Users by Total Credit and Debit Transactions\"},\"barmode\":\"relative\",\"height\":1000,\"width\":1000},                        {\"responsive\": true}                    ).then(function(){\n",
       "                            \n",
       "var gd = document.getElementById('b9e02bfe-e658-4a0c-b21f-7aa7368930de');\n",
       "var x = new MutationObserver(function (mutations, observer) {{\n",
       "        var display = window.getComputedStyle(gd).display;\n",
       "        if (!display || display === 'none') {{\n",
       "            console.log([gd, 'removed!']);\n",
       "            Plotly.purge(gd);\n",
       "            observer.disconnect();\n",
       "        }}\n",
       "}});\n",
       "\n",
       "// Listen for the removal of the full notebook cells\n",
       "var notebookContainer = gd.closest('#notebook-container');\n",
       "if (notebookContainer) {{\n",
       "    x.observe(notebookContainer, {childList: true});\n",
       "}}\n",
       "\n",
       "// Listen for the clearing of the current output cell\n",
       "var outputEl = gd.closest('.output');\n",
       "if (outputEl) {{\n",
       "    x.observe(outputEl, {childList: true});\n",
       "}}\n",
       "\n",
       "                        })                };                });            </script>        </div>"
      ]
     },
     "metadata": {},
     "output_type": "display_data"
    }
   ],
   "source": [
    "fig = px.bar(D_Frame1.head(60), x = 'user_id', y = 'transaction_amount', color = 'transaction_type',\n",
    "             title = \"Top Users by Total Credit and Debit Transactions\",\n",
    "             labels = {\"transaction_type\": \"Transaction type\", \"transaction_amount\":\"Transactions (PKR)\",\"user_id\":\"User\"},\n",
    "             height = 1000 , width = 1000)\n",
    "fig.show()"
   ]
  },
  {
   "attachments": {
    "Screenshot%202022-04-23%20161344.png": {
     "image/png": "[encoded data removed]"
    }
   },
   "cell_type": "markdown",
   "id": "344c1298",
   "metadata": {},
   "source": [
    "![Screenshot%202022-04-23%20161344.png](attachment:Screenshot%202022-04-23%20161344.png)"
   ]
  },
  {
   "cell_type": "markdown",
   "id": "47e4b22e",
   "metadata": {},
   "source": [
    "&nbsp;\n",
    "\n",
    "**When a company's income statement is compiled, a profitable business has a surplus of *'credit'* against it's *'debit'*\n",
    "indicating that the business is profitable. High debit is not always a bad thing, (it could indicate a business buying assets\n",
    "and reinvesting into itself in short term) more data would be required such as the nature of customer_id**"
   ]
  }
 ],
 "metadata": {
  "kernelspec": {
   "display_name": "Python 3 (ipykernel)",
   "language": "python",
   "name": "python3"
  },
  "language_info": {
   "codemirror_mode": {
    "name": "ipython",
    "version": 3
   },
   "file_extension": ".py",
   "mimetype": "text/x-python",
   "name": "python",
   "nbconvert_exporter": "python",
   "pygments_lexer": "ipython3",
   "version": "3.9.7"
  }
 },
 "nbformat": 4,
 "nbformat_minor": 5
}
